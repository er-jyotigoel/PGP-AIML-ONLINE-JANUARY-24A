{
  "cells": [
    {
      "cell_type": "markdown",
      "metadata": {
        "id": "view-in-github",
        "colab_type": "text"
      },
      "source": [
        "<a href=\"https://colab.research.google.com/github/er-jyotigoel/PGP-AIML-ONLINE-JANUARY-24A/blob/Module1-Introduction-to-Python/Self_Study.ipynb\" target=\"_parent\"><img src=\"https://colab.research.google.com/assets/colab-badge.svg\" alt=\"Open In Colab\"/></a>"
      ]
    },
    {
      "cell_type": "code",
      "execution_count": 1,
      "id": "21f649f0",
      "metadata": {
        "id": "21f649f0"
      },
      "outputs": [],
      "source": [
        "import numpy as np\n",
        "import pandas as pd"
      ]
    },
    {
      "cell_type": "code",
      "source": [
        "from google.colab import drive\n",
        "drive.mount('/content/drive')"
      ],
      "metadata": {
        "colab": {
          "base_uri": "https://localhost:8080/"
        },
        "id": "4UiisunUvIXV",
        "outputId": "1fe6431d-4f57-4540-e5bf-05a8173ca549"
      },
      "id": "4UiisunUvIXV",
      "execution_count": 2,
      "outputs": [
        {
          "output_type": "stream",
          "name": "stdout",
          "text": [
            "Mounted at /content/drive\n"
          ]
        }
      ]
    },
    {
      "cell_type": "code",
      "execution_count": 3,
      "id": "c7c9da41",
      "metadata": {
        "colab": {
          "base_uri": "https://localhost:8080/"
        },
        "id": "c7c9da41",
        "outputId": "17f0dc9c-0716-471d-cc83-9f6d673de700"
      },
      "outputs": [
        {
          "output_type": "stream",
          "name": "stdout",
          "text": [
            "[[ 0  1  2]\n",
            " [ 3  4  5]\n",
            " [ 6  7  8]\n",
            " [ 9 10 11]]\n"
          ]
        }
      ],
      "source": [
        "vec1 = np.arange(0, 12)\n",
        "vec2 = vec1.reshape(4, 3)\n",
        "print(vec2)"
      ]
    },
    {
      "cell_type": "code",
      "execution_count": 4,
      "id": "f1c8dd8a",
      "metadata": {
        "colab": {
          "base_uri": "https://localhost:8080/"
        },
        "id": "f1c8dd8a",
        "outputId": "d2030a29-640a-4717-c403-c85a70861ca0"
      },
      "outputs": [
        {
          "output_type": "execute_result",
          "data": {
            "text/plain": [
              "array([ 0,  1,  2,  3,  4,  5,  6,  7,  8,  9, 10, 11])"
            ]
          },
          "metadata": {},
          "execution_count": 4
        }
      ],
      "source": [
        "vec1"
      ]
    },
    {
      "cell_type": "code",
      "execution_count": 5,
      "id": "b58b7ce3",
      "metadata": {
        "colab": {
          "base_uri": "https://localhost:8080/"
        },
        "id": "b58b7ce3",
        "outputId": "fa4dfbbf-a3e4-46e5-f90d-f395233c3758"
      },
      "outputs": [
        {
          "output_type": "execute_result",
          "data": {
            "text/plain": [
              "array([[ 0,  1,  2],\n",
              "       [ 3,  4,  5],\n",
              "       [ 6,  7,  8],\n",
              "       [ 9, 10, 11]])"
            ]
          },
          "metadata": {},
          "execution_count": 5
        }
      ],
      "source": [
        "vec2"
      ]
    },
    {
      "cell_type": "code",
      "execution_count": 6,
      "id": "c4daa830",
      "metadata": {
        "id": "c4daa830"
      },
      "outputs": [],
      "source": [
        "arr = np.array([1, 2, 3, 4, 5, 6, 7, 8, 9, 10, 11, 12])"
      ]
    },
    {
      "cell_type": "code",
      "execution_count": 7,
      "id": "9a0ed09d",
      "metadata": {
        "colab": {
          "base_uri": "https://localhost:8080/",
          "height": 197
        },
        "id": "9a0ed09d",
        "outputId": "8871c3e4-039a-43c4-dd5d-21e1cc4719f9"
      },
      "outputs": [
        {
          "output_type": "error",
          "ename": "ValueError",
          "evalue": "cannot reshape array of size 12 into shape (3,5)",
          "traceback": [
            "\u001b[0;31m---------------------------------------------------------------------------\u001b[0m",
            "\u001b[0;31mValueError\u001b[0m                                Traceback (most recent call last)",
            "\u001b[0;32m<ipython-input-7-a3fe60092b41>\u001b[0m in \u001b[0;36m<cell line: 1>\u001b[0;34m()\u001b[0m\n\u001b[0;32m----> 1\u001b[0;31m \u001b[0mnewarr\u001b[0m \u001b[0;34m=\u001b[0m \u001b[0marr\u001b[0m\u001b[0;34m.\u001b[0m\u001b[0mreshape\u001b[0m\u001b[0;34m(\u001b[0m\u001b[0;36m3\u001b[0m\u001b[0;34m,\u001b[0m \u001b[0;36m5\u001b[0m\u001b[0;34m)\u001b[0m\u001b[0;34m\u001b[0m\u001b[0;34m\u001b[0m\u001b[0m\n\u001b[0m\u001b[1;32m      2\u001b[0m \u001b[0mnewarr\u001b[0m\u001b[0;34m\u001b[0m\u001b[0;34m\u001b[0m\u001b[0m\n",
            "\u001b[0;31mValueError\u001b[0m: cannot reshape array of size 12 into shape (3,5)"
          ]
        }
      ],
      "source": [
        "newarr = arr.reshape(3, 5)\n",
        "newarr"
      ]
    },
    {
      "cell_type": "code",
      "execution_count": 8,
      "id": "edb8a3f6",
      "metadata": {
        "colab": {
          "base_uri": "https://localhost:8080/",
          "height": 179
        },
        "id": "edb8a3f6",
        "outputId": "cdb9af3d-3d4b-4330-c35a-2a4bda55a470"
      },
      "outputs": [
        {
          "output_type": "error",
          "ename": "ValueError",
          "evalue": "cannot reshape array of size 12 into shape (5,3)",
          "traceback": [
            "\u001b[0;31m---------------------------------------------------------------------------\u001b[0m",
            "\u001b[0;31mValueError\u001b[0m                                Traceback (most recent call last)",
            "\u001b[0;32m<ipython-input-8-6f95f393504c>\u001b[0m in \u001b[0;36m<cell line: 1>\u001b[0;34m()\u001b[0m\n\u001b[0;32m----> 1\u001b[0;31m \u001b[0mnewarr\u001b[0m \u001b[0;34m=\u001b[0m \u001b[0marr\u001b[0m\u001b[0;34m.\u001b[0m\u001b[0mreshape\u001b[0m\u001b[0;34m(\u001b[0m\u001b[0;36m5\u001b[0m\u001b[0;34m,\u001b[0m \u001b[0;36m3\u001b[0m\u001b[0;34m)\u001b[0m\u001b[0;34m\u001b[0m\u001b[0;34m\u001b[0m\u001b[0m\n\u001b[0m",
            "\u001b[0;31mValueError\u001b[0m: cannot reshape array of size 12 into shape (5,3)"
          ]
        }
      ],
      "source": [
        "newarr = arr.reshape(5, 3)"
      ]
    },
    {
      "cell_type": "code",
      "execution_count": 9,
      "id": "8bacfa65",
      "metadata": {
        "colab": {
          "base_uri": "https://localhost:8080/",
          "height": 197
        },
        "id": "8bacfa65",
        "outputId": "62b4c11f-cfbf-4733-b138-c1a683a3ab6b"
      },
      "outputs": [
        {
          "output_type": "error",
          "ename": "TypeError",
          "evalue": "'tuple' object is not callable",
          "traceback": [
            "\u001b[0;31m---------------------------------------------------------------------------\u001b[0m",
            "\u001b[0;31mTypeError\u001b[0m                                 Traceback (most recent call last)",
            "\u001b[0;32m<ipython-input-9-44f6a499412d>\u001b[0m in \u001b[0;36m<cell line: 1>\u001b[0;34m()\u001b[0m\n\u001b[0;32m----> 1\u001b[0;31m \u001b[0mnewarr\u001b[0m \u001b[0;34m=\u001b[0m \u001b[0marr\u001b[0m\u001b[0;34m.\u001b[0m\u001b[0mshape\u001b[0m\u001b[0;34m(\u001b[0m\u001b[0;36m3\u001b[0m\u001b[0;34m,\u001b[0m \u001b[0;36m5\u001b[0m\u001b[0;34m)\u001b[0m\u001b[0;34m\u001b[0m\u001b[0;34m\u001b[0m\u001b[0m\n\u001b[0m\u001b[1;32m      2\u001b[0m \u001b[0mnewarr\u001b[0m\u001b[0;34m\u001b[0m\u001b[0;34m\u001b[0m\u001b[0m\n",
            "\u001b[0;31mTypeError\u001b[0m: 'tuple' object is not callable"
          ]
        }
      ],
      "source": [
        "newarr = arr.shape(3, 5)\n",
        "newarr"
      ]
    },
    {
      "cell_type": "code",
      "execution_count": 10,
      "id": "467746ac",
      "metadata": {
        "colab": {
          "base_uri": "https://localhost:8080/",
          "height": 179
        },
        "id": "467746ac",
        "outputId": "77fb1157-9e9e-4f0b-970e-2a0c8fbcd09e"
      },
      "outputs": [
        {
          "output_type": "error",
          "ename": "TypeError",
          "evalue": "log10() takes from 1 to 2 positional arguments but 0 were given",
          "traceback": [
            "\u001b[0;31m---------------------------------------------------------------------------\u001b[0m",
            "\u001b[0;31mTypeError\u001b[0m                                 Traceback (most recent call last)",
            "\u001b[0;32m<ipython-input-10-93008831e8d6>\u001b[0m in \u001b[0;36m<cell line: 1>\u001b[0;34m()\u001b[0m\n\u001b[0;32m----> 1\u001b[0;31m \u001b[0mnp\u001b[0m\u001b[0;34m.\u001b[0m\u001b[0mlog10\u001b[0m\u001b[0;34m(\u001b[0m \u001b[0;34m)\u001b[0m\u001b[0;34m\u001b[0m\u001b[0;34m\u001b[0m\u001b[0m\n\u001b[0m",
            "\u001b[0;31mTypeError\u001b[0m: log10() takes from 1 to 2 positional arguments but 0 were given"
          ]
        }
      ],
      "source": [
        "np.log10( )"
      ]
    },
    {
      "cell_type": "code",
      "execution_count": 11,
      "id": "75b3b8eb",
      "metadata": {
        "colab": {
          "base_uri": "https://localhost:8080/",
          "height": 179
        },
        "id": "75b3b8eb",
        "outputId": "0a35a066-fae4-4d0b-da17-50e3f7962873"
      },
      "outputs": [
        {
          "output_type": "error",
          "ename": "TypeError",
          "evalue": "log() takes from 1 to 2 positional arguments but 0 were given",
          "traceback": [
            "\u001b[0;31m---------------------------------------------------------------------------\u001b[0m",
            "\u001b[0;31mTypeError\u001b[0m                                 Traceback (most recent call last)",
            "\u001b[0;32m<ipython-input-11-1e4e77647729>\u001b[0m in \u001b[0;36m<cell line: 1>\u001b[0;34m()\u001b[0m\n\u001b[0;32m----> 1\u001b[0;31m \u001b[0mnp\u001b[0m\u001b[0;34m.\u001b[0m\u001b[0mlog\u001b[0m\u001b[0;34m(\u001b[0m\u001b[0;34m)\u001b[0m\u001b[0;34m\u001b[0m\u001b[0;34m\u001b[0m\u001b[0m\n\u001b[0m",
            "\u001b[0;31mTypeError\u001b[0m: log() takes from 1 to 2 positional arguments but 0 were given"
          ]
        }
      ],
      "source": [
        "np.log()"
      ]
    },
    {
      "cell_type": "code",
      "execution_count": 12,
      "id": "77d76ea2",
      "metadata": {
        "colab": {
          "base_uri": "https://localhost:8080/",
          "height": 304
        },
        "id": "77d76ea2",
        "outputId": "f24e9e84-64be-48c6-94ba-678cb512f846"
      },
      "outputs": [
        {
          "output_type": "error",
          "ename": "AttributeError",
          "evalue": "module 'numpy' has no attribute 'log_base'",
          "traceback": [
            "\u001b[0;31m---------------------------------------------------------------------------\u001b[0m",
            "\u001b[0;31mAttributeError\u001b[0m                            Traceback (most recent call last)",
            "\u001b[0;32m<ipython-input-12-372d7b1add82>\u001b[0m in \u001b[0;36m<cell line: 1>\u001b[0;34m()\u001b[0m\n\u001b[0;32m----> 1\u001b[0;31m \u001b[0mnp\u001b[0m\u001b[0;34m.\u001b[0m\u001b[0mlog_base\u001b[0m\u001b[0;34m(\u001b[0m\u001b[0;36m10\u001b[0m\u001b[0;34m)\u001b[0m\u001b[0;34m\u001b[0m\u001b[0;34m\u001b[0m\u001b[0m\n\u001b[0m",
            "\u001b[0;32m/usr/local/lib/python3.10/dist-packages/numpy/__init__.py\u001b[0m in \u001b[0;36m__getattr__\u001b[0;34m(attr)\u001b[0m\n\u001b[1;32m    309\u001b[0m             \u001b[0;32mreturn\u001b[0m \u001b[0mTester\u001b[0m\u001b[0;34m\u001b[0m\u001b[0;34m\u001b[0m\u001b[0m\n\u001b[1;32m    310\u001b[0m \u001b[0;34m\u001b[0m\u001b[0m\n\u001b[0;32m--> 311\u001b[0;31m         raise AttributeError(\"module {!r} has no attribute \"\n\u001b[0m\u001b[1;32m    312\u001b[0m                              \"{!r}\".format(__name__, attr))\n\u001b[1;32m    313\u001b[0m \u001b[0;34m\u001b[0m\u001b[0m\n",
            "\u001b[0;31mAttributeError\u001b[0m: module 'numpy' has no attribute 'log_base'"
          ]
        }
      ],
      "source": [
        "np.log_base(10)"
      ]
    },
    {
      "cell_type": "code",
      "execution_count": 13,
      "id": "c2ad6c18",
      "metadata": {
        "colab": {
          "base_uri": "https://localhost:8080/",
          "height": 179
        },
        "id": "c2ad6c18",
        "outputId": "29550419-2502-4061-f0ba-1158e029423e"
      },
      "outputs": [
        {
          "output_type": "error",
          "ename": "NameError",
          "evalue": "name 'exp' is not defined",
          "traceback": [
            "\u001b[0;31m---------------------------------------------------------------------------\u001b[0m",
            "\u001b[0;31mNameError\u001b[0m                                 Traceback (most recent call last)",
            "\u001b[0;32m<ipython-input-13-dbf070294aec>\u001b[0m in \u001b[0;36m<cell line: 1>\u001b[0;34m()\u001b[0m\n\u001b[0;32m----> 1\u001b[0;31m \u001b[0mnp\u001b[0m\u001b[0;34m.\u001b[0m\u001b[0mlog\u001b[0m\u001b[0;34m(\u001b[0m\u001b[0mexp\u001b[0m\u001b[0;34m(\u001b[0m\u001b[0;36m10\u001b[0m\u001b[0;34m)\u001b[0m\u001b[0;34m)\u001b[0m\u001b[0;34m\u001b[0m\u001b[0;34m\u001b[0m\u001b[0m\n\u001b[0m",
            "\u001b[0;31mNameError\u001b[0m: name 'exp' is not defined"
          ]
        }
      ],
      "source": [
        "np.log(exp(10))"
      ]
    },
    {
      "cell_type": "code",
      "execution_count": 14,
      "id": "fe317bc9",
      "metadata": {
        "colab": {
          "base_uri": "https://localhost:8080/",
          "height": 179
        },
        "id": "fe317bc9",
        "outputId": "921870ec-d186-4fc0-adac-5a088aaaed84"
      },
      "outputs": [
        {
          "output_type": "error",
          "ename": "TypeError",
          "evalue": "log() takes from 1 to 2 positional arguments but 0 were given",
          "traceback": [
            "\u001b[0;31m---------------------------------------------------------------------------\u001b[0m",
            "\u001b[0;31mTypeError\u001b[0m                                 Traceback (most recent call last)",
            "\u001b[0;32m<ipython-input-14-1e4e77647729>\u001b[0m in \u001b[0;36m<cell line: 1>\u001b[0;34m()\u001b[0m\n\u001b[0;32m----> 1\u001b[0;31m \u001b[0mnp\u001b[0m\u001b[0;34m.\u001b[0m\u001b[0mlog\u001b[0m\u001b[0;34m(\u001b[0m\u001b[0;34m)\u001b[0m\u001b[0;34m\u001b[0m\u001b[0;34m\u001b[0m\u001b[0m\n\u001b[0m",
            "\u001b[0;31mTypeError\u001b[0m: log() takes from 1 to 2 positional arguments but 0 were given"
          ]
        }
      ],
      "source": [
        "np.log()"
      ]
    },
    {
      "cell_type": "code",
      "execution_count": 15,
      "id": "8d21bb27",
      "metadata": {
        "colab": {
          "base_uri": "https://localhost:8080/",
          "height": 179
        },
        "id": "8d21bb27",
        "outputId": "adcf47cf-e0c7-41d9-bc9a-eae9b46fcf0b"
      },
      "outputs": [
        {
          "output_type": "error",
          "ename": "TypeError",
          "evalue": "log10() takes from 1 to 2 positional arguments but 0 were given",
          "traceback": [
            "\u001b[0;31m---------------------------------------------------------------------------\u001b[0m",
            "\u001b[0;31mTypeError\u001b[0m                                 Traceback (most recent call last)",
            "\u001b[0;32m<ipython-input-15-93008831e8d6>\u001b[0m in \u001b[0;36m<cell line: 1>\u001b[0;34m()\u001b[0m\n\u001b[0;32m----> 1\u001b[0;31m \u001b[0mnp\u001b[0m\u001b[0;34m.\u001b[0m\u001b[0mlog10\u001b[0m\u001b[0;34m(\u001b[0m \u001b[0;34m)\u001b[0m\u001b[0;34m\u001b[0m\u001b[0;34m\u001b[0m\u001b[0m\n\u001b[0m",
            "\u001b[0;31mTypeError\u001b[0m: log10() takes from 1 to 2 positional arguments but 0 were given"
          ]
        }
      ],
      "source": [
        "np.log10( )"
      ]
    },
    {
      "cell_type": "code",
      "execution_count": 16,
      "id": "6bd3807e",
      "metadata": {
        "colab": {
          "base_uri": "https://localhost:8080/"
        },
        "id": "6bd3807e",
        "outputId": "6a7c1a2b-10b6-4d5e-e104-ba0da645d9bc"
      },
      "outputs": [
        {
          "output_type": "execute_result",
          "data": {
            "text/plain": [
              "0.3010299956639812"
            ]
          },
          "metadata": {},
          "execution_count": 16
        }
      ],
      "source": [
        "np.log10(2)"
      ]
    },
    {
      "cell_type": "code",
      "execution_count": 17,
      "id": "37f50b07",
      "metadata": {
        "id": "37f50b07"
      },
      "outputs": [],
      "source": [
        "mat = np.array([[1,2,3,4],[5,6,7,8]])"
      ]
    },
    {
      "cell_type": "code",
      "execution_count": 18,
      "id": "4d39bd3e",
      "metadata": {
        "colab": {
          "base_uri": "https://localhost:8080/"
        },
        "id": "4d39bd3e",
        "outputId": "d7b0b583-82c1-401c-fa09-18e21b99986b"
      },
      "outputs": [
        {
          "output_type": "execute_result",
          "data": {
            "text/plain": [
              "array([[1, 2, 3, 4],\n",
              "       [5, 6, 7, 8]])"
            ]
          },
          "metadata": {},
          "execution_count": 18
        }
      ],
      "source": [
        "mat"
      ]
    },
    {
      "cell_type": "code",
      "execution_count": 19,
      "id": "29a42d59",
      "metadata": {
        "colab": {
          "base_uri": "https://localhost:8080/"
        },
        "id": "29a42d59",
        "outputId": "b47fcfad-947c-4063-d576-9bab7ab116b8"
      },
      "outputs": [
        {
          "output_type": "execute_result",
          "data": {
            "text/plain": [
              "array([[1, 5],\n",
              "       [2, 6],\n",
              "       [3, 7],\n",
              "       [4, 8]])"
            ]
          },
          "metadata": {},
          "execution_count": 19
        }
      ],
      "source": [
        "mat.transpose()"
      ]
    },
    {
      "cell_type": "code",
      "execution_count": 20,
      "id": "35998381",
      "metadata": {
        "colab": {
          "base_uri": "https://localhost:8080/"
        },
        "id": "35998381",
        "outputId": "90a3d4d0-27bd-4907-e213-2434f5e97535"
      },
      "outputs": [
        {
          "output_type": "execute_result",
          "data": {
            "text/plain": [
              "array([[1, 5],\n",
              "       [2, 6],\n",
              "       [3, 7],\n",
              "       [4, 8]])"
            ]
          },
          "metadata": {},
          "execution_count": 20
        }
      ],
      "source": [
        "mat.T"
      ]
    },
    {
      "cell_type": "code",
      "execution_count": 21,
      "id": "9edb8b9d",
      "metadata": {
        "colab": {
          "base_uri": "https://localhost:8080/",
          "height": 179
        },
        "id": "9edb8b9d",
        "outputId": "e608f507-f61c-49f4-fb56-a994eed36b40"
      },
      "outputs": [
        {
          "output_type": "error",
          "ename": "AxisError",
          "evalue": "axis 4 is out of bounds for array of dimension 2",
          "traceback": [
            "\u001b[0;31m---------------------------------------------------------------------------\u001b[0m",
            "\u001b[0;31mAxisError\u001b[0m                                 Traceback (most recent call last)",
            "\u001b[0;32m<ipython-input-21-39fe1075fdb0>\u001b[0m in \u001b[0;36m<cell line: 1>\u001b[0;34m()\u001b[0m\n\u001b[0;32m----> 1\u001b[0;31m \u001b[0mmat\u001b[0m\u001b[0;34m.\u001b[0m\u001b[0mtranspose\u001b[0m\u001b[0;34m(\u001b[0m\u001b[0;36m4\u001b[0m\u001b[0;34m,\u001b[0m\u001b[0;36m2\u001b[0m\u001b[0;34m)\u001b[0m\u001b[0;34m\u001b[0m\u001b[0;34m\u001b[0m\u001b[0m\n\u001b[0m",
            "\u001b[0;31mAxisError\u001b[0m: axis 4 is out of bounds for array of dimension 2"
          ]
        }
      ],
      "source": [
        "mat.transpose(4,2)"
      ]
    },
    {
      "cell_type": "code",
      "execution_count": 22,
      "id": "fae73ae5",
      "metadata": {
        "colab": {
          "base_uri": "https://localhost:8080/",
          "height": 179
        },
        "id": "fae73ae5",
        "outputId": "b0899cd4-fb54-4efb-8a07-e8acfe5750f2"
      },
      "outputs": [
        {
          "output_type": "error",
          "ename": "AxisError",
          "evalue": "axis 2 is out of bounds for array of dimension 2",
          "traceback": [
            "\u001b[0;31m---------------------------------------------------------------------------\u001b[0m",
            "\u001b[0;31mAxisError\u001b[0m                                 Traceback (most recent call last)",
            "\u001b[0;32m<ipython-input-22-c48b120d0832>\u001b[0m in \u001b[0;36m<cell line: 1>\u001b[0;34m()\u001b[0m\n\u001b[0;32m----> 1\u001b[0;31m \u001b[0mmat\u001b[0m\u001b[0;34m.\u001b[0m\u001b[0mtranspose\u001b[0m\u001b[0;34m(\u001b[0m\u001b[0;36m2\u001b[0m\u001b[0;34m,\u001b[0m\u001b[0;36m4\u001b[0m\u001b[0;34m)\u001b[0m\u001b[0;34m\u001b[0m\u001b[0;34m\u001b[0m\u001b[0m\n\u001b[0m",
            "\u001b[0;31mAxisError\u001b[0m: axis 2 is out of bounds for array of dimension 2"
          ]
        }
      ],
      "source": [
        "mat.transpose(2,4)"
      ]
    },
    {
      "cell_type": "code",
      "execution_count": 23,
      "id": "b296946b",
      "metadata": {
        "colab": {
          "base_uri": "https://localhost:8080/"
        },
        "id": "b296946b",
        "outputId": "e05ef942-771a-45a1-c152-21472a21eb5c"
      },
      "outputs": [
        {
          "output_type": "execute_result",
          "data": {
            "text/plain": [
              "80"
            ]
          },
          "metadata": {},
          "execution_count": 23
        }
      ],
      "source": [
        "np.random.randint(100)"
      ]
    },
    {
      "cell_type": "code",
      "execution_count": 24,
      "id": "dccdf133",
      "metadata": {
        "colab": {
          "base_uri": "https://localhost:8080/"
        },
        "id": "dccdf133",
        "outputId": "021fcdf2-5d69-41c4-83fb-399c3f27107c"
      },
      "outputs": [
        {
          "output_type": "execute_result",
          "data": {
            "text/plain": [
              "array([0.04697893, 0.79334066, 0.70346936, 0.39413815, 0.91444177,\n",
              "       0.05723817, 0.84377898, 0.90869145, 0.92839486, 0.32716272,\n",
              "       0.42927835, 0.63719591, 0.25305482, 0.11017413, 0.98630329,\n",
              "       0.84372787, 0.22840536, 0.35837099, 0.83281489, 0.39584565,\n",
              "       0.16613816, 0.338284  , 0.37880067, 0.52912614, 0.87060906,\n",
              "       0.67140722, 0.924112  , 0.23824719, 0.25142593, 0.65971588,\n",
              "       0.71093502, 0.66344128, 0.85727975, 0.63154926, 0.99135582,\n",
              "       0.09116494, 0.2123474 , 0.09453825, 0.89106603, 0.80274945,\n",
              "       0.56944473, 0.9016549 , 0.31231523, 0.53900856, 0.7372404 ,\n",
              "       0.95356666, 0.24647978, 0.41380772, 0.38195669, 0.33997205,\n",
              "       0.91744566, 0.52512558, 0.0713513 , 0.31958034, 0.79555614,\n",
              "       0.51659084, 0.39948245, 0.58597541, 0.52220974, 0.27959756,\n",
              "       0.83661618, 0.56944425, 0.77817998, 0.27519164, 0.4518484 ,\n",
              "       0.80562812, 0.44979541, 0.13943561, 0.81444188, 0.36403324,\n",
              "       0.1935681 , 0.75617092, 0.61875357, 0.48468764, 0.32663551,\n",
              "       0.8186944 , 0.24621038, 0.22653611, 0.93741908, 0.89260166,\n",
              "       0.0553468 , 0.68697335, 0.91367512, 0.09896085, 0.34064601,\n",
              "       0.57758796, 0.29832569, 0.3729634 , 0.66060641, 0.24299053,\n",
              "       0.4297587 , 0.31399779, 0.1493532 , 0.38328027, 0.83830127,\n",
              "       0.92475539, 0.1196025 , 0.06548157, 0.41779654, 0.53304126])"
            ]
          },
          "metadata": {},
          "execution_count": 24
        }
      ],
      "source": [
        "np.random.rand(100)"
      ]
    },
    {
      "cell_type": "code",
      "execution_count": 25,
      "id": "72b30653",
      "metadata": {
        "colab": {
          "base_uri": "https://localhost:8080/"
        },
        "id": "72b30653",
        "outputId": "76c50008-6897-487c-ecbe-b8d0e7616a5d"
      },
      "outputs": [
        {
          "output_type": "execute_result",
          "data": {
            "text/plain": [
              "array([[ 1,  2,  3,  4,  5],\n",
              "       [ 6,  7,  8,  9, 10]])"
            ]
          },
          "metadata": {},
          "execution_count": 25
        }
      ],
      "source": [
        "mat = np.array([[1,2,3,4,5], [6,7,8,9,10]])\n",
        "mat"
      ]
    },
    {
      "cell_type": "code",
      "execution_count": 26,
      "id": "643ac00e",
      "metadata": {
        "colab": {
          "base_uri": "https://localhost:8080/",
          "height": 179
        },
        "id": "643ac00e",
        "outputId": "ca7f5c80-7397-44d8-cfd0-8a1e4fe8ea9e"
      },
      "outputs": [
        {
          "output_type": "error",
          "ename": "IndexError",
          "evalue": "index 2 is out of bounds for axis 0 with size 2",
          "traceback": [
            "\u001b[0;31m---------------------------------------------------------------------------\u001b[0m",
            "\u001b[0;31mIndexError\u001b[0m                                Traceback (most recent call last)",
            "\u001b[0;32m<ipython-input-26-468304468ca9>\u001b[0m in \u001b[0;36m<cell line: 1>\u001b[0;34m()\u001b[0m\n\u001b[0;32m----> 1\u001b[0;31m \u001b[0mmat\u001b[0m\u001b[0;34m[\u001b[0m\u001b[0;36m2\u001b[0m\u001b[0;34m,\u001b[0m\u001b[0;36m3\u001b[0m\u001b[0;34m]\u001b[0m\u001b[0;34m\u001b[0m\u001b[0;34m\u001b[0m\u001b[0m\n\u001b[0m",
            "\u001b[0;31mIndexError\u001b[0m: index 2 is out of bounds for axis 0 with size 2"
          ]
        }
      ],
      "source": [
        "mat[2,3]"
      ]
    },
    {
      "cell_type": "code",
      "execution_count": 27,
      "id": "735d3650",
      "metadata": {
        "colab": {
          "base_uri": "https://localhost:8080/"
        },
        "id": "735d3650",
        "outputId": "c06c49ba-f5f4-4872-d4ac-fdd555fe3a60"
      },
      "outputs": [
        {
          "output_type": "execute_result",
          "data": {
            "text/plain": [
              "4"
            ]
          },
          "metadata": {},
          "execution_count": 27
        }
      ],
      "source": [
        "mat[0,3]"
      ]
    },
    {
      "cell_type": "code",
      "execution_count": 28,
      "id": "84afb9c3",
      "metadata": {
        "colab": {
          "base_uri": "https://localhost:8080/"
        },
        "id": "84afb9c3",
        "outputId": "c199e409-b585-4eab-e4f0-27698aa1ede0"
      },
      "outputs": [
        {
          "output_type": "execute_result",
          "data": {
            "text/plain": [
              "8"
            ]
          },
          "metadata": {},
          "execution_count": 28
        }
      ],
      "source": [
        "mat[1,2]"
      ]
    },
    {
      "cell_type": "code",
      "execution_count": 29,
      "id": "b6aa5d3c",
      "metadata": {
        "colab": {
          "base_uri": "https://localhost:8080/"
        },
        "id": "b6aa5d3c",
        "outputId": "9c685b7c-b063-4f6d-c751-ce6e134604f8"
      },
      "outputs": [
        {
          "output_type": "stream",
          "name": "stdout",
          "text": [
            "[[1 2]\n",
            " [2 4]\n",
            " [4 6]]\n"
          ]
        }
      ],
      "source": [
        "test_mat_1 = np.array([[1,2],[3,4],[5,6]])\n",
        "test_mat_2 = test_mat_1\n",
        "test_mat_2[1,0] = 2\n",
        "test_mat_1[2,0] = 4\n",
        "print(test_mat_1)"
      ]
    },
    {
      "cell_type": "code",
      "execution_count": 30,
      "id": "7fa6d4c0",
      "metadata": {
        "colab": {
          "base_uri": "https://localhost:8080/"
        },
        "id": "7fa6d4c0",
        "outputId": "2e96c507-0c79-4673-cc7e-f6019286ceb1"
      },
      "outputs": [
        {
          "output_type": "stream",
          "name": "stdout",
          "text": [
            "[30 30 30 30 30 30]\n"
          ]
        }
      ],
      "source": [
        "test_array = np.array([10, 115, 172, 15, 147,13])\n",
        "test_array[test_array>0] = 30\n",
        "print(test_array)"
      ]
    },
    {
      "cell_type": "code",
      "execution_count": 31,
      "id": "9126e275",
      "metadata": {
        "colab": {
          "base_uri": "https://localhost:8080/"
        },
        "id": "9126e275",
        "outputId": "b44bf6ac-51ba-4d86-c2a4-7916008f0bcc"
      },
      "outputs": [
        {
          "output_type": "stream",
          "name": "stdout",
          "text": [
            "[ 7  8  9 10]\n"
          ]
        }
      ],
      "source": [
        "vec = np.array([4,7,8,9,10,6,1])\n",
        "print(vec[vec>6])"
      ]
    },
    {
      "cell_type": "code",
      "execution_count": 32,
      "id": "639654b0",
      "metadata": {
        "colab": {
          "base_uri": "https://localhost:8080/"
        },
        "id": "639654b0",
        "outputId": "b72c0eff-49f0-4028-a6c4-5774c6827e63"
      },
      "outputs": [
        {
          "output_type": "stream",
          "name": "stdout",
          "text": [
            "0    5\n",
            "1    5\n",
            "2    5\n",
            "3    5\n",
            "dtype: int64\n"
          ]
        }
      ],
      "source": [
        "s = pd.Series([5,5,5,5], index=[0, 1, 2, 3])\n",
        "print(s)"
      ]
    },
    {
      "cell_type": "code",
      "execution_count": 33,
      "id": "5e98f978",
      "metadata": {
        "colab": {
          "base_uri": "https://localhost:8080/"
        },
        "id": "5e98f978",
        "outputId": "dd258506-9469-4054-d969-df38e785eced"
      },
      "outputs": [
        {
          "output_type": "stream",
          "name": "stdout",
          "text": [
            "0    220\n",
            "1    440\n",
            "2    660\n",
            "3    880\n",
            "dtype: int64\n"
          ]
        }
      ],
      "source": [
        "series = pd.Series([11,22,33,44], index=[0, 1, 2, 3])\n",
        "mult_series = series*20\n",
        "print(mult_series)"
      ]
    },
    {
      "cell_type": "code",
      "execution_count": 34,
      "id": "c3ba4e19",
      "metadata": {
        "id": "c3ba4e19"
      },
      "outputs": [],
      "source": [
        "df = pd.DataFrame({'Name': ['Tom', 'Joseph', 'Krish', 'John'], 'Age': [20, 21, 19, 18]} )"
      ]
    },
    {
      "cell_type": "code",
      "execution_count": 35,
      "id": "999e5477",
      "metadata": {
        "colab": {
          "base_uri": "https://localhost:8080/",
          "height": 175
        },
        "id": "999e5477",
        "outputId": "59646852-a758-44cf-8495-d0e849e397bc"
      },
      "outputs": [
        {
          "output_type": "execute_result",
          "data": {
            "text/plain": [
              "     Name  Age\n",
              "0     Tom   20\n",
              "1  Joseph   21\n",
              "2   Krish   19\n",
              "3    John   18"
            ],
            "text/html": [
              "\n",
              "  <div id=\"df-c7cd2605-2399-4b98-b847-bd022bc24bd7\" class=\"colab-df-container\">\n",
              "    <div>\n",
              "<style scoped>\n",
              "    .dataframe tbody tr th:only-of-type {\n",
              "        vertical-align: middle;\n",
              "    }\n",
              "\n",
              "    .dataframe tbody tr th {\n",
              "        vertical-align: top;\n",
              "    }\n",
              "\n",
              "    .dataframe thead th {\n",
              "        text-align: right;\n",
              "    }\n",
              "</style>\n",
              "<table border=\"1\" class=\"dataframe\">\n",
              "  <thead>\n",
              "    <tr style=\"text-align: right;\">\n",
              "      <th></th>\n",
              "      <th>Name</th>\n",
              "      <th>Age</th>\n",
              "    </tr>\n",
              "  </thead>\n",
              "  <tbody>\n",
              "    <tr>\n",
              "      <th>0</th>\n",
              "      <td>Tom</td>\n",
              "      <td>20</td>\n",
              "    </tr>\n",
              "    <tr>\n",
              "      <th>1</th>\n",
              "      <td>Joseph</td>\n",
              "      <td>21</td>\n",
              "    </tr>\n",
              "    <tr>\n",
              "      <th>2</th>\n",
              "      <td>Krish</td>\n",
              "      <td>19</td>\n",
              "    </tr>\n",
              "    <tr>\n",
              "      <th>3</th>\n",
              "      <td>John</td>\n",
              "      <td>18</td>\n",
              "    </tr>\n",
              "  </tbody>\n",
              "</table>\n",
              "</div>\n",
              "    <div class=\"colab-df-buttons\">\n",
              "\n",
              "  <div class=\"colab-df-container\">\n",
              "    <button class=\"colab-df-convert\" onclick=\"convertToInteractive('df-c7cd2605-2399-4b98-b847-bd022bc24bd7')\"\n",
              "            title=\"Convert this dataframe to an interactive table.\"\n",
              "            style=\"display:none;\">\n",
              "\n",
              "  <svg xmlns=\"http://www.w3.org/2000/svg\" height=\"24px\" viewBox=\"0 -960 960 960\">\n",
              "    <path d=\"M120-120v-720h720v720H120Zm60-500h600v-160H180v160Zm220 220h160v-160H400v160Zm0 220h160v-160H400v160ZM180-400h160v-160H180v160Zm440 0h160v-160H620v160ZM180-180h160v-160H180v160Zm440 0h160v-160H620v160Z\"/>\n",
              "  </svg>\n",
              "    </button>\n",
              "\n",
              "  <style>\n",
              "    .colab-df-container {\n",
              "      display:flex;\n",
              "      gap: 12px;\n",
              "    }\n",
              "\n",
              "    .colab-df-convert {\n",
              "      background-color: #E8F0FE;\n",
              "      border: none;\n",
              "      border-radius: 50%;\n",
              "      cursor: pointer;\n",
              "      display: none;\n",
              "      fill: #1967D2;\n",
              "      height: 32px;\n",
              "      padding: 0 0 0 0;\n",
              "      width: 32px;\n",
              "    }\n",
              "\n",
              "    .colab-df-convert:hover {\n",
              "      background-color: #E2EBFA;\n",
              "      box-shadow: 0px 1px 2px rgba(60, 64, 67, 0.3), 0px 1px 3px 1px rgba(60, 64, 67, 0.15);\n",
              "      fill: #174EA6;\n",
              "    }\n",
              "\n",
              "    .colab-df-buttons div {\n",
              "      margin-bottom: 4px;\n",
              "    }\n",
              "\n",
              "    [theme=dark] .colab-df-convert {\n",
              "      background-color: #3B4455;\n",
              "      fill: #D2E3FC;\n",
              "    }\n",
              "\n",
              "    [theme=dark] .colab-df-convert:hover {\n",
              "      background-color: #434B5C;\n",
              "      box-shadow: 0px 1px 3px 1px rgba(0, 0, 0, 0.15);\n",
              "      filter: drop-shadow(0px 1px 2px rgba(0, 0, 0, 0.3));\n",
              "      fill: #FFFFFF;\n",
              "    }\n",
              "  </style>\n",
              "\n",
              "    <script>\n",
              "      const buttonEl =\n",
              "        document.querySelector('#df-c7cd2605-2399-4b98-b847-bd022bc24bd7 button.colab-df-convert');\n",
              "      buttonEl.style.display =\n",
              "        google.colab.kernel.accessAllowed ? 'block' : 'none';\n",
              "\n",
              "      async function convertToInteractive(key) {\n",
              "        const element = document.querySelector('#df-c7cd2605-2399-4b98-b847-bd022bc24bd7');\n",
              "        const dataTable =\n",
              "          await google.colab.kernel.invokeFunction('convertToInteractive',\n",
              "                                                    [key], {});\n",
              "        if (!dataTable) return;\n",
              "\n",
              "        const docLinkHtml = 'Like what you see? Visit the ' +\n",
              "          '<a target=\"_blank\" href=https://colab.research.google.com/notebooks/data_table.ipynb>data table notebook</a>'\n",
              "          + ' to learn more about interactive tables.';\n",
              "        element.innerHTML = '';\n",
              "        dataTable['output_type'] = 'display_data';\n",
              "        await google.colab.output.renderOutput(dataTable, element);\n",
              "        const docLink = document.createElement('div');\n",
              "        docLink.innerHTML = docLinkHtml;\n",
              "        element.appendChild(docLink);\n",
              "      }\n",
              "    </script>\n",
              "  </div>\n",
              "\n",
              "\n",
              "<div id=\"df-0453351d-926b-496f-9730-cf68ae1d76bf\">\n",
              "  <button class=\"colab-df-quickchart\" onclick=\"quickchart('df-0453351d-926b-496f-9730-cf68ae1d76bf')\"\n",
              "            title=\"Suggest charts\"\n",
              "            style=\"display:none;\">\n",
              "\n",
              "<svg xmlns=\"http://www.w3.org/2000/svg\" height=\"24px\"viewBox=\"0 0 24 24\"\n",
              "     width=\"24px\">\n",
              "    <g>\n",
              "        <path d=\"M19 3H5c-1.1 0-2 .9-2 2v14c0 1.1.9 2 2 2h14c1.1 0 2-.9 2-2V5c0-1.1-.9-2-2-2zM9 17H7v-7h2v7zm4 0h-2V7h2v10zm4 0h-2v-4h2v4z\"/>\n",
              "    </g>\n",
              "</svg>\n",
              "  </button>\n",
              "\n",
              "<style>\n",
              "  .colab-df-quickchart {\n",
              "      --bg-color: #E8F0FE;\n",
              "      --fill-color: #1967D2;\n",
              "      --hover-bg-color: #E2EBFA;\n",
              "      --hover-fill-color: #174EA6;\n",
              "      --disabled-fill-color: #AAA;\n",
              "      --disabled-bg-color: #DDD;\n",
              "  }\n",
              "\n",
              "  [theme=dark] .colab-df-quickchart {\n",
              "      --bg-color: #3B4455;\n",
              "      --fill-color: #D2E3FC;\n",
              "      --hover-bg-color: #434B5C;\n",
              "      --hover-fill-color: #FFFFFF;\n",
              "      --disabled-bg-color: #3B4455;\n",
              "      --disabled-fill-color: #666;\n",
              "  }\n",
              "\n",
              "  .colab-df-quickchart {\n",
              "    background-color: var(--bg-color);\n",
              "    border: none;\n",
              "    border-radius: 50%;\n",
              "    cursor: pointer;\n",
              "    display: none;\n",
              "    fill: var(--fill-color);\n",
              "    height: 32px;\n",
              "    padding: 0;\n",
              "    width: 32px;\n",
              "  }\n",
              "\n",
              "  .colab-df-quickchart:hover {\n",
              "    background-color: var(--hover-bg-color);\n",
              "    box-shadow: 0 1px 2px rgba(60, 64, 67, 0.3), 0 1px 3px 1px rgba(60, 64, 67, 0.15);\n",
              "    fill: var(--button-hover-fill-color);\n",
              "  }\n",
              "\n",
              "  .colab-df-quickchart-complete:disabled,\n",
              "  .colab-df-quickchart-complete:disabled:hover {\n",
              "    background-color: var(--disabled-bg-color);\n",
              "    fill: var(--disabled-fill-color);\n",
              "    box-shadow: none;\n",
              "  }\n",
              "\n",
              "  .colab-df-spinner {\n",
              "    border: 2px solid var(--fill-color);\n",
              "    border-color: transparent;\n",
              "    border-bottom-color: var(--fill-color);\n",
              "    animation:\n",
              "      spin 1s steps(1) infinite;\n",
              "  }\n",
              "\n",
              "  @keyframes spin {\n",
              "    0% {\n",
              "      border-color: transparent;\n",
              "      border-bottom-color: var(--fill-color);\n",
              "      border-left-color: var(--fill-color);\n",
              "    }\n",
              "    20% {\n",
              "      border-color: transparent;\n",
              "      border-left-color: var(--fill-color);\n",
              "      border-top-color: var(--fill-color);\n",
              "    }\n",
              "    30% {\n",
              "      border-color: transparent;\n",
              "      border-left-color: var(--fill-color);\n",
              "      border-top-color: var(--fill-color);\n",
              "      border-right-color: var(--fill-color);\n",
              "    }\n",
              "    40% {\n",
              "      border-color: transparent;\n",
              "      border-right-color: var(--fill-color);\n",
              "      border-top-color: var(--fill-color);\n",
              "    }\n",
              "    60% {\n",
              "      border-color: transparent;\n",
              "      border-right-color: var(--fill-color);\n",
              "    }\n",
              "    80% {\n",
              "      border-color: transparent;\n",
              "      border-right-color: var(--fill-color);\n",
              "      border-bottom-color: var(--fill-color);\n",
              "    }\n",
              "    90% {\n",
              "      border-color: transparent;\n",
              "      border-bottom-color: var(--fill-color);\n",
              "    }\n",
              "  }\n",
              "</style>\n",
              "\n",
              "  <script>\n",
              "    async function quickchart(key) {\n",
              "      const quickchartButtonEl =\n",
              "        document.querySelector('#' + key + ' button');\n",
              "      quickchartButtonEl.disabled = true;  // To prevent multiple clicks.\n",
              "      quickchartButtonEl.classList.add('colab-df-spinner');\n",
              "      try {\n",
              "        const charts = await google.colab.kernel.invokeFunction(\n",
              "            'suggestCharts', [key], {});\n",
              "      } catch (error) {\n",
              "        console.error('Error during call to suggestCharts:', error);\n",
              "      }\n",
              "      quickchartButtonEl.classList.remove('colab-df-spinner');\n",
              "      quickchartButtonEl.classList.add('colab-df-quickchart-complete');\n",
              "    }\n",
              "    (() => {\n",
              "      let quickchartButtonEl =\n",
              "        document.querySelector('#df-0453351d-926b-496f-9730-cf68ae1d76bf button');\n",
              "      quickchartButtonEl.style.display =\n",
              "        google.colab.kernel.accessAllowed ? 'block' : 'none';\n",
              "    })();\n",
              "  </script>\n",
              "</div>\n",
              "\n",
              "  <div id=\"id_d95d9aba-db0f-4476-b318-2f8fc649eda7\">\n",
              "    <style>\n",
              "      .colab-df-generate {\n",
              "        background-color: #E8F0FE;\n",
              "        border: none;\n",
              "        border-radius: 50%;\n",
              "        cursor: pointer;\n",
              "        display: none;\n",
              "        fill: #1967D2;\n",
              "        height: 32px;\n",
              "        padding: 0 0 0 0;\n",
              "        width: 32px;\n",
              "      }\n",
              "\n",
              "      .colab-df-generate:hover {\n",
              "        background-color: #E2EBFA;\n",
              "        box-shadow: 0px 1px 2px rgba(60, 64, 67, 0.3), 0px 1px 3px 1px rgba(60, 64, 67, 0.15);\n",
              "        fill: #174EA6;\n",
              "      }\n",
              "\n",
              "      [theme=dark] .colab-df-generate {\n",
              "        background-color: #3B4455;\n",
              "        fill: #D2E3FC;\n",
              "      }\n",
              "\n",
              "      [theme=dark] .colab-df-generate:hover {\n",
              "        background-color: #434B5C;\n",
              "        box-shadow: 0px 1px 3px 1px rgba(0, 0, 0, 0.15);\n",
              "        filter: drop-shadow(0px 1px 2px rgba(0, 0, 0, 0.3));\n",
              "        fill: #FFFFFF;\n",
              "      }\n",
              "    </style>\n",
              "    <button class=\"colab-df-generate\" onclick=\"generateWithVariable('df')\"\n",
              "            title=\"Generate code using this dataframe.\"\n",
              "            style=\"display:none;\">\n",
              "\n",
              "  <svg xmlns=\"http://www.w3.org/2000/svg\" height=\"24px\"viewBox=\"0 0 24 24\"\n",
              "       width=\"24px\">\n",
              "    <path d=\"M7,19H8.4L18.45,9,17,7.55,7,17.6ZM5,21V16.75L18.45,3.32a2,2,0,0,1,2.83,0l1.4,1.43a1.91,1.91,0,0,1,.58,1.4,1.91,1.91,0,0,1-.58,1.4L9.25,21ZM18.45,9,17,7.55Zm-12,3A5.31,5.31,0,0,0,4.9,8.1,5.31,5.31,0,0,0,1,6.5,5.31,5.31,0,0,0,4.9,4.9,5.31,5.31,0,0,0,6.5,1,5.31,5.31,0,0,0,8.1,4.9,5.31,5.31,0,0,0,12,6.5,5.46,5.46,0,0,0,6.5,12Z\"/>\n",
              "  </svg>\n",
              "    </button>\n",
              "    <script>\n",
              "      (() => {\n",
              "      const buttonEl =\n",
              "        document.querySelector('#id_d95d9aba-db0f-4476-b318-2f8fc649eda7 button.colab-df-generate');\n",
              "      buttonEl.style.display =\n",
              "        google.colab.kernel.accessAllowed ? 'block' : 'none';\n",
              "\n",
              "      buttonEl.onclick = () => {\n",
              "        google.colab.notebook.generateWithVariable('df');\n",
              "      }\n",
              "      })();\n",
              "    </script>\n",
              "  </div>\n",
              "\n",
              "    </div>\n",
              "  </div>\n"
            ]
          },
          "metadata": {},
          "execution_count": 35
        }
      ],
      "source": [
        "df"
      ]
    },
    {
      "cell_type": "code",
      "execution_count": 36,
      "id": "2fcf1700",
      "metadata": {
        "id": "2fcf1700"
      },
      "outputs": [],
      "source": [
        "test_array = [10, 11.5, 12, 13.5, 14,15]"
      ]
    },
    {
      "cell_type": "code",
      "execution_count": 37,
      "id": "de01562a",
      "metadata": {
        "colab": {
          "base_uri": "https://localhost:8080/"
        },
        "id": "de01562a",
        "outputId": "1d80b677-3fde-4311-c258-8ff7d65ff498"
      },
      "outputs": [
        {
          "output_type": "execute_result",
          "data": {
            "text/plain": [
              "[12]"
            ]
          },
          "metadata": {},
          "execution_count": 37
        }
      ],
      "source": [
        "test_array[2:3]"
      ]
    },
    {
      "cell_type": "code",
      "execution_count": null,
      "id": "eea25c58",
      "metadata": {
        "id": "eea25c58",
        "outputId": "87c694a4-1dfe-4dd7-8f52-8be194995196"
      },
      "outputs": [
        {
          "data": {
            "text/plain": [
              "array([[12, 34, 55],\n",
              "       [66, 45, 77],\n",
              "       [45, 77, 88]])"
            ]
          },
          "execution_count": 42,
          "metadata": {},
          "output_type": "execute_result"
        }
      ],
      "source": [
        "list_l =[[12,34,55,],[66,45,77],[45,77,88]]\n",
        "np.array(list_l)"
      ]
    },
    {
      "cell_type": "code",
      "execution_count": null,
      "id": "904de8bc",
      "metadata": {
        "id": "904de8bc",
        "outputId": "d858ae59-26ff-4c73-ddfa-686643b25a2b"
      },
      "outputs": [
        {
          "data": {
            "text/plain": [
              "a    10\n",
              "b    15\n",
              "c    20\n",
              "d    25\n",
              "dtype: int64"
            ]
          },
          "execution_count": 43,
          "metadata": {},
          "output_type": "execute_result"
        }
      ],
      "source": [
        "score = [10, 15, 20, 25]\n",
        "pd.Series(data=score, index = ['a','b','c','d'])"
      ]
    },
    {
      "cell_type": "code",
      "execution_count": null,
      "id": "82778d13",
      "metadata": {
        "id": "82778d13",
        "outputId": "9b874ed5-d9da-4ba0-b354-268caba5e79b"
      },
      "outputs": [
        {
          "data": {
            "text/plain": [
              "array([ 0,  6, 12, 18])"
            ]
          },
          "execution_count": 44,
          "metadata": {},
          "output_type": "execute_result"
        }
      ],
      "source": [
        "np.arange(0,22,6)"
      ]
    },
    {
      "cell_type": "code",
      "execution_count": null,
      "id": "95b0eb52",
      "metadata": {
        "id": "95b0eb52",
        "outputId": "737d60c0-9ffe-453d-b7d0-5f3fe3071080"
      },
      "outputs": [
        {
          "data": {
            "text/plain": [
              "array([101, 101, 101, 101, 101, 101, 101])"
            ]
          },
          "execution_count": 45,
          "metadata": {},
          "output_type": "execute_result"
        }
      ],
      "source": [
        "demo_array = np.arange(10,21)\n",
        "subset_demo_array = demo_array[0:7]\n",
        "subset_demo_array[:]= 101\n",
        "subset_demo_array"
      ]
    },
    {
      "cell_type": "code",
      "execution_count": null,
      "id": "a6e6fb44",
      "metadata": {
        "id": "a6e6fb44",
        "outputId": "8100f592-26c2-4200-b740-08ecfcbca3c4"
      },
      "outputs": [
        {
          "data": {
            "text/plain": [
              "lily     2\n",
              "rose     3\n",
              "daisy    5\n",
              "dtype: int64"
            ]
          },
          "execution_count": 67,
          "metadata": {},
          "output_type": "execute_result"
        }
      ],
      "source": [
        "flowers = pd.Series([2, 3, 5, 4], index=['lily', 'rose', 'daisy', 'lotus'])\n",
        "flowers['daisy']\n",
        "flowers[0]\n",
        "flowers[0]\n",
        "flowers[:'daisy']"
      ]
    },
    {
      "cell_type": "code",
      "execution_count": null,
      "id": "0cbf8dd8",
      "metadata": {
        "id": "0cbf8dd8"
      },
      "outputs": [],
      "source": [
        "s1 = pd.Series(['a', 'b'])\n",
        "s2 = pd.Series(['c', 'd'])"
      ]
    },
    {
      "cell_type": "code",
      "execution_count": null,
      "id": "a6301a1d",
      "metadata": {
        "id": "a6301a1d",
        "outputId": "33582b52-b1c8-46e5-dca3-99a104d024c7"
      },
      "outputs": [
        {
          "data": {
            "text/plain": [
              "'a'"
            ]
          },
          "execution_count": 62,
          "metadata": {},
          "output_type": "execute_result"
        }
      ],
      "source": [
        "pd.concat([s1, s2])\n",
        "s1[0]"
      ]
    },
    {
      "cell_type": "code",
      "execution_count": null,
      "id": "d20587ce",
      "metadata": {
        "id": "d20587ce",
        "outputId": "55e03e46-fff0-4823-b77d-8b9cda36d3ee"
      },
      "outputs": [
        {
          "data": {
            "text/plain": [
              "0    ac\n",
              "1    bd\n",
              "dtype: object"
            ]
          },
          "execution_count": 49,
          "metadata": {},
          "output_type": "execute_result"
        }
      ],
      "source": [
        "pd.concat([s1+ s2])"
      ]
    },
    {
      "cell_type": "code",
      "execution_count": null,
      "id": "4ef4b8b8",
      "metadata": {
        "id": "4ef4b8b8",
        "outputId": "7fa9ff36-2ff3-4a71-a11d-fa6857ea9977"
      },
      "outputs": [
        {
          "name": "stderr",
          "output_type": "stream",
          "text": [
            "/var/folders/wf/04wfhfsj657dzn9ll_st2w2h0000gn/T/ipykernel_12057/4253961264.py:1: FutureWarning: In a future version of pandas all arguments of concat except for the argument 'objs' will be keyword-only.\n",
            "  pd.concat(s1, s2)\n"
          ]
        },
        {
          "ename": "TypeError",
          "evalue": "first argument must be an iterable of pandas objects, you passed an object of type \"Series\"",
          "output_type": "error",
          "traceback": [
            "\u001b[0;31m---------------------------------------------------------------------------\u001b[0m",
            "\u001b[0;31mTypeError\u001b[0m                                 Traceback (most recent call last)",
            "Cell \u001b[0;32mIn[50], line 1\u001b[0m\n\u001b[0;32m----> 1\u001b[0m pd\u001b[38;5;241m.\u001b[39mconcat(s1, s2)\n",
            "File \u001b[0;32m~/anaconda3/lib/python3.11/site-packages/pandas/util/_decorators.py:331\u001b[0m, in \u001b[0;36mdeprecate_nonkeyword_arguments.<locals>.decorate.<locals>.wrapper\u001b[0;34m(*args, **kwargs)\u001b[0m\n\u001b[1;32m    325\u001b[0m \u001b[38;5;28;01mif\u001b[39;00m \u001b[38;5;28mlen\u001b[39m(args) \u001b[38;5;241m>\u001b[39m num_allow_args:\n\u001b[1;32m    326\u001b[0m     warnings\u001b[38;5;241m.\u001b[39mwarn(\n\u001b[1;32m    327\u001b[0m         msg\u001b[38;5;241m.\u001b[39mformat(arguments\u001b[38;5;241m=\u001b[39m_format_argument_list(allow_args)),\n\u001b[1;32m    328\u001b[0m         \u001b[38;5;167;01mFutureWarning\u001b[39;00m,\n\u001b[1;32m    329\u001b[0m         stacklevel\u001b[38;5;241m=\u001b[39mfind_stack_level(),\n\u001b[1;32m    330\u001b[0m     )\n\u001b[0;32m--> 331\u001b[0m \u001b[38;5;28;01mreturn\u001b[39;00m func(\u001b[38;5;241m*\u001b[39margs, \u001b[38;5;241m*\u001b[39m\u001b[38;5;241m*\u001b[39mkwargs)\n",
            "File \u001b[0;32m~/anaconda3/lib/python3.11/site-packages/pandas/core/reshape/concat.py:368\u001b[0m, in \u001b[0;36mconcat\u001b[0;34m(objs, axis, join, ignore_index, keys, levels, names, verify_integrity, sort, copy)\u001b[0m\n\u001b[1;32m    146\u001b[0m \u001b[38;5;129m@deprecate_nonkeyword_arguments\u001b[39m(version\u001b[38;5;241m=\u001b[39m\u001b[38;5;28;01mNone\u001b[39;00m, allowed_args\u001b[38;5;241m=\u001b[39m[\u001b[38;5;124m\"\u001b[39m\u001b[38;5;124mobjs\u001b[39m\u001b[38;5;124m\"\u001b[39m])\n\u001b[1;32m    147\u001b[0m \u001b[38;5;28;01mdef\u001b[39;00m \u001b[38;5;21mconcat\u001b[39m(\n\u001b[1;32m    148\u001b[0m     objs: Iterable[NDFrame] \u001b[38;5;241m|\u001b[39m Mapping[HashableT, NDFrame],\n\u001b[0;32m   (...)\u001b[0m\n\u001b[1;32m    157\u001b[0m     copy: \u001b[38;5;28mbool\u001b[39m \u001b[38;5;241m=\u001b[39m \u001b[38;5;28;01mTrue\u001b[39;00m,\n\u001b[1;32m    158\u001b[0m ) \u001b[38;5;241m-\u001b[39m\u001b[38;5;241m>\u001b[39m DataFrame \u001b[38;5;241m|\u001b[39m Series:\n\u001b[1;32m    159\u001b[0m \u001b[38;5;250m    \u001b[39m\u001b[38;5;124;03m\"\"\"\u001b[39;00m\n\u001b[1;32m    160\u001b[0m \u001b[38;5;124;03m    Concatenate pandas objects along a particular axis.\u001b[39;00m\n\u001b[1;32m    161\u001b[0m \n\u001b[0;32m   (...)\u001b[0m\n\u001b[1;32m    366\u001b[0m \u001b[38;5;124;03m    1   3   4\u001b[39;00m\n\u001b[1;32m    367\u001b[0m \u001b[38;5;124;03m    \"\"\"\u001b[39;00m\n\u001b[0;32m--> 368\u001b[0m     op \u001b[38;5;241m=\u001b[39m _Concatenator(\n\u001b[1;32m    369\u001b[0m         objs,\n\u001b[1;32m    370\u001b[0m         axis\u001b[38;5;241m=\u001b[39maxis,\n\u001b[1;32m    371\u001b[0m         ignore_index\u001b[38;5;241m=\u001b[39mignore_index,\n\u001b[1;32m    372\u001b[0m         join\u001b[38;5;241m=\u001b[39mjoin,\n\u001b[1;32m    373\u001b[0m         keys\u001b[38;5;241m=\u001b[39mkeys,\n\u001b[1;32m    374\u001b[0m         levels\u001b[38;5;241m=\u001b[39mlevels,\n\u001b[1;32m    375\u001b[0m         names\u001b[38;5;241m=\u001b[39mnames,\n\u001b[1;32m    376\u001b[0m         verify_integrity\u001b[38;5;241m=\u001b[39mverify_integrity,\n\u001b[1;32m    377\u001b[0m         copy\u001b[38;5;241m=\u001b[39mcopy,\n\u001b[1;32m    378\u001b[0m         sort\u001b[38;5;241m=\u001b[39msort,\n\u001b[1;32m    379\u001b[0m     )\n\u001b[1;32m    381\u001b[0m     \u001b[38;5;28;01mreturn\u001b[39;00m op\u001b[38;5;241m.\u001b[39mget_result()\n",
            "File \u001b[0;32m~/anaconda3/lib/python3.11/site-packages/pandas/core/reshape/concat.py:403\u001b[0m, in \u001b[0;36m_Concatenator.__init__\u001b[0;34m(self, objs, axis, join, keys, levels, names, ignore_index, verify_integrity, copy, sort)\u001b[0m\n\u001b[1;32m    389\u001b[0m \u001b[38;5;28;01mdef\u001b[39;00m \u001b[38;5;21m__init__\u001b[39m(\n\u001b[1;32m    390\u001b[0m     \u001b[38;5;28mself\u001b[39m,\n\u001b[1;32m    391\u001b[0m     objs: Iterable[NDFrame] \u001b[38;5;241m|\u001b[39m Mapping[HashableT, NDFrame],\n\u001b[0;32m   (...)\u001b[0m\n\u001b[1;32m    400\u001b[0m     sort\u001b[38;5;241m=\u001b[39m\u001b[38;5;28;01mFalse\u001b[39;00m,\n\u001b[1;32m    401\u001b[0m ) \u001b[38;5;241m-\u001b[39m\u001b[38;5;241m>\u001b[39m \u001b[38;5;28;01mNone\u001b[39;00m:\n\u001b[1;32m    402\u001b[0m     \u001b[38;5;28;01mif\u001b[39;00m \u001b[38;5;28misinstance\u001b[39m(objs, (ABCSeries, ABCDataFrame, \u001b[38;5;28mstr\u001b[39m)):\n\u001b[0;32m--> 403\u001b[0m         \u001b[38;5;28;01mraise\u001b[39;00m \u001b[38;5;167;01mTypeError\u001b[39;00m(\n\u001b[1;32m    404\u001b[0m             \u001b[38;5;124m\"\u001b[39m\u001b[38;5;124mfirst argument must be an iterable of pandas \u001b[39m\u001b[38;5;124m\"\u001b[39m\n\u001b[1;32m    405\u001b[0m             \u001b[38;5;124mf\u001b[39m\u001b[38;5;124m'\u001b[39m\u001b[38;5;124mobjects, you passed an object of type \u001b[39m\u001b[38;5;124m\"\u001b[39m\u001b[38;5;132;01m{\u001b[39;00m\u001b[38;5;28mtype\u001b[39m(objs)\u001b[38;5;241m.\u001b[39m\u001b[38;5;18m__name__\u001b[39m\u001b[38;5;132;01m}\u001b[39;00m\u001b[38;5;124m\"\u001b[39m\u001b[38;5;124m'\u001b[39m\n\u001b[1;32m    406\u001b[0m         )\n\u001b[1;32m    408\u001b[0m     \u001b[38;5;28;01mif\u001b[39;00m join \u001b[38;5;241m==\u001b[39m \u001b[38;5;124m\"\u001b[39m\u001b[38;5;124mouter\u001b[39m\u001b[38;5;124m\"\u001b[39m:\n\u001b[1;32m    409\u001b[0m         \u001b[38;5;28mself\u001b[39m\u001b[38;5;241m.\u001b[39mintersect \u001b[38;5;241m=\u001b[39m \u001b[38;5;28;01mFalse\u001b[39;00m\n",
            "\u001b[0;31mTypeError\u001b[0m: first argument must be an iterable of pandas objects, you passed an object of type \"Series\""
          ]
        }
      ],
      "source": [
        "pd.concat(s1, s2)"
      ]
    },
    {
      "cell_type": "code",
      "execution_count": null,
      "id": "efb4d294",
      "metadata": {
        "id": "efb4d294",
        "outputId": "366e2804-0e57-488e-e249-15cacc4ea289"
      },
      "outputs": [
        {
          "ename": "TypeError",
          "evalue": "'function' object is not subscriptable",
          "output_type": "error",
          "traceback": [
            "\u001b[0;31m---------------------------------------------------------------------------\u001b[0m",
            "\u001b[0;31mTypeError\u001b[0m                                 Traceback (most recent call last)",
            "Cell \u001b[0;32mIn[51], line 1\u001b[0m\n\u001b[0;32m----> 1\u001b[0m pd\u001b[38;5;241m.\u001b[39mconcat[s1, s2]\n",
            "\u001b[0;31mTypeError\u001b[0m: 'function' object is not subscriptable"
          ]
        }
      ],
      "source": [
        "pd.concat[s1, s2]"
      ]
    },
    {
      "cell_type": "code",
      "execution_count": null,
      "id": "5fe3abb8",
      "metadata": {
        "id": "5fe3abb8",
        "outputId": "b026a117-556b-4bee-bb12-f184d9f88f46"
      },
      "outputs": [
        {
          "data": {
            "text/plain": [
              "array([4])"
            ]
          },
          "execution_count": 56,
          "metadata": {},
          "output_type": "execute_result"
        }
      ],
      "source": [
        "list_ = [4]\n",
        "abc =np.array(list_)\n",
        "abc"
      ]
    },
    {
      "cell_type": "code",
      "execution_count": null,
      "id": "91fac5e8",
      "metadata": {
        "id": "91fac5e8",
        "outputId": "644c0ad5-95de-47d0-b973-0190251350c5"
      },
      "outputs": [
        {
          "ename": "SyntaxError",
          "evalue": "invalid character '‘' (U+2018) (1844531553.py, line 1)",
          "output_type": "error",
          "traceback": [
            "\u001b[0;36m  Cell \u001b[0;32mIn[57], line 1\u001b[0;36m\u001b[0m\n\u001b[0;31m    np.array[‘list_’]\u001b[0m\n\u001b[0m             ^\u001b[0m\n\u001b[0;31mSyntaxError\u001b[0m\u001b[0;31m:\u001b[0m invalid character '‘' (U+2018)\n"
          ]
        }
      ],
      "source": [
        "np.array[‘list_’]"
      ]
    },
    {
      "cell_type": "code",
      "execution_count": null,
      "id": "5ff0424f",
      "metadata": {
        "id": "5ff0424f",
        "outputId": "81c44b5b-6baf-4941-cbee-0241d537fce5"
      },
      "outputs": [
        {
          "ename": "TypeError",
          "evalue": "'builtin_function_or_method' object is not subscriptable",
          "output_type": "error",
          "traceback": [
            "\u001b[0;31m---------------------------------------------------------------------------\u001b[0m",
            "\u001b[0;31mTypeError\u001b[0m                                 Traceback (most recent call last)",
            "Cell \u001b[0;32mIn[58], line 1\u001b[0m\n\u001b[0;32m----> 1\u001b[0m np\u001b[38;5;241m.\u001b[39marray[list_]\n",
            "\u001b[0;31mTypeError\u001b[0m: 'builtin_function_or_method' object is not subscriptable"
          ]
        }
      ],
      "source": [
        "np.array[list_]"
      ]
    },
    {
      "cell_type": "code",
      "execution_count": null,
      "id": "305dafd0",
      "metadata": {
        "id": "305dafd0",
        "outputId": "505b5e68-338b-4be9-9aa7-967d7aa5654a"
      },
      "outputs": [
        {
          "ename": "SyntaxError",
          "evalue": "invalid syntax (4135652410.py, line 1)",
          "output_type": "error",
          "traceback": [
            "\u001b[0;36m  Cell \u001b[0;32mIn[59], line 1\u001b[0;36m\u001b[0m\n\u001b[0;31m    np.array{list_}\u001b[0m\n\u001b[0m            ^\u001b[0m\n\u001b[0;31mSyntaxError\u001b[0m\u001b[0;31m:\u001b[0m invalid syntax\n"
          ]
        }
      ],
      "source": [
        "np.array{list_}"
      ]
    },
    {
      "cell_type": "code",
      "execution_count": null,
      "id": "1c34027c",
      "metadata": {
        "id": "1c34027c",
        "outputId": "3075e7e2-a4b3-4962-8a58-5ca043b8e65e"
      },
      "outputs": [
        {
          "data": {
            "text/plain": [
              "[24, 235, 34, 456, 65, 67]"
            ]
          },
          "execution_count": 60,
          "metadata": {},
          "output_type": "execute_result"
        }
      ],
      "source": [
        "football = [24, 235, 34, 456, 65, 67]\n",
        "football"
      ]
    },
    {
      "cell_type": "code",
      "execution_count": null,
      "id": "ed1a376a",
      "metadata": {
        "id": "ed1a376a"
      },
      "outputs": [],
      "source": [
        "n6 = np.matrix([[ 1, 4, 9, 121, 144, 169],\n",
        "[ 16, 25, 36, 196, 225, 256], [ 49, 64, 81, 289, 324, 361]])"
      ]
    },
    {
      "cell_type": "code",
      "execution_count": null,
      "id": "64e97b32",
      "metadata": {
        "id": "64e97b32",
        "outputId": "5cbdbc74-9392-4dab-d1ff-8dc19413fb9d"
      },
      "outputs": [
        {
          "data": {
            "text/plain": [
              "matrix([[  1,   4,   9, 121, 144, 169],\n",
              "        [ 16,  25,  36, 196, 225, 256],\n",
              "        [ 49,  64,  81, 289, 324, 361]])"
            ]
          },
          "execution_count": 69,
          "metadata": {},
          "output_type": "execute_result"
        }
      ],
      "source": [
        "n6p = np.arange(20)"
      ]
    },
    {
      "cell_type": "code",
      "execution_count": null,
      "id": "902ed0b2",
      "metadata": {
        "id": "902ed0b2",
        "outputId": "b81e9c1b-85c9-4a43-ef7d-374b60a20842"
      },
      "outputs": [
        {
          "data": {
            "text/plain": [
              "131.66666666666666"
            ]
          },
          "execution_count": 70,
          "metadata": {},
          "output_type": "execute_result"
        }
      ],
      "source": [
        "n6.mean()"
      ]
    },
    {
      "cell_type": "code",
      "execution_count": null,
      "id": "c2985e54",
      "metadata": {
        "id": "c2985e54"
      },
      "outputs": [],
      "source": [
        "n1 = np.matrix([[121, 144, 169],\n",
        "[196, 225, 256], [ 289, 324, 361]])\n",
        "n2 = np.matrix([[ 1, 4, 9],\n",
        "[ 1, 5, 4], [ 9, 4, 8]])"
      ]
    },
    {
      "cell_type": "code",
      "execution_count": null,
      "id": "faca9e85",
      "metadata": {
        "id": "faca9e85",
        "outputId": "69e2540a-2738-42b5-ec5a-e03d23244ae4"
      },
      "outputs": [
        {
          "data": {
            "text/plain": [
              "matrix([[1786, 1880, 3017],\n",
              "        [2725, 2933, 4712],\n",
              "        [3862, 4220, 6785]])"
            ]
          },
          "execution_count": 72,
          "metadata": {},
          "output_type": "execute_result"
        }
      ],
      "source": [
        "np.dot(n1,n2)"
      ]
    },
    {
      "cell_type": "code",
      "execution_count": null,
      "id": "95987b17",
      "metadata": {
        "id": "95987b17",
        "outputId": "d4f495d7-8d1d-48d3-d85c-5260c32686e8"
      },
      "outputs": [
        {
          "data": {
            "text/plain": [
              "array([2, 3, 4, 5, 6])"
            ]
          },
          "execution_count": 73,
          "metadata": {},
          "output_type": "execute_result"
        }
      ],
      "source": [
        "np.arange(20)[2:7]"
      ]
    },
    {
      "cell_type": "code",
      "execution_count": null,
      "id": "66566d9c",
      "metadata": {
        "id": "66566d9c",
        "outputId": "0da42417-8b88-44ac-d592-1bc7421ca78f"
      },
      "outputs": [
        {
          "data": {
            "text/plain": [
              "array([ 0,  9, 18])"
            ]
          },
          "execution_count": 74,
          "metadata": {},
          "output_type": "execute_result"
        }
      ],
      "source": [
        "np.arange(20)[0::9]"
      ]
    },
    {
      "cell_type": "code",
      "execution_count": null,
      "id": "d2c51645",
      "metadata": {
        "id": "d2c51645"
      },
      "outputs": [],
      "source": [
        "p = np.arange(20)"
      ]
    },
    {
      "cell_type": "code",
      "execution_count": null,
      "id": "8cee2e0a",
      "metadata": {
        "id": "8cee2e0a",
        "outputId": "c1bc12d5-1d1f-4f64-c4a1-cf58b8e6ccb6"
      },
      "outputs": [
        {
          "data": {
            "text/plain": [
              "array([ 0,  1,  2,  3,  4,  5,  6,  7,  8,  9, 10, 11, 12, 13, 14, 15, 16,\n",
              "       17, 18, 19])"
            ]
          },
          "execution_count": 76,
          "metadata": {},
          "output_type": "execute_result"
        }
      ],
      "source": [
        "p"
      ]
    },
    {
      "cell_type": "code",
      "execution_count": null,
      "id": "de7dd824",
      "metadata": {
        "id": "de7dd824",
        "outputId": "ff8ca107-9f5c-458b-f9ce-cfcb7076c0f9"
      },
      "outputs": [
        {
          "data": {
            "text/plain": [
              "array([ 0,  1,  2,  3,  4,  5,  6,  7,  8,  9, 10, 11, 12, 13, 14, 15, 16,\n",
              "       17, 18])"
            ]
          },
          "execution_count": 77,
          "metadata": {},
          "output_type": "execute_result"
        }
      ],
      "source": [
        "p[:-1]"
      ]
    },
    {
      "cell_type": "code",
      "execution_count": null,
      "id": "2d612a04",
      "metadata": {
        "id": "2d612a04",
        "outputId": "ee1ac6ab-75cb-40dd-b2e8-8c9a26380bf9"
      },
      "outputs": [
        {
          "data": {
            "text/plain": [
              "19"
            ]
          },
          "execution_count": 78,
          "metadata": {},
          "output_type": "execute_result"
        }
      ],
      "source": [
        "p[-1]"
      ]
    },
    {
      "cell_type": "code",
      "execution_count": null,
      "id": "4a6db09d",
      "metadata": {
        "id": "4a6db09d",
        "outputId": "e10612bd-ed8d-4d06-f679-ee5e3dc51387"
      },
      "outputs": [
        {
          "data": {
            "text/plain": [
              "array([19, 18, 17, 16, 15, 14, 13, 12, 11, 10,  9,  8,  7,  6,  5,  4,  3,\n",
              "        2,  1,  0])"
            ]
          },
          "execution_count": 79,
          "metadata": {},
          "output_type": "execute_result"
        }
      ],
      "source": [
        "p[::-1]"
      ]
    },
    {
      "cell_type": "code",
      "execution_count": null,
      "id": "f7a223fc",
      "metadata": {
        "id": "f7a223fc",
        "outputId": "0fb555ba-de5b-44b4-bd68-7509b8460c02"
      },
      "outputs": [
        {
          "data": {
            "text/plain": [
              "matrix([[9, 4, 8],\n",
              "        [1, 5, 4],\n",
              "        [1, 4, 9]])"
            ]
          },
          "execution_count": 80,
          "metadata": {},
          "output_type": "execute_result"
        }
      ],
      "source": [
        "np.matrix([[ 1, 4, 9], [ 1, 5, 4], [ 9, 4, 8]])[::-1]"
      ]
    },
    {
      "cell_type": "code",
      "execution_count": null,
      "id": "d8f6b825",
      "metadata": {
        "id": "d8f6b825"
      },
      "outputs": [],
      "source": [
        "df = pd.read_csv('Practice quiz- Week 1/books.csv')"
      ]
    },
    {
      "cell_type": "code",
      "execution_count": null,
      "id": "29bd776e",
      "metadata": {
        "id": "29bd776e",
        "outputId": "00de084c-8cd4-4a27-cee6-b6a63cf42ef2"
      },
      "outputs": [
        {
          "data": {
            "text/html": [
              "<div>\n",
              "<style scoped>\n",
              "    .dataframe tbody tr th:only-of-type {\n",
              "        vertical-align: middle;\n",
              "    }\n",
              "\n",
              "    .dataframe tbody tr th {\n",
              "        vertical-align: top;\n",
              "    }\n",
              "\n",
              "    .dataframe thead th {\n",
              "        text-align: right;\n",
              "    }\n",
              "</style>\n",
              "<table border=\"1\" class=\"dataframe\">\n",
              "  <thead>\n",
              "    <tr style=\"text-align: right;\">\n",
              "      <th></th>\n",
              "      <th>average_rating</th>\n",
              "      <th>isbn13</th>\n",
              "      <th>num_pages</th>\n",
              "      <th>ratings_count</th>\n",
              "      <th>text_reviews_count</th>\n",
              "      <th>year</th>\n",
              "    </tr>\n",
              "  </thead>\n",
              "  <tbody>\n",
              "    <tr>\n",
              "      <th>count</th>\n",
              "      <td>5000.000000</td>\n",
              "      <td>5.000000e+03</td>\n",
              "      <td>4967.000000</td>\n",
              "      <td>5.000000e+03</td>\n",
              "      <td>5000.000000</td>\n",
              "      <td>5000.000000</td>\n",
              "    </tr>\n",
              "    <tr>\n",
              "      <th>mean</th>\n",
              "      <td>3.931932</td>\n",
              "      <td>9.752758e+12</td>\n",
              "      <td>341.094021</td>\n",
              "      <td>2.017549e+04</td>\n",
              "      <td>592.688600</td>\n",
              "      <td>2000.131800</td>\n",
              "    </tr>\n",
              "    <tr>\n",
              "      <th>std</th>\n",
              "      <td>0.348741</td>\n",
              "      <td>5.129254e+11</td>\n",
              "      <td>230.986115</td>\n",
              "      <td>1.175026e+05</td>\n",
              "      <td>2539.539004</td>\n",
              "      <td>8.069043</td>\n",
              "    </tr>\n",
              "    <tr>\n",
              "      <th>min</th>\n",
              "      <td>0.000000</td>\n",
              "      <td>8.987060e+09</td>\n",
              "      <td>1.000000</td>\n",
              "      <td>0.000000e+00</td>\n",
              "      <td>0.000000</td>\n",
              "      <td>1913.000000</td>\n",
              "    </tr>\n",
              "    <tr>\n",
              "      <th>25%</th>\n",
              "      <td>3.770000</td>\n",
              "      <td>9.780345e+12</td>\n",
              "      <td>200.000000</td>\n",
              "      <td>1.050000e+02</td>\n",
              "      <td>9.000000</td>\n",
              "      <td>1998.000000</td>\n",
              "    </tr>\n",
              "    <tr>\n",
              "      <th>50%</th>\n",
              "      <td>3.960000</td>\n",
              "      <td>9.780571e+12</td>\n",
              "      <td>304.000000</td>\n",
              "      <td>7.915000e+02</td>\n",
              "      <td>49.000000</td>\n",
              "      <td>2003.000000</td>\n",
              "    </tr>\n",
              "    <tr>\n",
              "      <th>75%</th>\n",
              "      <td>4.140000</td>\n",
              "      <td>9.780871e+12</td>\n",
              "      <td>416.500000</td>\n",
              "      <td>5.348750e+03</td>\n",
              "      <td>249.000000</td>\n",
              "      <td>2005.000000</td>\n",
              "    </tr>\n",
              "    <tr>\n",
              "      <th>max</th>\n",
              "      <td>5.000000</td>\n",
              "      <td>9.789879e+12</td>\n",
              "      <td>3342.000000</td>\n",
              "      <td>2.457092e+06</td>\n",
              "      <td>55843.000000</td>\n",
              "      <td>2019.000000</td>\n",
              "    </tr>\n",
              "  </tbody>\n",
              "</table>\n",
              "</div>"
            ],
            "text/plain": [
              "       average_rating        isbn13    num_pages  ratings_count  \\\n",
              "count     5000.000000  5.000000e+03  4967.000000   5.000000e+03   \n",
              "mean         3.931932  9.752758e+12   341.094021   2.017549e+04   \n",
              "std          0.348741  5.129254e+11   230.986115   1.175026e+05   \n",
              "min          0.000000  8.987060e+09     1.000000   0.000000e+00   \n",
              "25%          3.770000  9.780345e+12   200.000000   1.050000e+02   \n",
              "50%          3.960000  9.780571e+12   304.000000   7.915000e+02   \n",
              "75%          4.140000  9.780871e+12   416.500000   5.348750e+03   \n",
              "max          5.000000  9.789879e+12  3342.000000   2.457092e+06   \n",
              "\n",
              "       text_reviews_count         year  \n",
              "count         5000.000000  5000.000000  \n",
              "mean           592.688600  2000.131800  \n",
              "std           2539.539004     8.069043  \n",
              "min              0.000000  1913.000000  \n",
              "25%              9.000000  1998.000000  \n",
              "50%             49.000000  2003.000000  \n",
              "75%            249.000000  2005.000000  \n",
              "max          55843.000000  2019.000000  "
            ]
          },
          "execution_count": 82,
          "metadata": {},
          "output_type": "execute_result"
        }
      ],
      "source": [
        "df.describe()"
      ]
    },
    {
      "cell_type": "code",
      "execution_count": null,
      "id": "09d50a98",
      "metadata": {
        "id": "09d50a98",
        "outputId": "1b2c8577-6fdb-4f98-cbe4-cf220f001bd2"
      },
      "outputs": [
        {
          "ename": "AttributeError",
          "evalue": "'DataFrame' object has no attribute 'null'",
          "output_type": "error",
          "traceback": [
            "\u001b[0;31m---------------------------------------------------------------------------\u001b[0m",
            "\u001b[0;31mAttributeError\u001b[0m                            Traceback (most recent call last)",
            "Cell \u001b[0;32mIn[83], line 1\u001b[0m\n\u001b[0;32m----> 1\u001b[0m df\u001b[38;5;241m.\u001b[39mnull()\n",
            "File \u001b[0;32m~/anaconda3/lib/python3.11/site-packages/pandas/core/generic.py:5902\u001b[0m, in \u001b[0;36mNDFrame.__getattr__\u001b[0;34m(self, name)\u001b[0m\n\u001b[1;32m   5895\u001b[0m \u001b[38;5;28;01mif\u001b[39;00m (\n\u001b[1;32m   5896\u001b[0m     name \u001b[38;5;129;01mnot\u001b[39;00m \u001b[38;5;129;01min\u001b[39;00m \u001b[38;5;28mself\u001b[39m\u001b[38;5;241m.\u001b[39m_internal_names_set\n\u001b[1;32m   5897\u001b[0m     \u001b[38;5;129;01mand\u001b[39;00m name \u001b[38;5;129;01mnot\u001b[39;00m \u001b[38;5;129;01min\u001b[39;00m \u001b[38;5;28mself\u001b[39m\u001b[38;5;241m.\u001b[39m_metadata\n\u001b[1;32m   5898\u001b[0m     \u001b[38;5;129;01mand\u001b[39;00m name \u001b[38;5;129;01mnot\u001b[39;00m \u001b[38;5;129;01min\u001b[39;00m \u001b[38;5;28mself\u001b[39m\u001b[38;5;241m.\u001b[39m_accessors\n\u001b[1;32m   5899\u001b[0m     \u001b[38;5;129;01mand\u001b[39;00m \u001b[38;5;28mself\u001b[39m\u001b[38;5;241m.\u001b[39m_info_axis\u001b[38;5;241m.\u001b[39m_can_hold_identifiers_and_holds_name(name)\n\u001b[1;32m   5900\u001b[0m ):\n\u001b[1;32m   5901\u001b[0m     \u001b[38;5;28;01mreturn\u001b[39;00m \u001b[38;5;28mself\u001b[39m[name]\n\u001b[0;32m-> 5902\u001b[0m \u001b[38;5;28;01mreturn\u001b[39;00m \u001b[38;5;28mobject\u001b[39m\u001b[38;5;241m.\u001b[39m\u001b[38;5;21m__getattribute__\u001b[39m(\u001b[38;5;28mself\u001b[39m, name)\n",
            "\u001b[0;31mAttributeError\u001b[0m: 'DataFrame' object has no attribute 'null'"
          ]
        }
      ],
      "source": [
        "df.null()"
      ]
    },
    {
      "cell_type": "code",
      "execution_count": null,
      "id": "d3f29f41",
      "metadata": {
        "id": "d3f29f41",
        "outputId": "b7b608b5-d2b9-443e-dd0c-6aa24fd07224"
      },
      "outputs": [
        {
          "data": {
            "text/plain": [
              "title                  0\n",
              "author                 0\n",
              "average_rating         0\n",
              "isbn13                 0\n",
              "language_code         77\n",
              "num_pages             33\n",
              "ratings_count          0\n",
              "text_reviews_count     0\n",
              "publisher              0\n",
              "year                   0\n",
              "dtype: int64"
            ]
          },
          "execution_count": 86,
          "metadata": {},
          "output_type": "execute_result"
        }
      ],
      "source": [
        "df.isnull().sum()"
      ]
    },
    {
      "cell_type": "code",
      "execution_count": null,
      "id": "28b086ec",
      "metadata": {
        "id": "28b086ec",
        "outputId": "9a4e252f-2e0c-4d3d-c3ef-5c10ae45626c"
      },
      "outputs": [
        {
          "name": "stdout",
          "output_type": "stream",
          "text": [
            "<class 'pandas.core.frame.DataFrame'>\n",
            "RangeIndex: 5000 entries, 0 to 4999\n",
            "Data columns (total 10 columns):\n",
            " #   Column              Non-Null Count  Dtype  \n",
            "---  ------              --------------  -----  \n",
            " 0   title               5000 non-null   object \n",
            " 1   author              5000 non-null   object \n",
            " 2   average_rating      5000 non-null   float64\n",
            " 3   isbn13              5000 non-null   int64  \n",
            " 4   language_code       4923 non-null   object \n",
            " 5   num_pages           4967 non-null   float64\n",
            " 6   ratings_count       5000 non-null   int64  \n",
            " 7   text_reviews_count  5000 non-null   int64  \n",
            " 8   publisher           5000 non-null   object \n",
            " 9   year                5000 non-null   int64  \n",
            "dtypes: float64(2), int64(4), object(4)\n",
            "memory usage: 390.8+ KB\n"
          ]
        }
      ],
      "source": [
        "df.info()"
      ]
    },
    {
      "cell_type": "code",
      "execution_count": null,
      "id": "1dd924f1",
      "metadata": {
        "id": "1dd924f1",
        "outputId": "48c01ef7-4789-42fa-dd1d-f7164b08c543"
      },
      "outputs": [
        {
          "data": {
            "text/plain": [
              "1408"
            ]
          },
          "execution_count": 91,
          "metadata": {},
          "output_type": "execute_result"
        }
      ],
      "source": [
        "len(pd.unique(df['publisher']))"
      ]
    },
    {
      "cell_type": "code",
      "execution_count": null,
      "id": "56eddad6",
      "metadata": {
        "id": "56eddad6",
        "outputId": "002d281a-33b2-449d-940a-4d7aeecd1bcc"
      },
      "outputs": [
        {
          "data": {
            "text/html": [
              "<div>\n",
              "<style scoped>\n",
              "    .dataframe tbody tr th:only-of-type {\n",
              "        vertical-align: middle;\n",
              "    }\n",
              "\n",
              "    .dataframe tbody tr th {\n",
              "        vertical-align: top;\n",
              "    }\n",
              "\n",
              "    .dataframe thead th {\n",
              "        text-align: right;\n",
              "    }\n",
              "</style>\n",
              "<table border=\"1\" class=\"dataframe\">\n",
              "  <thead>\n",
              "    <tr style=\"text-align: right;\">\n",
              "      <th></th>\n",
              "      <th>title</th>\n",
              "      <th>author</th>\n",
              "      <th>average_rating</th>\n",
              "      <th>isbn13</th>\n",
              "      <th>language_code</th>\n",
              "      <th>num_pages</th>\n",
              "      <th>ratings_count</th>\n",
              "      <th>text_reviews_count</th>\n",
              "      <th>publisher</th>\n",
              "      <th>year</th>\n",
              "    </tr>\n",
              "  </thead>\n",
              "  <tbody>\n",
              "    <tr>\n",
              "      <th>1</th>\n",
              "      <td>La Cucina Di Lidia: Recipes and Memories from ...</td>\n",
              "      <td>Lidia Matticchio Bastianich</td>\n",
              "      <td>4.14</td>\n",
              "      <td>9780767914222</td>\n",
              "      <td>en-GB</td>\n",
              "      <td>288.0</td>\n",
              "      <td>48</td>\n",
              "      <td>3</td>\n",
              "      <td>Clarkson Potter</td>\n",
              "      <td>2003</td>\n",
              "    </tr>\n",
              "    <tr>\n",
              "      <th>4</th>\n",
              "      <td>The Killing Dance (Anita Blake  Vampire Hunter...</td>\n",
              "      <td>Laurell K. Hamilton</td>\n",
              "      <td>4.13</td>\n",
              "      <td>9780425209066</td>\n",
              "      <td>en-US</td>\n",
              "      <td>368.0</td>\n",
              "      <td>59524</td>\n",
              "      <td>946</td>\n",
              "      <td>Berkley Hardcover</td>\n",
              "      <td>2006</td>\n",
              "    </tr>\n",
              "    <tr>\n",
              "      <th>5</th>\n",
              "      <td>The Hand of Chaos (The Death Gate Cycle  #5)</td>\n",
              "      <td>Margaret Weis</td>\n",
              "      <td>4.06</td>\n",
              "      <td>9780553563696</td>\n",
              "      <td>eng</td>\n",
              "      <td>446.0</td>\n",
              "      <td>16301</td>\n",
              "      <td>117</td>\n",
              "      <td>Spectra</td>\n",
              "      <td>1993</td>\n",
              "    </tr>\n",
              "    <tr>\n",
              "      <th>6</th>\n",
              "      <td>On Intelligence</td>\n",
              "      <td>Jeff Hawkins</td>\n",
              "      <td>4.12</td>\n",
              "      <td>9780805078534</td>\n",
              "      <td>eng</td>\n",
              "      <td>261.0</td>\n",
              "      <td>5347</td>\n",
              "      <td>396</td>\n",
              "      <td>St. Martin's Griffin</td>\n",
              "      <td>2005</td>\n",
              "    </tr>\n",
              "    <tr>\n",
              "      <th>11</th>\n",
              "      <td>Merlin's Tour of the Universe</td>\n",
              "      <td>Neil deGrasse Tyson</td>\n",
              "      <td>4.02</td>\n",
              "      <td>9780385488358</td>\n",
              "      <td>eng</td>\n",
              "      <td>318.0</td>\n",
              "      <td>305</td>\n",
              "      <td>27</td>\n",
              "      <td>Main Street Books</td>\n",
              "      <td>1997</td>\n",
              "    </tr>\n",
              "    <tr>\n",
              "      <th>...</th>\n",
              "      <td>...</td>\n",
              "      <td>...</td>\n",
              "      <td>...</td>\n",
              "      <td>...</td>\n",
              "      <td>...</td>\n",
              "      <td>...</td>\n",
              "      <td>...</td>\n",
              "      <td>...</td>\n",
              "      <td>...</td>\n",
              "      <td>...</td>\n",
              "    </tr>\n",
              "    <tr>\n",
              "      <th>4991</th>\n",
              "      <td>'Salem's Lot</td>\n",
              "      <td>Stephen King</td>\n",
              "      <td>4.02</td>\n",
              "      <td>9780965772419</td>\n",
              "      <td>eng</td>\n",
              "      <td>405.0</td>\n",
              "      <td>1039</td>\n",
              "      <td>130</td>\n",
              "      <td>Doubleday</td>\n",
              "      <td>1975</td>\n",
              "    </tr>\n",
              "    <tr>\n",
              "      <th>4992</th>\n",
              "      <td>A Mad People's History of Madness</td>\n",
              "      <td>Dale Peterson</td>\n",
              "      <td>4.33</td>\n",
              "      <td>9780822953319</td>\n",
              "      <td>eng</td>\n",
              "      <td>384.0</td>\n",
              "      <td>9</td>\n",
              "      <td>0</td>\n",
              "      <td>University of Pittsburgh Press</td>\n",
              "      <td>1982</td>\n",
              "    </tr>\n",
              "    <tr>\n",
              "      <th>4993</th>\n",
              "      <td>A Christmas Carol (Great Illustrated Classics)</td>\n",
              "      <td>Malvina G. Vogel</td>\n",
              "      <td>4.36</td>\n",
              "      <td>9781596792371</td>\n",
              "      <td>eng</td>\n",
              "      <td>238.0</td>\n",
              "      <td>466</td>\n",
              "      <td>31</td>\n",
              "      <td>Abdo Publishing Company</td>\n",
              "      <td>2005</td>\n",
              "    </tr>\n",
              "    <tr>\n",
              "      <th>4995</th>\n",
              "      <td>The Complete Works</td>\n",
              "      <td>Michel de Montaigne</td>\n",
              "      <td>4.44</td>\n",
              "      <td>9781400040216</td>\n",
              "      <td>eng</td>\n",
              "      <td>1392.0</td>\n",
              "      <td>166</td>\n",
              "      <td>13</td>\n",
              "      <td>Everyman's Library</td>\n",
              "      <td>2003</td>\n",
              "    </tr>\n",
              "    <tr>\n",
              "      <th>4999</th>\n",
              "      <td>The Avignon Quintet: Monsieur  Livia  Constanc...</td>\n",
              "      <td>Lawrence Durrell</td>\n",
              "      <td>4.07</td>\n",
              "      <td>9780571225552</td>\n",
              "      <td>en-US</td>\n",
              "      <td>1376.0</td>\n",
              "      <td>287</td>\n",
              "      <td>23</td>\n",
              "      <td>Faber &amp; Faber</td>\n",
              "      <td>2004</td>\n",
              "    </tr>\n",
              "  </tbody>\n",
              "</table>\n",
              "<p>2115 rows × 10 columns</p>\n",
              "</div>"
            ],
            "text/plain": [
              "                                                  title  \\\n",
              "1     La Cucina Di Lidia: Recipes and Memories from ...   \n",
              "4     The Killing Dance (Anita Blake  Vampire Hunter...   \n",
              "5          The Hand of Chaos (The Death Gate Cycle  #5)   \n",
              "6                                       On Intelligence   \n",
              "11                        Merlin's Tour of the Universe   \n",
              "...                                                 ...   \n",
              "4991                                       'Salem's Lot   \n",
              "4992                  A Mad People's History of Madness   \n",
              "4993     A Christmas Carol (Great Illustrated Classics)   \n",
              "4995                                 The Complete Works   \n",
              "4999  The Avignon Quintet: Monsieur  Livia  Constanc...   \n",
              "\n",
              "                           author  average_rating         isbn13  \\\n",
              "1     Lidia Matticchio Bastianich            4.14  9780767914222   \n",
              "4             Laurell K. Hamilton            4.13  9780425209066   \n",
              "5                   Margaret Weis            4.06  9780553563696   \n",
              "6                    Jeff Hawkins            4.12  9780805078534   \n",
              "11            Neil deGrasse Tyson            4.02  9780385488358   \n",
              "...                           ...             ...            ...   \n",
              "4991                 Stephen King            4.02  9780965772419   \n",
              "4992                Dale Peterson            4.33  9780822953319   \n",
              "4993             Malvina G. Vogel            4.36  9781596792371   \n",
              "4995          Michel de Montaigne            4.44  9781400040216   \n",
              "4999             Lawrence Durrell            4.07  9780571225552   \n",
              "\n",
              "     language_code  num_pages  ratings_count  text_reviews_count  \\\n",
              "1            en-GB      288.0             48                   3   \n",
              "4            en-US      368.0          59524                 946   \n",
              "5              eng      446.0          16301                 117   \n",
              "6              eng      261.0           5347                 396   \n",
              "11             eng      318.0            305                  27   \n",
              "...            ...        ...            ...                 ...   \n",
              "4991           eng      405.0           1039                 130   \n",
              "4992           eng      384.0              9                   0   \n",
              "4993           eng      238.0            466                  31   \n",
              "4995           eng     1392.0            166                  13   \n",
              "4999         en-US     1376.0            287                  23   \n",
              "\n",
              "                           publisher  year  \n",
              "1                    Clarkson Potter  2003  \n",
              "4                  Berkley Hardcover  2006  \n",
              "5                            Spectra  1993  \n",
              "6               St. Martin's Griffin  2005  \n",
              "11                 Main Street Books  1997  \n",
              "...                              ...   ...  \n",
              "4991                       Doubleday  1975  \n",
              "4992  University of Pittsburgh Press  1982  \n",
              "4993         Abdo Publishing Company  2005  \n",
              "4995              Everyman's Library  2003  \n",
              "4999                   Faber & Faber  2004  \n",
              "\n",
              "[2115 rows x 10 columns]"
            ]
          },
          "execution_count": 93,
          "metadata": {},
          "output_type": "execute_result"
        }
      ],
      "source": [
        "df[df['average_rating']>4]"
      ]
    },
    {
      "cell_type": "code",
      "execution_count": null,
      "id": "dc3d8b0e",
      "metadata": {
        "id": "dc3d8b0e",
        "outputId": "62ca035c-16cb-411a-cd30-e5e10c70e061"
      },
      "outputs": [
        {
          "data": {
            "text/html": [
              "<div>\n",
              "<style scoped>\n",
              "    .dataframe tbody tr th:only-of-type {\n",
              "        vertical-align: middle;\n",
              "    }\n",
              "\n",
              "    .dataframe tbody tr th {\n",
              "        vertical-align: top;\n",
              "    }\n",
              "\n",
              "    .dataframe thead th {\n",
              "        text-align: right;\n",
              "    }\n",
              "</style>\n",
              "<table border=\"1\" class=\"dataframe\">\n",
              "  <thead>\n",
              "    <tr style=\"text-align: right;\">\n",
              "      <th></th>\n",
              "      <th>title</th>\n",
              "      <th>author</th>\n",
              "      <th>average_rating</th>\n",
              "      <th>isbn13</th>\n",
              "      <th>language_code</th>\n",
              "      <th>num_pages</th>\n",
              "      <th>ratings_count</th>\n",
              "      <th>text_reviews_count</th>\n",
              "      <th>publisher</th>\n",
              "      <th>year</th>\n",
              "    </tr>\n",
              "  </thead>\n",
              "  <tbody>\n",
              "    <tr>\n",
              "      <th>61</th>\n",
              "      <td>Black Hole  tome 3: Visions</td>\n",
              "      <td>Charles Burns</td>\n",
              "      <td>4.00</td>\n",
              "      <td>9782840555520</td>\n",
              "      <td>NaN</td>\n",
              "      <td>63.0</td>\n",
              "      <td>3</td>\n",
              "      <td>0</td>\n",
              "      <td>Delcourt</td>\n",
              "      <td>2001</td>\n",
              "    </tr>\n",
              "    <tr>\n",
              "      <th>63</th>\n",
              "      <td>鋼之鍊金術師 9</td>\n",
              "      <td>Hiromu Arakawa</td>\n",
              "      <td>4.57</td>\n",
              "      <td>9789861156521</td>\n",
              "      <td>NaN</td>\n",
              "      <td>184.0</td>\n",
              "      <td>4</td>\n",
              "      <td>0</td>\n",
              "      <td>東立</td>\n",
              "      <td>2004</td>\n",
              "    </tr>\n",
              "    <tr>\n",
              "      <th>108</th>\n",
              "      <td>La Maison des feuilles</td>\n",
              "      <td>Mark Z. Danielewski</td>\n",
              "      <td>4.10</td>\n",
              "      <td>9782207252000</td>\n",
              "      <td>NaN</td>\n",
              "      <td>978.0</td>\n",
              "      <td>79</td>\n",
              "      <td>13</td>\n",
              "      <td>Denoël</td>\n",
              "      <td>2002</td>\n",
              "    </tr>\n",
              "    <tr>\n",
              "      <th>161</th>\n",
              "      <td>Jojo's Bizarre Adventure  Tome 14: Le Navire d...</td>\n",
              "      <td>Hirohiko Araki</td>\n",
              "      <td>4.41</td>\n",
              "      <td>9782290328057</td>\n",
              "      <td>NaN</td>\n",
              "      <td>189.0</td>\n",
              "      <td>4</td>\n",
              "      <td>2</td>\n",
              "      <td>J'ai lu</td>\n",
              "      <td>2003</td>\n",
              "    </tr>\n",
              "    <tr>\n",
              "      <th>172</th>\n",
              "      <td>O Historiador</td>\n",
              "      <td>Elizabeth Kostova</td>\n",
              "      <td>3.78</td>\n",
              "      <td>9788573027105</td>\n",
              "      <td>NaN</td>\n",
              "      <td>544.0</td>\n",
              "      <td>43</td>\n",
              "      <td>3</td>\n",
              "      <td>Suma de Letras Brasileiras</td>\n",
              "      <td>2005</td>\n",
              "    </tr>\n",
              "    <tr>\n",
              "      <th>...</th>\n",
              "      <td>...</td>\n",
              "      <td>...</td>\n",
              "      <td>...</td>\n",
              "      <td>...</td>\n",
              "      <td>...</td>\n",
              "      <td>...</td>\n",
              "      <td>...</td>\n",
              "      <td>...</td>\n",
              "      <td>...</td>\n",
              "      <td>...</td>\n",
              "    </tr>\n",
              "    <tr>\n",
              "      <th>4656</th>\n",
              "      <td>Galápagos</td>\n",
              "      <td>Kurt Vonnegut Jr.</td>\n",
              "      <td>3.88</td>\n",
              "      <td>9782246371922</td>\n",
              "      <td>NaN</td>\n",
              "      <td>282.0</td>\n",
              "      <td>27</td>\n",
              "      <td>1</td>\n",
              "      <td>Grasset</td>\n",
              "      <td>1994</td>\n",
              "    </tr>\n",
              "    <tr>\n",
              "      <th>4742</th>\n",
              "      <td>Kenang-Kenangan Seorang Geisha (Memoirs of a G...</td>\n",
              "      <td>Arthur Golden</td>\n",
              "      <td>4.11</td>\n",
              "      <td>9789833346684</td>\n",
              "      <td>NaN</td>\n",
              "      <td>784.0</td>\n",
              "      <td>28</td>\n",
              "      <td>6</td>\n",
              "      <td>Marshall Cavendish Editions</td>\n",
              "      <td>2006</td>\n",
              "    </tr>\n",
              "    <tr>\n",
              "      <th>4744</th>\n",
              "      <td>魔戒首部曲：魔戒現身</td>\n",
              "      <td>J.R.R. Tolkien</td>\n",
              "      <td>4.36</td>\n",
              "      <td>9789570823363</td>\n",
              "      <td>NaN</td>\n",
              "      <td>608.0</td>\n",
              "      <td>26</td>\n",
              "      <td>0</td>\n",
              "      <td>聯經出版事業股份有限公司</td>\n",
              "      <td>2001</td>\n",
              "    </tr>\n",
              "    <tr>\n",
              "      <th>4790</th>\n",
              "      <td>Le Petit Prince</td>\n",
              "      <td>Antoine de Saint-Exupéry</td>\n",
              "      <td>4.31</td>\n",
              "      <td>9780156013987</td>\n",
              "      <td>NaN</td>\n",
              "      <td>87.0</td>\n",
              "      <td>3045</td>\n",
              "      <td>215</td>\n",
              "      <td>Mariner Books</td>\n",
              "      <td>2001</td>\n",
              "    </tr>\n",
              "    <tr>\n",
              "      <th>4791</th>\n",
              "      <td>Trainspotting</td>\n",
              "      <td>Irvine Welsh</td>\n",
              "      <td>4.09</td>\n",
              "      <td>9782020336468</td>\n",
              "      <td>NaN</td>\n",
              "      <td>344.0</td>\n",
              "      <td>59077</td>\n",
              "      <td>857</td>\n",
              "      <td>Seuil</td>\n",
              "      <td>1998</td>\n",
              "    </tr>\n",
              "  </tbody>\n",
              "</table>\n",
              "<p>77 rows × 10 columns</p>\n",
              "</div>"
            ],
            "text/plain": [
              "                                                  title  \\\n",
              "61                          Black Hole  tome 3: Visions   \n",
              "63                                             鋼之鍊金術師 9   \n",
              "108                              La Maison des feuilles   \n",
              "161   Jojo's Bizarre Adventure  Tome 14: Le Navire d...   \n",
              "172                                       O Historiador   \n",
              "...                                                 ...   \n",
              "4656                                          Galápagos   \n",
              "4742  Kenang-Kenangan Seorang Geisha (Memoirs of a G...   \n",
              "4744                                         魔戒首部曲：魔戒現身   \n",
              "4790                                    Le Petit Prince   \n",
              "4791                                      Trainspotting   \n",
              "\n",
              "                        author  average_rating         isbn13 language_code  \\\n",
              "61               Charles Burns            4.00  9782840555520           NaN   \n",
              "63              Hiromu Arakawa            4.57  9789861156521           NaN   \n",
              "108        Mark Z. Danielewski            4.10  9782207252000           NaN   \n",
              "161             Hirohiko Araki            4.41  9782290328057           NaN   \n",
              "172          Elizabeth Kostova            3.78  9788573027105           NaN   \n",
              "...                        ...             ...            ...           ...   \n",
              "4656         Kurt Vonnegut Jr.            3.88  9782246371922           NaN   \n",
              "4742             Arthur Golden            4.11  9789833346684           NaN   \n",
              "4744            J.R.R. Tolkien            4.36  9789570823363           NaN   \n",
              "4790  Antoine de Saint-Exupéry            4.31  9780156013987           NaN   \n",
              "4791              Irvine Welsh            4.09  9782020336468           NaN   \n",
              "\n",
              "      num_pages  ratings_count  text_reviews_count  \\\n",
              "61         63.0              3                   0   \n",
              "63        184.0              4                   0   \n",
              "108       978.0             79                  13   \n",
              "161       189.0              4                   2   \n",
              "172       544.0             43                   3   \n",
              "...         ...            ...                 ...   \n",
              "4656      282.0             27                   1   \n",
              "4742      784.0             28                   6   \n",
              "4744      608.0             26                   0   \n",
              "4790       87.0           3045                 215   \n",
              "4791      344.0          59077                 857   \n",
              "\n",
              "                        publisher  year  \n",
              "61                       Delcourt  2001  \n",
              "63                             東立  2004  \n",
              "108                        Denoël  2002  \n",
              "161                       J'ai lu  2003  \n",
              "172    Suma de Letras Brasileiras  2005  \n",
              "...                           ...   ...  \n",
              "4656                      Grasset  1994  \n",
              "4742  Marshall Cavendish Editions  2006  \n",
              "4744                 聯經出版事業股份有限公司  2001  \n",
              "4790                Mariner Books  2001  \n",
              "4791                        Seuil  1998  \n",
              "\n",
              "[77 rows x 10 columns]"
            ]
          },
          "execution_count": 94,
          "metadata": {},
          "output_type": "execute_result"
        }
      ],
      "source": [
        "df[df['language_code'].isnull()]"
      ]
    },
    {
      "cell_type": "code",
      "execution_count": null,
      "id": "382e58d4",
      "metadata": {
        "id": "382e58d4",
        "outputId": "c3aab27e-3313-4ff5-c281-afa07882fbb7"
      },
      "outputs": [
        {
          "data": {
            "text/html": [
              "<div>\n",
              "<style scoped>\n",
              "    .dataframe tbody tr th:only-of-type {\n",
              "        vertical-align: middle;\n",
              "    }\n",
              "\n",
              "    .dataframe tbody tr th {\n",
              "        vertical-align: top;\n",
              "    }\n",
              "\n",
              "    .dataframe thead th {\n",
              "        text-align: right;\n",
              "    }\n",
              "</style>\n",
              "<table border=\"1\" class=\"dataframe\">\n",
              "  <thead>\n",
              "    <tr style=\"text-align: right;\">\n",
              "      <th></th>\n",
              "      <th>title</th>\n",
              "      <th>author</th>\n",
              "      <th>average_rating</th>\n",
              "      <th>isbn13</th>\n",
              "      <th>language_code</th>\n",
              "      <th>num_pages</th>\n",
              "      <th>ratings_count</th>\n",
              "      <th>text_reviews_count</th>\n",
              "      <th>publisher</th>\n",
              "      <th>year</th>\n",
              "    </tr>\n",
              "  </thead>\n",
              "  <tbody>\n",
              "  </tbody>\n",
              "</table>\n",
              "</div>"
            ],
            "text/plain": [
              "Empty DataFrame\n",
              "Columns: [title, author, average_rating, isbn13, language_code, num_pages, ratings_count, text_reviews_count, publisher, year]\n",
              "Index: []"
            ]
          },
          "execution_count": 95,
          "metadata": {},
          "output_type": "execute_result"
        }
      ],
      "source": [
        "df[df['language_code'] == '']"
      ]
    },
    {
      "cell_type": "code",
      "execution_count": null,
      "id": "f2df8d08",
      "metadata": {
        "id": "f2df8d08",
        "outputId": "718e44d6-d1b7-4ba0-e1ec-2b3c64d61e57"
      },
      "outputs": [
        {
          "data": {
            "text/html": [
              "<div>\n",
              "<style scoped>\n",
              "    .dataframe tbody tr th:only-of-type {\n",
              "        vertical-align: middle;\n",
              "    }\n",
              "\n",
              "    .dataframe tbody tr th {\n",
              "        vertical-align: top;\n",
              "    }\n",
              "\n",
              "    .dataframe thead th {\n",
              "        text-align: right;\n",
              "    }\n",
              "</style>\n",
              "<table border=\"1\" class=\"dataframe\">\n",
              "  <thead>\n",
              "    <tr style=\"text-align: right;\">\n",
              "      <th></th>\n",
              "      <th>title</th>\n",
              "      <th>author</th>\n",
              "      <th>average_rating</th>\n",
              "      <th>isbn13</th>\n",
              "      <th>language_code</th>\n",
              "      <th>num_pages</th>\n",
              "      <th>ratings_count</th>\n",
              "      <th>text_reviews_count</th>\n",
              "      <th>publisher</th>\n",
              "      <th>year</th>\n",
              "    </tr>\n",
              "  </thead>\n",
              "  <tbody>\n",
              "  </tbody>\n",
              "</table>\n",
              "</div>"
            ],
            "text/plain": [
              "Empty DataFrame\n",
              "Columns: [title, author, average_rating, isbn13, language_code, num_pages, ratings_count, text_reviews_count, publisher, year]\n",
              "Index: []"
            ]
          },
          "execution_count": 96,
          "metadata": {},
          "output_type": "execute_result"
        }
      ],
      "source": [
        "df[df['language_code'] == 'NaN']"
      ]
    },
    {
      "cell_type": "code",
      "execution_count": null,
      "id": "e2eb6bee",
      "metadata": {
        "id": "e2eb6bee",
        "outputId": "5faf689e-3ffb-496c-b982-7e0419296869"
      },
      "outputs": [
        {
          "data": {
            "text/html": [
              "<div>\n",
              "<style scoped>\n",
              "    .dataframe tbody tr th:only-of-type {\n",
              "        vertical-align: middle;\n",
              "    }\n",
              "\n",
              "    .dataframe tbody tr th {\n",
              "        vertical-align: top;\n",
              "    }\n",
              "\n",
              "    .dataframe thead th {\n",
              "        text-align: right;\n",
              "    }\n",
              "</style>\n",
              "<table border=\"1\" class=\"dataframe\">\n",
              "  <thead>\n",
              "    <tr style=\"text-align: right;\">\n",
              "      <th></th>\n",
              "      <th>title</th>\n",
              "      <th>author</th>\n",
              "      <th>average_rating</th>\n",
              "      <th>isbn13</th>\n",
              "      <th>language_code</th>\n",
              "      <th>num_pages</th>\n",
              "      <th>ratings_count</th>\n",
              "      <th>text_reviews_count</th>\n",
              "      <th>publisher</th>\n",
              "      <th>year</th>\n",
              "    </tr>\n",
              "  </thead>\n",
              "  <tbody>\n",
              "  </tbody>\n",
              "</table>\n",
              "</div>"
            ],
            "text/plain": [
              "Empty DataFrame\n",
              "Columns: [title, author, average_rating, isbn13, language_code, num_pages, ratings_count, text_reviews_count, publisher, year]\n",
              "Index: []"
            ]
          },
          "execution_count": 97,
          "metadata": {},
          "output_type": "execute_result"
        }
      ],
      "source": [
        "df[df['language_code'] == np.nan]"
      ]
    },
    {
      "cell_type": "code",
      "execution_count": null,
      "id": "c16d48b1",
      "metadata": {
        "id": "c16d48b1",
        "outputId": "628e42b4-176d-448e-f3ad-8fe2ca4bde75"
      },
      "outputs": [
        {
          "ename": "TypeError",
          "evalue": "'DataFrame' object is not callable",
          "output_type": "error",
          "traceback": [
            "\u001b[0;31m---------------------------------------------------------------------------\u001b[0m",
            "\u001b[0;31mTypeError\u001b[0m                                 Traceback (most recent call last)",
            "Cell \u001b[0;32mIn[98], line 1\u001b[0m\n\u001b[0;32m----> 1\u001b[0m df(df[\u001b[38;5;124m'\u001b[39m\u001b[38;5;124maverage_rating\u001b[39m\u001b[38;5;124m'\u001b[39m]\u001b[38;5;241m>\u001b[39m\u001b[38;5;241m4.5\u001b[39m) \u001b[38;5;129;01mand\u001b[39;00m (df[\u001b[38;5;124m'\u001b[39m\u001b[38;5;124mratings_count\u001b[39m\u001b[38;5;124m'\u001b[39m]\u001b[38;5;241m<\u001b[39m \u001b[38;5;241m10\u001b[39m)\n",
            "\u001b[0;31mTypeError\u001b[0m: 'DataFrame' object is not callable"
          ]
        }
      ],
      "source": [
        "df(df['average_rating']>4.5) and (df['ratings_count']< 10)"
      ]
    },
    {
      "cell_type": "code",
      "execution_count": null,
      "id": "a3588db6",
      "metadata": {
        "id": "a3588db6",
        "outputId": "787c9997-feb4-4753-fe9e-f8c30300526b"
      },
      "outputs": [
        {
          "data": {
            "text/html": [
              "<div>\n",
              "<style scoped>\n",
              "    .dataframe tbody tr th:only-of-type {\n",
              "        vertical-align: middle;\n",
              "    }\n",
              "\n",
              "    .dataframe tbody tr th {\n",
              "        vertical-align: top;\n",
              "    }\n",
              "\n",
              "    .dataframe thead th {\n",
              "        text-align: right;\n",
              "    }\n",
              "</style>\n",
              "<table border=\"1\" class=\"dataframe\">\n",
              "  <thead>\n",
              "    <tr style=\"text-align: right;\">\n",
              "      <th></th>\n",
              "      <th>title</th>\n",
              "      <th>author</th>\n",
              "      <th>average_rating</th>\n",
              "      <th>isbn13</th>\n",
              "      <th>language_code</th>\n",
              "      <th>num_pages</th>\n",
              "      <th>ratings_count</th>\n",
              "      <th>text_reviews_count</th>\n",
              "      <th>publisher</th>\n",
              "      <th>year</th>\n",
              "    </tr>\n",
              "  </thead>\n",
              "  <tbody>\n",
              "    <tr>\n",
              "      <th>63</th>\n",
              "      <td>鋼之鍊金術師 9</td>\n",
              "      <td>Hiromu Arakawa</td>\n",
              "      <td>4.57</td>\n",
              "      <td>9789861156521</td>\n",
              "      <td>NaN</td>\n",
              "      <td>184.0</td>\n",
              "      <td>4</td>\n",
              "      <td>0</td>\n",
              "      <td>東立</td>\n",
              "      <td>2004</td>\n",
              "    </tr>\n",
              "    <tr>\n",
              "      <th>178</th>\n",
              "      <td>鋼之鍊金術師 6</td>\n",
              "      <td>Hiromu Arakawa</td>\n",
              "      <td>4.58</td>\n",
              "      <td>9789861146140</td>\n",
              "      <td>NaN</td>\n",
              "      <td>191.0</td>\n",
              "      <td>5</td>\n",
              "      <td>0</td>\n",
              "      <td>東立</td>\n",
              "      <td>2004</td>\n",
              "    </tr>\n",
              "    <tr>\n",
              "      <th>224</th>\n",
              "      <td>Stargirl LitPlans on CD</td>\n",
              "      <td>Mary B. Collins</td>\n",
              "      <td>4.86</td>\n",
              "      <td>9781583372920</td>\n",
              "      <td>eng</td>\n",
              "      <td>210.0</td>\n",
              "      <td>5</td>\n",
              "      <td>0</td>\n",
              "      <td>Teacher's Pet Publications</td>\n",
              "      <td>2005</td>\n",
              "    </tr>\n",
              "    <tr>\n",
              "      <th>454</th>\n",
              "      <td>Literature Circle Guide: Bridge to Terabithia:...</td>\n",
              "      <td>Tara MacCarthy</td>\n",
              "      <td>5.00</td>\n",
              "      <td>9780439271714</td>\n",
              "      <td>eng</td>\n",
              "      <td>32.0</td>\n",
              "      <td>4</td>\n",
              "      <td>1</td>\n",
              "      <td>Teaching Resources</td>\n",
              "      <td>2002</td>\n",
              "    </tr>\n",
              "    <tr>\n",
              "      <th>584</th>\n",
              "      <td>Falling Angels (Luc Actar #1)</td>\n",
              "      <td>Melissa M. Garcia</td>\n",
              "      <td>4.67</td>\n",
              "      <td>9780595377107</td>\n",
              "      <td>eng</td>\n",
              "      <td>216.0</td>\n",
              "      <td>1</td>\n",
              "      <td>0</td>\n",
              "      <td>iUniverse</td>\n",
              "      <td>2006</td>\n",
              "    </tr>\n",
              "    <tr>\n",
              "      <th>681</th>\n",
              "      <td>Fanning the Flame: Bible  Cross  and Mission</td>\n",
              "      <td>Chris    Green</td>\n",
              "      <td>5.00</td>\n",
              "      <td>9780310249870</td>\n",
              "      <td>eng</td>\n",
              "      <td>336.0</td>\n",
              "      <td>1</td>\n",
              "      <td>1</td>\n",
              "      <td>Zondervan</td>\n",
              "      <td>2003</td>\n",
              "    </tr>\n",
              "    <tr>\n",
              "      <th>696</th>\n",
              "      <td>Tyrannosaurus Wrecks (Stanley  #1)</td>\n",
              "      <td>Laura Driscoll</td>\n",
              "      <td>5.00</td>\n",
              "      <td>9780786845033</td>\n",
              "      <td>eng</td>\n",
              "      <td>24.0</td>\n",
              "      <td>2</td>\n",
              "      <td>1</td>\n",
              "      <td>Disney Press</td>\n",
              "      <td>2003</td>\n",
              "    </tr>\n",
              "    <tr>\n",
              "      <th>741</th>\n",
              "      <td>The John Deere Two-Cylinder Tractor Encycloped...</td>\n",
              "      <td>Don Macmillan</td>\n",
              "      <td>4.75</td>\n",
              "      <td>9780760329634</td>\n",
              "      <td>eng</td>\n",
              "      <td>256.0</td>\n",
              "      <td>4</td>\n",
              "      <td>0</td>\n",
              "      <td>Voyageur Press</td>\n",
              "      <td>2007</td>\n",
              "    </tr>\n",
              "    <tr>\n",
              "      <th>757</th>\n",
              "      <td>The American Campaign: U.S. Presidential Campa...</td>\n",
              "      <td>James E. Campbell</td>\n",
              "      <td>5.00</td>\n",
              "      <td>9780890969403</td>\n",
              "      <td>eng</td>\n",
              "      <td>314.0</td>\n",
              "      <td>0</td>\n",
              "      <td>0</td>\n",
              "      <td>Texas A&amp;M University Press</td>\n",
              "      <td>2000</td>\n",
              "    </tr>\n",
              "    <tr>\n",
              "      <th>1837</th>\n",
              "      <td>The Goon Show  Volume 4: My Knees Have Fallen ...</td>\n",
              "      <td>NOT A BOOK</td>\n",
              "      <td>5.00</td>\n",
              "      <td>9780563388692</td>\n",
              "      <td>eng</td>\n",
              "      <td>2.0</td>\n",
              "      <td>3</td>\n",
              "      <td>0</td>\n",
              "      <td>BBC Physical Audio</td>\n",
              "      <td>1996</td>\n",
              "    </tr>\n",
              "    <tr>\n",
              "      <th>1856</th>\n",
              "      <td>鋼之鍊金術師 10</td>\n",
              "      <td>Hiromu Arakawa</td>\n",
              "      <td>4.60</td>\n",
              "      <td>9789861156538</td>\n",
              "      <td>NaN</td>\n",
              "      <td>188.0</td>\n",
              "      <td>3</td>\n",
              "      <td>0</td>\n",
              "      <td>東立</td>\n",
              "      <td>2005</td>\n",
              "    </tr>\n",
              "    <tr>\n",
              "      <th>1960</th>\n",
              "      <td>Wissenschaft der Logik: Die Lehre Vom Begriff ...</td>\n",
              "      <td>Georg Wilhelm Friedrich Hegel</td>\n",
              "      <td>4.78</td>\n",
              "      <td>9783787307678</td>\n",
              "      <td>ger</td>\n",
              "      <td>337.0</td>\n",
              "      <td>0</td>\n",
              "      <td>0</td>\n",
              "      <td>F. Meiner</td>\n",
              "      <td>1994</td>\n",
              "    </tr>\n",
              "    <tr>\n",
              "      <th>2244</th>\n",
              "      <td>Getting a Grip on the Basics: Building a Firm ...</td>\n",
              "      <td>Beth A. Jones</td>\n",
              "      <td>4.67</td>\n",
              "      <td>9781577948261</td>\n",
              "      <td>eng</td>\n",
              "      <td>124.0</td>\n",
              "      <td>9</td>\n",
              "      <td>0</td>\n",
              "      <td>Harrison House</td>\n",
              "      <td>2006</td>\n",
              "    </tr>\n",
              "    <tr>\n",
              "      <th>2496</th>\n",
              "      <td>Come Away My Beloved</td>\n",
              "      <td>Frances J. Roberts</td>\n",
              "      <td>4.58</td>\n",
              "      <td>9781593109158</td>\n",
              "      <td>eng</td>\n",
              "      <td>192.0</td>\n",
              "      <td>8</td>\n",
              "      <td>0</td>\n",
              "      <td>Barbour Books</td>\n",
              "      <td>2005</td>\n",
              "    </tr>\n",
              "    <tr>\n",
              "      <th>3178</th>\n",
              "      <td>Organizational Architecture: Designs for Chang...</td>\n",
              "      <td>David A. Nadler</td>\n",
              "      <td>4.62</td>\n",
              "      <td>9781555424435</td>\n",
              "      <td>eng</td>\n",
              "      <td>304.0</td>\n",
              "      <td>2</td>\n",
              "      <td>0</td>\n",
              "      <td>Jossey-Bass</td>\n",
              "      <td>1992</td>\n",
              "    </tr>\n",
              "    <tr>\n",
              "      <th>3438</th>\n",
              "      <td>Bill Gates: Computer Legend (Famous Lives)</td>\n",
              "      <td>Sara Barton-Wood</td>\n",
              "      <td>5.00</td>\n",
              "      <td>9780739844328</td>\n",
              "      <td>eng</td>\n",
              "      <td>48.0</td>\n",
              "      <td>0</td>\n",
              "      <td>0</td>\n",
              "      <td>Raintree</td>\n",
              "      <td>2001</td>\n",
              "    </tr>\n",
              "    <tr>\n",
              "      <th>3706</th>\n",
              "      <td>A Wife After God's Own Heart Growth and Study ...</td>\n",
              "      <td>Elizabeth George</td>\n",
              "      <td>4.69</td>\n",
              "      <td>9780736911689</td>\n",
              "      <td>eng</td>\n",
              "      <td>160.0</td>\n",
              "      <td>9</td>\n",
              "      <td>1</td>\n",
              "      <td>Harvest House Publishers</td>\n",
              "      <td>2004</td>\n",
              "    </tr>\n",
              "    <tr>\n",
              "      <th>3833</th>\n",
              "      <td>His Princess Devotional: A Royal Encounter Wit...</td>\n",
              "      <td>Sheri Rose Shepherd</td>\n",
              "      <td>5.00</td>\n",
              "      <td>9781590529621</td>\n",
              "      <td>eng</td>\n",
              "      <td>240.0</td>\n",
              "      <td>2</td>\n",
              "      <td>0</td>\n",
              "      <td>Multnomah</td>\n",
              "      <td>2007</td>\n",
              "    </tr>\n",
              "    <tr>\n",
              "      <th>3909</th>\n",
              "      <td>Little Big Book for God's Children</td>\n",
              "      <td>Alice Wong</td>\n",
              "      <td>4.88</td>\n",
              "      <td>9780941807555</td>\n",
              "      <td>en-US</td>\n",
              "      <td>352.0</td>\n",
              "      <td>8</td>\n",
              "      <td>0</td>\n",
              "      <td>Welcome Books</td>\n",
              "      <td>2001</td>\n",
              "    </tr>\n",
              "    <tr>\n",
              "      <th>3927</th>\n",
              "      <td>Colossians and Philemon: A Critical and Exeget...</td>\n",
              "      <td>R. McL. Wilson</td>\n",
              "      <td>5.00</td>\n",
              "      <td>9780567044716</td>\n",
              "      <td>eng</td>\n",
              "      <td>512.0</td>\n",
              "      <td>1</td>\n",
              "      <td>0</td>\n",
              "      <td>T&amp;T Clark Int'l</td>\n",
              "      <td>2005</td>\n",
              "    </tr>\n",
              "    <tr>\n",
              "      <th>4108</th>\n",
              "      <td>Willem de Kooning: Late Paintings</td>\n",
              "      <td>Julie Sylvester</td>\n",
              "      <td>5.00</td>\n",
              "      <td>9783829602266</td>\n",
              "      <td>eng</td>\n",
              "      <td>83.0</td>\n",
              "      <td>1</td>\n",
              "      <td>0</td>\n",
              "      <td>Schirmer Mosel</td>\n",
              "      <td>2006</td>\n",
              "    </tr>\n",
              "    <tr>\n",
              "      <th>4415</th>\n",
              "      <td>Corvette</td>\n",
              "      <td>Jerry Burton</td>\n",
              "      <td>4.83</td>\n",
              "      <td>9780883631218</td>\n",
              "      <td>eng</td>\n",
              "      <td>320.0</td>\n",
              "      <td>6</td>\n",
              "      <td>1</td>\n",
              "      <td>Universe Publishing(NY)</td>\n",
              "      <td>2006</td>\n",
              "    </tr>\n",
              "    <tr>\n",
              "      <th>4455</th>\n",
              "      <td>The Complete Theory Fun Factory: Music Theory ...</td>\n",
              "      <td>Ian        Martin</td>\n",
              "      <td>5.00</td>\n",
              "      <td>9780851621814</td>\n",
              "      <td>eng</td>\n",
              "      <td>96.0</td>\n",
              "      <td>1</td>\n",
              "      <td>0</td>\n",
              "      <td>Boosey &amp; Hawkes Inc</td>\n",
              "      <td>2004</td>\n",
              "    </tr>\n",
              "    <tr>\n",
              "      <th>4917</th>\n",
              "      <td>Taxation of Mineral Rents</td>\n",
              "      <td>Ross Garnaut</td>\n",
              "      <td>5.00</td>\n",
              "      <td>9780198284543</td>\n",
              "      <td>eng</td>\n",
              "      <td>350.0</td>\n",
              "      <td>1</td>\n",
              "      <td>0</td>\n",
              "      <td>Oxford University Press  USA</td>\n",
              "      <td>1983</td>\n",
              "    </tr>\n",
              "    <tr>\n",
              "      <th>4933</th>\n",
              "      <td>Oliver Wendell Holmes in Paris: Medicine  Theo...</td>\n",
              "      <td>William C. Dowling</td>\n",
              "      <td>5.00</td>\n",
              "      <td>9781584655800</td>\n",
              "      <td>eng</td>\n",
              "      <td>179.0</td>\n",
              "      <td>1</td>\n",
              "      <td>1</td>\n",
              "      <td>University Press of New England</td>\n",
              "      <td>2007</td>\n",
              "    </tr>\n",
              "  </tbody>\n",
              "</table>\n",
              "</div>"
            ],
            "text/plain": [
              "                                                  title  \\\n",
              "63                                             鋼之鍊金術師 9   \n",
              "178                                            鋼之鍊金術師 6   \n",
              "224                             Stargirl LitPlans on CD   \n",
              "454   Literature Circle Guide: Bridge to Terabithia:...   \n",
              "584                       Falling Angels (Luc Actar #1)   \n",
              "681        Fanning the Flame: Bible  Cross  and Mission   \n",
              "696                  Tyrannosaurus Wrecks (Stanley  #1)   \n",
              "741   The John Deere Two-Cylinder Tractor Encycloped...   \n",
              "757   The American Campaign: U.S. Presidential Campa...   \n",
              "1837  The Goon Show  Volume 4: My Knees Have Fallen ...   \n",
              "1856                                          鋼之鍊金術師 10   \n",
              "1960  Wissenschaft der Logik: Die Lehre Vom Begriff ...   \n",
              "2244  Getting a Grip on the Basics: Building a Firm ...   \n",
              "2496                               Come Away My Beloved   \n",
              "3178  Organizational Architecture: Designs for Chang...   \n",
              "3438         Bill Gates: Computer Legend (Famous Lives)   \n",
              "3706  A Wife After God's Own Heart Growth and Study ...   \n",
              "3833  His Princess Devotional: A Royal Encounter Wit...   \n",
              "3909                 Little Big Book for God's Children   \n",
              "3927  Colossians and Philemon: A Critical and Exeget...   \n",
              "4108                  Willem de Kooning: Late Paintings   \n",
              "4415                                           Corvette   \n",
              "4455  The Complete Theory Fun Factory: Music Theory ...   \n",
              "4917                          Taxation of Mineral Rents   \n",
              "4933  Oliver Wendell Holmes in Paris: Medicine  Theo...   \n",
              "\n",
              "                             author  average_rating         isbn13  \\\n",
              "63                   Hiromu Arakawa            4.57  9789861156521   \n",
              "178                  Hiromu Arakawa            4.58  9789861146140   \n",
              "224                 Mary B. Collins            4.86  9781583372920   \n",
              "454                  Tara MacCarthy            5.00  9780439271714   \n",
              "584               Melissa M. Garcia            4.67  9780595377107   \n",
              "681                  Chris    Green            5.00  9780310249870   \n",
              "696                  Laura Driscoll            5.00  9780786845033   \n",
              "741                   Don Macmillan            4.75  9780760329634   \n",
              "757               James E. Campbell            5.00  9780890969403   \n",
              "1837                     NOT A BOOK            5.00  9780563388692   \n",
              "1856                 Hiromu Arakawa            4.60  9789861156538   \n",
              "1960  Georg Wilhelm Friedrich Hegel            4.78  9783787307678   \n",
              "2244                  Beth A. Jones            4.67  9781577948261   \n",
              "2496             Frances J. Roberts            4.58  9781593109158   \n",
              "3178                David A. Nadler            4.62  9781555424435   \n",
              "3438               Sara Barton-Wood            5.00  9780739844328   \n",
              "3706               Elizabeth George            4.69  9780736911689   \n",
              "3833            Sheri Rose Shepherd            5.00  9781590529621   \n",
              "3909                     Alice Wong            4.88  9780941807555   \n",
              "3927                 R. McL. Wilson            5.00  9780567044716   \n",
              "4108                Julie Sylvester            5.00  9783829602266   \n",
              "4415                   Jerry Burton            4.83  9780883631218   \n",
              "4455              Ian        Martin            5.00  9780851621814   \n",
              "4917                   Ross Garnaut            5.00  9780198284543   \n",
              "4933             William C. Dowling            5.00  9781584655800   \n",
              "\n",
              "     language_code  num_pages  ratings_count  text_reviews_count  \\\n",
              "63             NaN      184.0              4                   0   \n",
              "178            NaN      191.0              5                   0   \n",
              "224            eng      210.0              5                   0   \n",
              "454            eng       32.0              4                   1   \n",
              "584            eng      216.0              1                   0   \n",
              "681            eng      336.0              1                   1   \n",
              "696            eng       24.0              2                   1   \n",
              "741            eng      256.0              4                   0   \n",
              "757            eng      314.0              0                   0   \n",
              "1837           eng        2.0              3                   0   \n",
              "1856           NaN      188.0              3                   0   \n",
              "1960           ger      337.0              0                   0   \n",
              "2244           eng      124.0              9                   0   \n",
              "2496           eng      192.0              8                   0   \n",
              "3178           eng      304.0              2                   0   \n",
              "3438           eng       48.0              0                   0   \n",
              "3706           eng      160.0              9                   1   \n",
              "3833           eng      240.0              2                   0   \n",
              "3909         en-US      352.0              8                   0   \n",
              "3927           eng      512.0              1                   0   \n",
              "4108           eng       83.0              1                   0   \n",
              "4415           eng      320.0              6                   1   \n",
              "4455           eng       96.0              1                   0   \n",
              "4917           eng      350.0              1                   0   \n",
              "4933           eng      179.0              1                   1   \n",
              "\n",
              "                            publisher  year  \n",
              "63                                 東立  2004  \n",
              "178                                東立  2004  \n",
              "224        Teacher's Pet Publications  2005  \n",
              "454                Teaching Resources  2002  \n",
              "584                         iUniverse  2006  \n",
              "681                         Zondervan  2003  \n",
              "696                      Disney Press  2003  \n",
              "741                    Voyageur Press  2007  \n",
              "757        Texas A&M University Press  2000  \n",
              "1837               BBC Physical Audio  1996  \n",
              "1856                               東立  2005  \n",
              "1960                        F. Meiner  1994  \n",
              "2244                   Harrison House  2006  \n",
              "2496                    Barbour Books  2005  \n",
              "3178                      Jossey-Bass  1992  \n",
              "3438                         Raintree  2001  \n",
              "3706         Harvest House Publishers  2004  \n",
              "3833                        Multnomah  2007  \n",
              "3909                    Welcome Books  2001  \n",
              "3927                  T&T Clark Int'l  2005  \n",
              "4108                   Schirmer Mosel  2006  \n",
              "4415          Universe Publishing(NY)  2006  \n",
              "4455              Boosey & Hawkes Inc  2004  \n",
              "4917     Oxford University Press  USA  1983  \n",
              "4933  University Press of New England  2007  "
            ]
          },
          "execution_count": 99,
          "metadata": {},
          "output_type": "execute_result"
        }
      ],
      "source": [
        "df[(df['average_rating']>4.5) & (df['ratings_count']< 10)]"
      ]
    },
    {
      "cell_type": "code",
      "execution_count": null,
      "id": "fce05706",
      "metadata": {
        "id": "fce05706",
        "outputId": "7fd8d914-cda8-403e-e7c7-1bc0c3769626"
      },
      "outputs": [
        {
          "ename": "SyntaxError",
          "evalue": "invalid syntax (1391869336.py, line 1)",
          "output_type": "error",
          "traceback": [
            "\u001b[0;36m  Cell \u001b[0;32mIn[100], line 1\u001b[0;36m\u001b[0m\n\u001b[0;31m    df(df[average_rating]>4.5) && (df[ratings_count]< 10)\u001b[0m\n\u001b[0m                                ^\u001b[0m\n\u001b[0;31mSyntaxError\u001b[0m\u001b[0;31m:\u001b[0m invalid syntax\n"
          ]
        }
      ],
      "source": [
        "df(df[average_rating]>4.5) && (df[ratings_count]< 10)"
      ]
    },
    {
      "cell_type": "code",
      "execution_count": null,
      "id": "3980800d",
      "metadata": {
        "id": "3980800d",
        "outputId": "24682760-9965-4a81-9748-7c5cab6b063e"
      },
      "outputs": [
        {
          "ename": "ValueError",
          "evalue": "The truth value of a Series is ambiguous. Use a.empty, a.bool(), a.item(), a.any() or a.all().",
          "output_type": "error",
          "traceback": [
            "\u001b[0;31m---------------------------------------------------------------------------\u001b[0m",
            "\u001b[0;31mValueError\u001b[0m                                Traceback (most recent call last)",
            "Cell \u001b[0;32mIn[101], line 1\u001b[0m\n\u001b[0;32m----> 1\u001b[0m df[(df[\u001b[38;5;124m'\u001b[39m\u001b[38;5;124maverage_rating\u001b[39m\u001b[38;5;124m'\u001b[39m]\u001b[38;5;241m>\u001b[39m\u001b[38;5;241m=\u001b[39m\u001b[38;5;241m4.5\u001b[39m) \u001b[38;5;129;01mor\u001b[39;00m (df[\u001b[38;5;124m'\u001b[39m\u001b[38;5;124mratings_count\u001b[39m\u001b[38;5;124m'\u001b[39m]\u001b[38;5;241m<\u001b[39m\u001b[38;5;241m=\u001b[39m \u001b[38;5;241m10\u001b[39m)]\n",
            "File \u001b[0;32m~/anaconda3/lib/python3.11/site-packages/pandas/core/generic.py:1527\u001b[0m, in \u001b[0;36mNDFrame.__nonzero__\u001b[0;34m(self)\u001b[0m\n\u001b[1;32m   1525\u001b[0m \u001b[38;5;129m@final\u001b[39m\n\u001b[1;32m   1526\u001b[0m \u001b[38;5;28;01mdef\u001b[39;00m \u001b[38;5;21m__nonzero__\u001b[39m(\u001b[38;5;28mself\u001b[39m) \u001b[38;5;241m-\u001b[39m\u001b[38;5;241m>\u001b[39m NoReturn:\n\u001b[0;32m-> 1527\u001b[0m     \u001b[38;5;28;01mraise\u001b[39;00m \u001b[38;5;167;01mValueError\u001b[39;00m(\n\u001b[1;32m   1528\u001b[0m         \u001b[38;5;124mf\u001b[39m\u001b[38;5;124m\"\u001b[39m\u001b[38;5;124mThe truth value of a \u001b[39m\u001b[38;5;132;01m{\u001b[39;00m\u001b[38;5;28mtype\u001b[39m(\u001b[38;5;28mself\u001b[39m)\u001b[38;5;241m.\u001b[39m\u001b[38;5;18m__name__\u001b[39m\u001b[38;5;132;01m}\u001b[39;00m\u001b[38;5;124m is ambiguous. \u001b[39m\u001b[38;5;124m\"\u001b[39m\n\u001b[1;32m   1529\u001b[0m         \u001b[38;5;124m\"\u001b[39m\u001b[38;5;124mUse a.empty, a.bool(), a.item(), a.any() or a.all().\u001b[39m\u001b[38;5;124m\"\u001b[39m\n\u001b[1;32m   1530\u001b[0m     )\n",
            "\u001b[0;31mValueError\u001b[0m: The truth value of a Series is ambiguous. Use a.empty, a.bool(), a.item(), a.any() or a.all()."
          ]
        }
      ],
      "source": [
        "df[(df['average_rating']>=4.5) or (df['ratings_count']<= 10)]"
      ]
    },
    {
      "cell_type": "code",
      "execution_count": null,
      "id": "e5ade510",
      "metadata": {
        "id": "e5ade510"
      },
      "outputs": [],
      "source": [
        "mean_rating_eng = df.groupby('language_code')['average_rating'].mean()"
      ]
    },
    {
      "cell_type": "code",
      "execution_count": null,
      "id": "0a0bd87d",
      "metadata": {
        "id": "0a0bd87d",
        "outputId": "b0ec5408-5bbe-4934-b123-1b61a69d300f"
      },
      "outputs": [
        {
          "data": {
            "text/plain": [
              "language_code\n",
              "en-GB    3.922523\n",
              "en-US    3.914800\n",
              "eng      3.931143\n",
              "ger      3.979773\n",
              "grc      2.366667\n",
              "jpn      4.252381\n",
              "lat      4.170000\n",
              "mul      4.116000\n",
              "spa      3.927938\n",
              "Name: average_rating, dtype: float64"
            ]
          },
          "execution_count": 103,
          "metadata": {},
          "output_type": "execute_result"
        }
      ],
      "source": [
        "mean_rating_eng"
      ]
    },
    {
      "cell_type": "code",
      "execution_count": null,
      "id": "3931a1b2",
      "metadata": {
        "id": "3931a1b2",
        "outputId": "ad32fe14-0e77-40a0-a3b7-c83ec5085d68"
      },
      "outputs": [
        {
          "data": {
            "text/plain": [
              "3.931142857142857"
            ]
          },
          "execution_count": 104,
          "metadata": {},
          "output_type": "execute_result"
        }
      ],
      "source": [
        "mean_rating_eng['eng']"
      ]
    },
    {
      "cell_type": "code",
      "execution_count": null,
      "id": "1dc963c8",
      "metadata": {
        "id": "1dc963c8",
        "outputId": "97dd0cc7-e9fa-4e5d-e707-2f21a8054387"
      },
      "outputs": [
        {
          "data": {
            "text/html": [
              "<div>\n",
              "<style scoped>\n",
              "    .dataframe tbody tr th:only-of-type {\n",
              "        vertical-align: middle;\n",
              "    }\n",
              "\n",
              "    .dataframe tbody tr th {\n",
              "        vertical-align: top;\n",
              "    }\n",
              "\n",
              "    .dataframe thead th {\n",
              "        text-align: right;\n",
              "    }\n",
              "</style>\n",
              "<table border=\"1\" class=\"dataframe\">\n",
              "  <thead>\n",
              "    <tr style=\"text-align: right;\">\n",
              "      <th></th>\n",
              "      <th>author</th>\n",
              "      <th>average_rating</th>\n",
              "      <th>isbn13</th>\n",
              "    </tr>\n",
              "  </thead>\n",
              "  <tbody>\n",
              "    <tr>\n",
              "      <th>1</th>\n",
              "      <td>Lidia Matticchio Bastianich</td>\n",
              "      <td>4.14</td>\n",
              "      <td>9780767914222</td>\n",
              "    </tr>\n",
              "    <tr>\n",
              "      <th>2</th>\n",
              "      <td>James Scott Bell</td>\n",
              "      <td>4.00</td>\n",
              "      <td>9780310243878</td>\n",
              "    </tr>\n",
              "    <tr>\n",
              "      <th>3</th>\n",
              "      <td>David Foster Wallace</td>\n",
              "      <td>3.86</td>\n",
              "      <td>9780349111889</td>\n",
              "    </tr>\n",
              "    <tr>\n",
              "      <th>4</th>\n",
              "      <td>Laurell K. Hamilton</td>\n",
              "      <td>4.13</td>\n",
              "      <td>9780425209066</td>\n",
              "    </tr>\n",
              "  </tbody>\n",
              "</table>\n",
              "</div>"
            ],
            "text/plain": [
              "                        author  average_rating         isbn13\n",
              "1  Lidia Matticchio Bastianich            4.14  9780767914222\n",
              "2             James Scott Bell            4.00  9780310243878\n",
              "3         David Foster Wallace            3.86  9780349111889\n",
              "4          Laurell K. Hamilton            4.13  9780425209066"
            ]
          },
          "execution_count": 105,
          "metadata": {},
          "output_type": "execute_result"
        }
      ],
      "source": [
        "df.iloc[1:5,1:4]"
      ]
    },
    {
      "cell_type": "code",
      "execution_count": null,
      "id": "18f988ec",
      "metadata": {
        "id": "18f988ec",
        "outputId": "16d784da-fac3-48ca-b4e9-9e2eefa8022e"
      },
      "outputs": [
        {
          "data": {
            "text/html": [
              "<div>\n",
              "<style scoped>\n",
              "    .dataframe tbody tr th:only-of-type {\n",
              "        vertical-align: middle;\n",
              "    }\n",
              "\n",
              "    .dataframe tbody tr th {\n",
              "        vertical-align: top;\n",
              "    }\n",
              "\n",
              "    .dataframe thead th {\n",
              "        text-align: right;\n",
              "    }\n",
              "</style>\n",
              "<table border=\"1\" class=\"dataframe\">\n",
              "  <thead>\n",
              "    <tr style=\"text-align: right;\">\n",
              "      <th></th>\n",
              "      <th>title</th>\n",
              "      <th>author</th>\n",
              "      <th>average_rating</th>\n",
              "      <th>isbn13</th>\n",
              "    </tr>\n",
              "  </thead>\n",
              "  <tbody>\n",
              "    <tr>\n",
              "      <th>0</th>\n",
              "      <td>The Hunchback of Notre-Dame</td>\n",
              "      <td>Victor Hugo</td>\n",
              "      <td>4.00</td>\n",
              "      <td>9780345472427</td>\n",
              "    </tr>\n",
              "    <tr>\n",
              "      <th>1</th>\n",
              "      <td>La Cucina Di Lidia: Recipes and Memories from ...</td>\n",
              "      <td>Lidia Matticchio Bastianich</td>\n",
              "      <td>4.14</td>\n",
              "      <td>9780767914222</td>\n",
              "    </tr>\n",
              "    <tr>\n",
              "      <th>2</th>\n",
              "      <td>Breach of Promise</td>\n",
              "      <td>James Scott Bell</td>\n",
              "      <td>4.00</td>\n",
              "      <td>9780310243878</td>\n",
              "    </tr>\n",
              "    <tr>\n",
              "      <th>3</th>\n",
              "      <td>Brief Interviews with Hideous Men</td>\n",
              "      <td>David Foster Wallace</td>\n",
              "      <td>3.86</td>\n",
              "      <td>9780349111889</td>\n",
              "    </tr>\n",
              "    <tr>\n",
              "      <th>4</th>\n",
              "      <td>The Killing Dance (Anita Blake  Vampire Hunter...</td>\n",
              "      <td>Laurell K. Hamilton</td>\n",
              "      <td>4.13</td>\n",
              "      <td>9780425209066</td>\n",
              "    </tr>\n",
              "  </tbody>\n",
              "</table>\n",
              "</div>"
            ],
            "text/plain": [
              "                                               title  \\\n",
              "0                        The Hunchback of Notre-Dame   \n",
              "1  La Cucina Di Lidia: Recipes and Memories from ...   \n",
              "2                                  Breach of Promise   \n",
              "3                  Brief Interviews with Hideous Men   \n",
              "4  The Killing Dance (Anita Blake  Vampire Hunter...   \n",
              "\n",
              "                        author  average_rating         isbn13  \n",
              "0                  Victor Hugo            4.00  9780345472427  \n",
              "1  Lidia Matticchio Bastianich            4.14  9780767914222  \n",
              "2             James Scott Bell            4.00  9780310243878  \n",
              "3         David Foster Wallace            3.86  9780349111889  \n",
              "4          Laurell K. Hamilton            4.13  9780425209066  "
            ]
          },
          "execution_count": 106,
          "metadata": {},
          "output_type": "execute_result"
        }
      ],
      "source": [
        "df.iloc[0:5,0:4]"
      ]
    },
    {
      "cell_type": "code",
      "execution_count": null,
      "id": "d1e95d73",
      "metadata": {
        "id": "d1e95d73",
        "outputId": "8242da81-37c7-4c90-8096-daae57bc8a88"
      },
      "outputs": [
        {
          "data": {
            "text/html": [
              "<div>\n",
              "<style scoped>\n",
              "    .dataframe tbody tr th:only-of-type {\n",
              "        vertical-align: middle;\n",
              "    }\n",
              "\n",
              "    .dataframe tbody tr th {\n",
              "        vertical-align: top;\n",
              "    }\n",
              "\n",
              "    .dataframe thead th {\n",
              "        text-align: right;\n",
              "    }\n",
              "</style>\n",
              "<table border=\"1\" class=\"dataframe\">\n",
              "  <thead>\n",
              "    <tr style=\"text-align: right;\">\n",
              "      <th></th>\n",
              "      <th>title</th>\n",
              "      <th>author</th>\n",
              "      <th>average_rating</th>\n",
              "      <th>isbn13</th>\n",
              "    </tr>\n",
              "  </thead>\n",
              "  <tbody>\n",
              "    <tr>\n",
              "      <th>1</th>\n",
              "      <td>La Cucina Di Lidia: Recipes and Memories from ...</td>\n",
              "      <td>Lidia Matticchio Bastianich</td>\n",
              "      <td>4.14</td>\n",
              "      <td>9780767914222</td>\n",
              "    </tr>\n",
              "    <tr>\n",
              "      <th>2</th>\n",
              "      <td>Breach of Promise</td>\n",
              "      <td>James Scott Bell</td>\n",
              "      <td>4.00</td>\n",
              "      <td>9780310243878</td>\n",
              "    </tr>\n",
              "    <tr>\n",
              "      <th>3</th>\n",
              "      <td>Brief Interviews with Hideous Men</td>\n",
              "      <td>David Foster Wallace</td>\n",
              "      <td>3.86</td>\n",
              "      <td>9780349111889</td>\n",
              "    </tr>\n",
              "    <tr>\n",
              "      <th>4</th>\n",
              "      <td>The Killing Dance (Anita Blake  Vampire Hunter...</td>\n",
              "      <td>Laurell K. Hamilton</td>\n",
              "      <td>4.13</td>\n",
              "      <td>9780425209066</td>\n",
              "    </tr>\n",
              "  </tbody>\n",
              "</table>\n",
              "</div>"
            ],
            "text/plain": [
              "                                               title  \\\n",
              "1  La Cucina Di Lidia: Recipes and Memories from ...   \n",
              "2                                  Breach of Promise   \n",
              "3                  Brief Interviews with Hideous Men   \n",
              "4  The Killing Dance (Anita Blake  Vampire Hunter...   \n",
              "\n",
              "                        author  average_rating         isbn13  \n",
              "1  Lidia Matticchio Bastianich            4.14  9780767914222  \n",
              "2             James Scott Bell            4.00  9780310243878  \n",
              "3         David Foster Wallace            3.86  9780349111889  \n",
              "4          Laurell K. Hamilton            4.13  9780425209066  "
            ]
          },
          "execution_count": 107,
          "metadata": {},
          "output_type": "execute_result"
        }
      ],
      "source": [
        "df.iloc[1:5,0:4]"
      ]
    },
    {
      "cell_type": "code",
      "execution_count": null,
      "id": "2c7d9789",
      "metadata": {
        "id": "2c7d9789",
        "outputId": "af18fc1d-7d1f-42f7-e370-c06f57639e8f"
      },
      "outputs": [
        {
          "data": {
            "text/html": [
              "<div>\n",
              "<style scoped>\n",
              "    .dataframe tbody tr th:only-of-type {\n",
              "        vertical-align: middle;\n",
              "    }\n",
              "\n",
              "    .dataframe tbody tr th {\n",
              "        vertical-align: top;\n",
              "    }\n",
              "\n",
              "    .dataframe thead th {\n",
              "        text-align: right;\n",
              "    }\n",
              "</style>\n",
              "<table border=\"1\" class=\"dataframe\">\n",
              "  <thead>\n",
              "    <tr style=\"text-align: right;\">\n",
              "      <th></th>\n",
              "      <th>author</th>\n",
              "      <th>average_rating</th>\n",
              "      <th>isbn13</th>\n",
              "    </tr>\n",
              "  </thead>\n",
              "  <tbody>\n",
              "    <tr>\n",
              "      <th>0</th>\n",
              "      <td>Victor Hugo</td>\n",
              "      <td>4.00</td>\n",
              "      <td>9780345472427</td>\n",
              "    </tr>\n",
              "    <tr>\n",
              "      <th>1</th>\n",
              "      <td>Lidia Matticchio Bastianich</td>\n",
              "      <td>4.14</td>\n",
              "      <td>9780767914222</td>\n",
              "    </tr>\n",
              "    <tr>\n",
              "      <th>2</th>\n",
              "      <td>James Scott Bell</td>\n",
              "      <td>4.00</td>\n",
              "      <td>9780310243878</td>\n",
              "    </tr>\n",
              "    <tr>\n",
              "      <th>3</th>\n",
              "      <td>David Foster Wallace</td>\n",
              "      <td>3.86</td>\n",
              "      <td>9780349111889</td>\n",
              "    </tr>\n",
              "    <tr>\n",
              "      <th>4</th>\n",
              "      <td>Laurell K. Hamilton</td>\n",
              "      <td>4.13</td>\n",
              "      <td>9780425209066</td>\n",
              "    </tr>\n",
              "  </tbody>\n",
              "</table>\n",
              "</div>"
            ],
            "text/plain": [
              "                        author  average_rating         isbn13\n",
              "0                  Victor Hugo            4.00  9780345472427\n",
              "1  Lidia Matticchio Bastianich            4.14  9780767914222\n",
              "2             James Scott Bell            4.00  9780310243878\n",
              "3         David Foster Wallace            3.86  9780349111889\n",
              "4          Laurell K. Hamilton            4.13  9780425209066"
            ]
          },
          "execution_count": 108,
          "metadata": {},
          "output_type": "execute_result"
        }
      ],
      "source": [
        "df.iloc[0:5,1:4]"
      ]
    },
    {
      "cell_type": "code",
      "execution_count": null,
      "id": "96403857",
      "metadata": {
        "id": "96403857",
        "outputId": "6a45df6b-5bd9-49ce-e9f1-0a759432b7c1"
      },
      "outputs": [
        {
          "data": {
            "text/html": [
              "<div>\n",
              "<style scoped>\n",
              "    .dataframe tbody tr th:only-of-type {\n",
              "        vertical-align: middle;\n",
              "    }\n",
              "\n",
              "    .dataframe tbody tr th {\n",
              "        vertical-align: top;\n",
              "    }\n",
              "\n",
              "    .dataframe thead th {\n",
              "        text-align: right;\n",
              "    }\n",
              "</style>\n",
              "<table border=\"1\" class=\"dataframe\">\n",
              "  <thead>\n",
              "    <tr style=\"text-align: right;\">\n",
              "      <th></th>\n",
              "      <th>title</th>\n",
              "      <th>author</th>\n",
              "      <th>average_rating</th>\n",
              "      <th>isbn13</th>\n",
              "      <th>language_code</th>\n",
              "      <th>num_pages</th>\n",
              "      <th>ratings_count</th>\n",
              "      <th>text_reviews_count</th>\n",
              "      <th>publisher</th>\n",
              "      <th>year</th>\n",
              "    </tr>\n",
              "  </thead>\n",
              "  <tbody>\n",
              "    <tr>\n",
              "      <th>40</th>\n",
              "      <td>The Walking Dead  Book One (The Walking Dead #...</td>\n",
              "      <td>Robert Kirkman</td>\n",
              "      <td>4.35</td>\n",
              "      <td>9781582406190</td>\n",
              "      <td>eng</td>\n",
              "      <td>304.0</td>\n",
              "      <td>34751</td>\n",
              "      <td>1346</td>\n",
              "      <td>Image Comics</td>\n",
              "      <td>2010</td>\n",
              "    </tr>\n",
              "    <tr>\n",
              "      <th>359</th>\n",
              "      <td>Things: A Story of the Sixties; A Man Asleep</td>\n",
              "      <td>Georges Perec</td>\n",
              "      <td>3.98</td>\n",
              "      <td>9781567921571</td>\n",
              "      <td>eng</td>\n",
              "      <td>221.0</td>\n",
              "      <td>1062</td>\n",
              "      <td>63</td>\n",
              "      <td>David R. Godine Publisher</td>\n",
              "      <td>2010</td>\n",
              "    </tr>\n",
              "    <tr>\n",
              "      <th>425</th>\n",
              "      <td>The Gap Into Vision: Forbidden Knowledge (Gap ...</td>\n",
              "      <td>Stephen R. Donaldson</td>\n",
              "      <td>3.99</td>\n",
              "      <td>9780553297607</td>\n",
              "      <td>en-US</td>\n",
              "      <td>480.0</td>\n",
              "      <td>5020</td>\n",
              "      <td>101</td>\n",
              "      <td>Bantam</td>\n",
              "      <td>2010</td>\n",
              "    </tr>\n",
              "    <tr>\n",
              "      <th>985</th>\n",
              "      <td>Never Let Me Go</td>\n",
              "      <td>Kazuo Ishiguro</td>\n",
              "      <td>3.82</td>\n",
              "      <td>9781400078776</td>\n",
              "      <td>eng</td>\n",
              "      <td>288.0</td>\n",
              "      <td>380646</td>\n",
              "      <td>22957</td>\n",
              "      <td>Vintage Books</td>\n",
              "      <td>2010</td>\n",
              "    </tr>\n",
              "    <tr>\n",
              "      <th>1696</th>\n",
              "      <td>The Unexpected Guest: A Play In Two Acts</td>\n",
              "      <td>Agatha Christie</td>\n",
              "      <td>3.83</td>\n",
              "      <td>9780573014673</td>\n",
              "      <td>eng</td>\n",
              "      <td>100.0</td>\n",
              "      <td>2813</td>\n",
              "      <td>167</td>\n",
              "      <td>Samuel French Ltd</td>\n",
              "      <td>2010</td>\n",
              "    </tr>\n",
              "    <tr>\n",
              "      <th>1789</th>\n",
              "      <td>A Short History of Nearly Everything (Illustra...</td>\n",
              "      <td>Bill Bryson</td>\n",
              "      <td>4.21</td>\n",
              "      <td>9780385663557</td>\n",
              "      <td>eng</td>\n",
              "      <td>624.0</td>\n",
              "      <td>28</td>\n",
              "      <td>7</td>\n",
              "      <td>Anchor Canada</td>\n",
              "      <td>2010</td>\n",
              "    </tr>\n",
              "    <tr>\n",
              "      <th>2620</th>\n",
              "      <td>The Client</td>\n",
              "      <td>John Grisham</td>\n",
              "      <td>4.00</td>\n",
              "      <td>9780385339087</td>\n",
              "      <td>eng</td>\n",
              "      <td>483.0</td>\n",
              "      <td>367399</td>\n",
              "      <td>1978</td>\n",
              "      <td>Delta</td>\n",
              "      <td>2010</td>\n",
              "    </tr>\n",
              "    <tr>\n",
              "      <th>2695</th>\n",
              "      <td>Lord of Light</td>\n",
              "      <td>Roger Zelazny</td>\n",
              "      <td>4.10</td>\n",
              "      <td>9780060567231</td>\n",
              "      <td>eng</td>\n",
              "      <td>296.0</td>\n",
              "      <td>23392</td>\n",
              "      <td>1104</td>\n",
              "      <td>Harper Voyager</td>\n",
              "      <td>2010</td>\n",
              "    </tr>\n",
              "    <tr>\n",
              "      <th>2706</th>\n",
              "      <td>Pimsleur German Level 1 CD: [Lessons 1-30]</td>\n",
              "      <td>Pimsleur Language Programs</td>\n",
              "      <td>4.23</td>\n",
              "      <td>9780743518369</td>\n",
              "      <td>eng</td>\n",
              "      <td>16.0</td>\n",
              "      <td>58</td>\n",
              "      <td>10</td>\n",
              "      <td>Pimsleur</td>\n",
              "      <td>2010</td>\n",
              "    </tr>\n",
              "    <tr>\n",
              "      <th>3079</th>\n",
              "      <td>Tim Burton: Interviews</td>\n",
              "      <td>Kristian Fraga</td>\n",
              "      <td>4.26</td>\n",
              "      <td>9781578067596</td>\n",
              "      <td>eng</td>\n",
              "      <td>192.0</td>\n",
              "      <td>103</td>\n",
              "      <td>7</td>\n",
              "      <td>University Press of Mississippi</td>\n",
              "      <td>2010</td>\n",
              "    </tr>\n",
              "    <tr>\n",
              "      <th>3724</th>\n",
              "      <td>Less Than Zero</td>\n",
              "      <td>Bret Easton Ellis</td>\n",
              "      <td>3.58</td>\n",
              "      <td>9780679781493</td>\n",
              "      <td>eng</td>\n",
              "      <td>208.0</td>\n",
              "      <td>55900</td>\n",
              "      <td>2543</td>\n",
              "      <td>Vintage Books</td>\n",
              "      <td>2010</td>\n",
              "    </tr>\n",
              "    <tr>\n",
              "      <th>4460</th>\n",
              "      <td>Riddley Walker</td>\n",
              "      <td>Russell Hoban</td>\n",
              "      <td>4.03</td>\n",
              "      <td>9780747559047</td>\n",
              "      <td>eng</td>\n",
              "      <td>236.0</td>\n",
              "      <td>305</td>\n",
              "      <td>44</td>\n",
              "      <td>Bloomsbury</td>\n",
              "      <td>2010</td>\n",
              "    </tr>\n",
              "    <tr>\n",
              "      <th>4650</th>\n",
              "      <td>The Beatles' Story on Capitol Records  Part Tw...</td>\n",
              "      <td>Bruce Spizer</td>\n",
              "      <td>4.72</td>\n",
              "      <td>9780966264920</td>\n",
              "      <td>eng</td>\n",
              "      <td>264.0</td>\n",
              "      <td>29</td>\n",
              "      <td>0</td>\n",
              "      <td>Four Ninety-Eight Productions</td>\n",
              "      <td>2010</td>\n",
              "    </tr>\n",
              "    <tr>\n",
              "      <th>4891</th>\n",
              "      <td>Judy Moody Declares Independence (Judy Moody #6)</td>\n",
              "      <td>Megan McDonald</td>\n",
              "      <td>4.08</td>\n",
              "      <td>9780763628000</td>\n",
              "      <td>eng</td>\n",
              "      <td>160.0</td>\n",
              "      <td>3884</td>\n",
              "      <td>132</td>\n",
              "      <td>Candlewick</td>\n",
              "      <td>2010</td>\n",
              "    </tr>\n",
              "    <tr>\n",
              "      <th>4914</th>\n",
              "      <td>Earthquake in the Early Morning (Magic Tree Ho...</td>\n",
              "      <td>Mary Pope Osborne</td>\n",
              "      <td>3.94</td>\n",
              "      <td>9780679890706</td>\n",
              "      <td>eng</td>\n",
              "      <td>96.0</td>\n",
              "      <td>6816</td>\n",
              "      <td>227</td>\n",
              "      <td>Random House for Young Readers</td>\n",
              "      <td>2010</td>\n",
              "    </tr>\n",
              "  </tbody>\n",
              "</table>\n",
              "</div>"
            ],
            "text/plain": [
              "                                                  title  \\\n",
              "40    The Walking Dead  Book One (The Walking Dead #...   \n",
              "359        Things: A Story of the Sixties; A Man Asleep   \n",
              "425   The Gap Into Vision: Forbidden Knowledge (Gap ...   \n",
              "985                                     Never Let Me Go   \n",
              "1696           The Unexpected Guest: A Play In Two Acts   \n",
              "1789  A Short History of Nearly Everything (Illustra...   \n",
              "2620                                         The Client   \n",
              "2695                                      Lord of Light   \n",
              "2706         Pimsleur German Level 1 CD: [Lessons 1-30]   \n",
              "3079                             Tim Burton: Interviews   \n",
              "3724                                     Less Than Zero   \n",
              "4460                                     Riddley Walker   \n",
              "4650  The Beatles' Story on Capitol Records  Part Tw...   \n",
              "4891   Judy Moody Declares Independence (Judy Moody #6)   \n",
              "4914  Earthquake in the Early Morning (Magic Tree Ho...   \n",
              "\n",
              "                          author  average_rating         isbn13 language_code  \\\n",
              "40                Robert Kirkman            4.35  9781582406190           eng   \n",
              "359                Georges Perec            3.98  9781567921571           eng   \n",
              "425         Stephen R. Donaldson            3.99  9780553297607         en-US   \n",
              "985               Kazuo Ishiguro            3.82  9781400078776           eng   \n",
              "1696             Agatha Christie            3.83  9780573014673           eng   \n",
              "1789                 Bill Bryson            4.21  9780385663557           eng   \n",
              "2620                John Grisham            4.00  9780385339087           eng   \n",
              "2695               Roger Zelazny            4.10  9780060567231           eng   \n",
              "2706  Pimsleur Language Programs            4.23  9780743518369           eng   \n",
              "3079              Kristian Fraga            4.26  9781578067596           eng   \n",
              "3724           Bret Easton Ellis            3.58  9780679781493           eng   \n",
              "4460               Russell Hoban            4.03  9780747559047           eng   \n",
              "4650                Bruce Spizer            4.72  9780966264920           eng   \n",
              "4891              Megan McDonald            4.08  9780763628000           eng   \n",
              "4914           Mary Pope Osborne            3.94  9780679890706           eng   \n",
              "\n",
              "      num_pages  ratings_count  text_reviews_count  \\\n",
              "40        304.0          34751                1346   \n",
              "359       221.0           1062                  63   \n",
              "425       480.0           5020                 101   \n",
              "985       288.0         380646               22957   \n",
              "1696      100.0           2813                 167   \n",
              "1789      624.0             28                   7   \n",
              "2620      483.0         367399                1978   \n",
              "2695      296.0          23392                1104   \n",
              "2706       16.0             58                  10   \n",
              "3079      192.0            103                   7   \n",
              "3724      208.0          55900                2543   \n",
              "4460      236.0            305                  44   \n",
              "4650      264.0             29                   0   \n",
              "4891      160.0           3884                 132   \n",
              "4914       96.0           6816                 227   \n",
              "\n",
              "                            publisher  year  \n",
              "40                       Image Comics  2010  \n",
              "359         David R. Godine Publisher  2010  \n",
              "425                            Bantam  2010  \n",
              "985                     Vintage Books  2010  \n",
              "1696                Samuel French Ltd  2010  \n",
              "1789                    Anchor Canada  2010  \n",
              "2620                            Delta  2010  \n",
              "2695                   Harper Voyager  2010  \n",
              "2706                         Pimsleur  2010  \n",
              "3079  University Press of Mississippi  2010  \n",
              "3724                    Vintage Books  2010  \n",
              "4460                       Bloomsbury  2010  \n",
              "4650    Four Ninety-Eight Productions  2010  \n",
              "4891                       Candlewick  2010  \n",
              "4914   Random House for Young Readers  2010  "
            ]
          },
          "execution_count": 110,
          "metadata": {},
          "output_type": "execute_result"
        }
      ],
      "source": [
        "books_2010 = df[df['year'] == 2010]\n",
        "books_2010"
      ]
    },
    {
      "cell_type": "code",
      "execution_count": null,
      "id": "b6c3b082",
      "metadata": {
        "id": "b6c3b082",
        "outputId": "543a8608-7100-497b-8330-291080c314b0"
      },
      "outputs": [
        {
          "data": {
            "text/plain": [
              "15"
            ]
          },
          "execution_count": 111,
          "metadata": {},
          "output_type": "execute_result"
        }
      ],
      "source": [
        "len(books_2010)"
      ]
    },
    {
      "cell_type": "code",
      "execution_count": null,
      "id": "a817964d",
      "metadata": {
        "id": "a817964d"
      },
      "outputs": [],
      "source": []
    }
  ],
  "metadata": {
    "kernelspec": {
      "display_name": "Python 3 (ipykernel)",
      "language": "python",
      "name": "python3"
    },
    "language_info": {
      "codemirror_mode": {
        "name": "ipython",
        "version": 3
      },
      "file_extension": ".py",
      "mimetype": "text/x-python",
      "name": "python",
      "nbconvert_exporter": "python",
      "pygments_lexer": "ipython3",
      "version": "3.11.4"
    },
    "colab": {
      "provenance": [],
      "include_colab_link": true
    }
  },
  "nbformat": 4,
  "nbformat_minor": 5
}