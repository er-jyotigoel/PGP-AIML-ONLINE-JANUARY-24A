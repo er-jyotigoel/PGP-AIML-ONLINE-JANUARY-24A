{
  "cells": [
    {
      "cell_type": "markdown",
      "metadata": {
        "id": "view-in-github",
        "colab_type": "text"
      },
      "source": [
        "<a href=\"https://colab.research.google.com/github/er-jyotigoel/PGP-AIML-ONLINE-JANUARY-24A/blob/Module1-Introduction-to-Python/NumPy.ipynb\" target=\"_parent\"><img src=\"https://colab.research.google.com/assets/colab-badge.svg\" alt=\"Open In Colab\"/></a>"
      ]
    },
    {
      "cell_type": "code",
      "execution_count": 1,
      "metadata": {
        "id": "ynE9R19cPIMT"
      },
      "outputs": [],
      "source": [
        "# The first step of using numpy is to tell python to import it\n",
        "import numpy as np"
      ]
    },
    {
      "cell_type": "markdown",
      "metadata": {
        "id": "V7NoTi0kTGVz"
      },
      "source": [
        "### 2.1 NumPy Arrays"
      ]
    },
    {
      "cell_type": "code",
      "source": [
        "from google.colab import drive\n",
        "drive.mount('/content/drive')"
      ],
      "metadata": {
        "colab": {
          "base_uri": "https://localhost:8080/"
        },
        "id": "pbGJ0mna5UwJ",
        "outputId": "080955ef-b898-43fb-84b7-9181f4aa4724"
      },
      "execution_count": 2,
      "outputs": [
        {
          "output_type": "stream",
          "name": "stdout",
          "text": [
            "Mounted at /content/drive\n"
          ]
        }
      ]
    },
    {
      "cell_type": "markdown",
      "metadata": {
        "id": "cYsQgeSWalcG"
      },
      "source": [
        "**NumPy Array**\n",
        "* An array is a data structure that stores values of same data type.\n",
        "* While python lists can contain values corresponding to different data types, arrays in python can only contain values corresponding to the same data type.\n",
        "* However python lists fail to deliver the performance required while computing large sets of numerical data. To address this issue we use NumPy arrays.\n",
        "* We can create NumPy arrays by converting a list to an array.\n"
      ]
    },
    {
      "cell_type": "code",
      "execution_count": 3,
      "metadata": {
        "id": "-iMbhbKUS01I"
      },
      "outputs": [],
      "source": [
        "# defining a list of different car companies or string elements\n",
        "arr_str = ['Mercedes', 'BMW', 'Audi', 'Ferrari', 'Tesla']\n",
        "\n",
        "# defining a list of number of cylinders in car or numerical elements\n",
        "arr_num = [5, 4, 6, 7, 3]"
      ]
    },
    {
      "cell_type": "code",
      "execution_count": 4,
      "metadata": {
        "colab": {
          "base_uri": "https://localhost:8080/"
        },
        "id": "z8kfV796S0xz",
        "outputId": "441d59bc-3edf-40cf-c3e7-360c4e0ea770"
      },
      "outputs": [
        {
          "output_type": "stream",
          "name": "stdout",
          "text": [
            "Numpy Array (arr_str):  ['Mercedes' 'BMW' 'Audi' 'Ferrari' 'Tesla']\n",
            "Numpy Array (arr_num):  [5 4 6 7 3]\n"
          ]
        }
      ],
      "source": [
        "# connverting the list arr_str to a NumPy array\n",
        "np_arr_str = np.array(arr_str)\n",
        "\n",
        "\n",
        "# connverting the list arr_num to a NumPy array\n",
        "np_arr_num = np.array(arr_num)\n",
        "\n",
        "# checking the output\n",
        "print('Numpy Array (arr_str): ',np_arr_str)\n",
        "print('Numpy Array (arr_num): ',np_arr_num)"
      ]
    },
    {
      "cell_type": "markdown",
      "metadata": {
        "id": "fNUnCIRbS0vz"
      },
      "source": [
        "The resuts look similar to a list but arr_str and arr_num have been converted to NumPy arrays. Let's check the data type to confirm this."
      ]
    },
    {
      "cell_type": "code",
      "execution_count": 5,
      "metadata": {
        "colab": {
          "base_uri": "https://localhost:8080/"
        },
        "id": "Cc_-eibuS0sr",
        "outputId": "fa74cd38-8827-4537-c059-b8b065548db2"
      },
      "outputs": [
        {
          "output_type": "stream",
          "name": "stdout",
          "text": [
            "Data type of arr_str:  <class 'list'>\n",
            "Data type of arr_num:  <class 'list'>\n",
            "Data type of np_arr_str:  <class 'numpy.ndarray'>\n",
            "Data type of np_arr_num:  <class 'numpy.ndarray'>\n"
          ]
        }
      ],
      "source": [
        "# printing the data type of lists\n",
        "print('Data type of arr_str: ',type(arr_str))\n",
        "print('Data type of arr_num: ',type(arr_num))\n",
        "\n",
        "# printing the data type after conversion of lists to array\n",
        "print('Data type of np_arr_str: ',type(np_arr_str))\n",
        "print('Data type of np_arr_num: ',type(np_arr_num))"
      ]
    },
    {
      "cell_type": "markdown",
      "metadata": {
        "id": "D5MBk_c0gorg"
      },
      "source": [
        "* The above output confirms that both the lists were successfully converted to arrays"
      ]
    },
    {
      "cell_type": "markdown",
      "metadata": {
        "id": "vO-p9figS0qt"
      },
      "source": [
        "**NumPy Matrix**"
      ]
    },
    {
      "cell_type": "markdown",
      "metadata": {
        "id": "63nVxGI-dEFn"
      },
      "source": [
        "* A matrix is a two-dimensional data structure where elements are arranged into rows and columns.\n",
        "* A matrix can be created by using list of lists"
      ]
    },
    {
      "cell_type": "code",
      "execution_count": 6,
      "metadata": {
        "colab": {
          "base_uri": "https://localhost:8080/"
        },
        "id": "eHL0aPSOS0fT",
        "outputId": "4d5cae48-5a31-42a7-e7f8-fd83121e09fa"
      },
      "outputs": [
        {
          "output_type": "stream",
          "name": "stdout",
          "text": [
            "[[1 2 1]\n",
            " [4 5 9]\n",
            " [1 8 9]]\n"
          ]
        }
      ],
      "source": [
        "# let's say we have information of different number of cylinders in a car and we want to display them in a matrix format\n",
        "matrix = np.array([[1,2,1],[4,5,9],[1,8,9]])\n",
        "print(matrix)"
      ]
    },
    {
      "cell_type": "code",
      "execution_count": 7,
      "metadata": {
        "colab": {
          "base_uri": "https://localhost:8080/"
        },
        "id": "1l5-7_3T2svj",
        "outputId": "7695bc2c-33fc-41dc-9cc2-caae65859c20"
      },
      "outputs": [
        {
          "output_type": "stream",
          "name": "stdout",
          "text": [
            "Data type of matrix:  <class 'numpy.ndarray'>\n"
          ]
        }
      ],
      "source": [
        "print('Data type of matrix: ',type(matrix))"
      ]
    },
    {
      "cell_type": "markdown",
      "metadata": {
        "id": "ic8DdniJAYi4"
      },
      "source": [
        "* We see that all the NumPy objects have data type as ndarray"
      ]
    },
    {
      "cell_type": "markdown",
      "metadata": {
        "id": "s_QCIWxNPywk"
      },
      "source": [
        "### 2.2 NumPy Functions"
      ]
    },
    {
      "cell_type": "markdown",
      "metadata": {
        "id": "9ByN9uM8dIp9"
      },
      "source": [
        "**There are different ways to create NumPy arrays using the functions available in NumPy library**"
      ]
    },
    {
      "cell_type": "markdown",
      "metadata": {
        "id": "mJD-BCvcdjQY"
      },
      "source": [
        "**Using np.arange() function**\n",
        "* The np.arange() function returns an array with evenly spaced elements as per the interval. The interval mentioned is half-opened i.e. start is included but stop is excluded.\n",
        "* It has the following paramaters:\n",
        "  * start : start of interval range. By default start = 0\n",
        "  * stop  : end of interval range\n",
        "  * step  : step size of interval. By default step size = 1"
      ]
    },
    {
      "cell_type": "code",
      "execution_count": 8,
      "metadata": {
        "colab": {
          "base_uri": "https://localhost:8080/"
        },
        "id": "h6yhwhCfdhrO",
        "outputId": "9eb8ea90-7edc-46ca-db01-f3da09535ffe"
      },
      "outputs": [
        {
          "output_type": "stream",
          "name": "stdout",
          "text": [
            "[0 1 2 3 4 5 6 7 8 9]\n",
            "[0 1 2 3 4 5 6 7 8 9]\n"
          ]
        }
      ],
      "source": [
        "arr2  = np.arange(start = 0, stop = 10) # 10 will be excluded from the output\n",
        "print(arr2)\n",
        "\n",
        "# or\n",
        "\n",
        "arr2  = np.arange(0,10)\n",
        "print(arr2)"
      ]
    },
    {
      "cell_type": "code",
      "execution_count": 9,
      "metadata": {
        "colab": {
          "base_uri": "https://localhost:8080/"
        },
        "id": "EBQxWv87gij1",
        "outputId": "9bdb4490-1dd4-4431-ec0c-df6cdd784111"
      },
      "outputs": [
        {
          "output_type": "execute_result",
          "data": {
            "text/plain": [
              "array([ 0,  5, 10, 15])"
            ]
          },
          "metadata": {},
          "execution_count": 9
        }
      ],
      "source": [
        "# adding a step size of 5 to create an array\n",
        "arr3  = np.arange(start = 0, stop = 20, step = 5)\n",
        "arr3"
      ]
    },
    {
      "cell_type": "markdown",
      "metadata": {
        "id": "fadu1DMxge1S"
      },
      "source": [
        "**Using np.linspace() function**\n",
        "* The np.linspace() function returns numbers which are evenly distributed with respect to interval. Here the start and stop both are included.            \n",
        "*It has the following parameters:              \n",
        " * start: start of interval range. By default start = 0\n",
        " * stop: end of interval range\n",
        " * num : No. of samples to generate. By default num = 50"
      ]
    },
    {
      "cell_type": "code",
      "execution_count": 10,
      "metadata": {
        "colab": {
          "base_uri": "https://localhost:8080/"
        },
        "id": "AvnueiSGdhb7",
        "outputId": "4e586e75-c1f9-4e71-8d88-60f5449453e4"
      },
      "outputs": [
        {
          "output_type": "execute_result",
          "data": {
            "text/plain": [
              "array([0.        , 0.10204082, 0.20408163, 0.30612245, 0.40816327,\n",
              "       0.51020408, 0.6122449 , 0.71428571, 0.81632653, 0.91836735,\n",
              "       1.02040816, 1.12244898, 1.2244898 , 1.32653061, 1.42857143,\n",
              "       1.53061224, 1.63265306, 1.73469388, 1.83673469, 1.93877551,\n",
              "       2.04081633, 2.14285714, 2.24489796, 2.34693878, 2.44897959,\n",
              "       2.55102041, 2.65306122, 2.75510204, 2.85714286, 2.95918367,\n",
              "       3.06122449, 3.16326531, 3.26530612, 3.36734694, 3.46938776,\n",
              "       3.57142857, 3.67346939, 3.7755102 , 3.87755102, 3.97959184,\n",
              "       4.08163265, 4.18367347, 4.28571429, 4.3877551 , 4.48979592,\n",
              "       4.59183673, 4.69387755, 4.79591837, 4.89795918, 5.        ])"
            ]
          },
          "metadata": {},
          "execution_count": 10
        }
      ],
      "source": [
        "matrix2 = np.linspace(0,5) # by default 50 evenly spaced values will be generated between 0 and 5\n",
        "matrix2"
      ]
    },
    {
      "cell_type": "markdown",
      "metadata": {
        "id": "zR_AydpiBToe"
      },
      "source": [
        "**How are these values getting generated?**\n",
        "\n",
        "The step size or the difference between each element will be decided by the following formula:\n",
        "\n",
        "**(stop - start) / (total elements - 1)**\n",
        "\n",
        "So, in this case:\n",
        "(5 - 0) / 49 = 0.10204082\n",
        "\n",
        "The first value will be 0.10204082, the second value will be 0.10204082 + 0.10204082, the third value will be 0.10204082 + 0.10204082 +0.10204082, and so on."
      ]
    },
    {
      "cell_type": "code",
      "execution_count": 11,
      "metadata": {
        "colab": {
          "base_uri": "https://localhost:8080/"
        },
        "id": "0VDGGmj2dhPp",
        "outputId": "4deee104-3c09-4510-d13c-1df538c782c3"
      },
      "outputs": [
        {
          "output_type": "execute_result",
          "data": {
            "text/plain": [
              "array([10.        , 11.11111111, 12.22222222, 13.33333333, 14.44444444,\n",
              "       15.55555556, 16.66666667, 17.77777778, 18.88888889, 20.        ])"
            ]
          },
          "metadata": {},
          "execution_count": 11
        }
      ],
      "source": [
        "# generating 10 evenly spaced values between 10 and 20\n",
        "matrix3 = np.linspace(10,20,10)\n",
        "matrix3"
      ]
    },
    {
      "cell_type": "markdown",
      "metadata": {
        "id": "8Nxn51w2dhEE"
      },
      "source": [
        "**Similarly we can create matrices using the functions available in NumPy library**"
      ]
    },
    {
      "cell_type": "markdown",
      "metadata": {
        "id": "x9brl-h9dg2b"
      },
      "source": [
        "**Using np.zeros()**\n",
        "\n",
        "* The np.zeros() is a function for creating a matrix and performing matrix operations in NumPy.\n",
        "* It returns a matrix filled with zeros of the given shape.\n",
        "* It has the following parameters:    \n",
        "  * shape : Number of rows and columns in the output matrix.\n",
        "  * dtype: data type of the elements in the matrix, by default the value is set to `float`."
      ]
    },
    {
      "cell_type": "code",
      "execution_count": 12,
      "metadata": {
        "colab": {
          "base_uri": "https://localhost:8080/"
        },
        "id": "zcfKm8ENjNQv",
        "outputId": "065701de-82c7-4576-955a-1baabaf5bbc5"
      },
      "outputs": [
        {
          "output_type": "execute_result",
          "data": {
            "text/plain": [
              "array([[0., 0., 0., 0., 0.],\n",
              "       [0., 0., 0., 0., 0.],\n",
              "       [0., 0., 0., 0., 0.]])"
            ]
          },
          "metadata": {},
          "execution_count": 12
        }
      ],
      "source": [
        "matrix4 = np.zeros([3,5])\n",
        "matrix4"
      ]
    },
    {
      "cell_type": "markdown",
      "metadata": {
        "id": "8jy4YykQjICK"
      },
      "source": [
        "**Using np.ones()**\n",
        "\n",
        "* The np.ones() is another function for creating a matrix and performing matrix operations in NumPy.\n",
        "* It returns a matrix of given shape and type, filled with ones.\n",
        "* It has the following parameters:  \n",
        "  * shape : Number of rows and columns in the output matrix.\n",
        "  * dtype: data type of the elements in the matrix, by default the value is set to `float`."
      ]
    },
    {
      "cell_type": "code",
      "execution_count": 13,
      "metadata": {
        "colab": {
          "base_uri": "https://localhost:8080/"
        },
        "id": "JJ-hv5dcjRN1",
        "outputId": "b2a62885-9567-4246-bffe-611f63fa0551"
      },
      "outputs": [
        {
          "output_type": "execute_result",
          "data": {
            "text/plain": [
              "array([[1., 1., 1., 1., 1.],\n",
              "       [1., 1., 1., 1., 1.],\n",
              "       [1., 1., 1., 1., 1.]])"
            ]
          },
          "metadata": {},
          "execution_count": 13
        }
      ],
      "source": [
        "matrix5 = np.ones([3,5])\n",
        "matrix5"
      ]
    },
    {
      "cell_type": "markdown",
      "metadata": {
        "id": "ge-0i4W2jH4S"
      },
      "source": [
        "**Using np.eye()**\n",
        "* The np.eye() is a function for creating a matrix and performing matrix operations in NumPy.\n",
        "* It returns a matrix with ones on the diagonal and zeros elsewhere.\n",
        "* It has the following parameters:\n",
        "  * n: Number of rows and columns in the output matrix\n",
        "  * dtype: data type of the elements in the matrix, by default the value is set to `float`."
      ]
    },
    {
      "cell_type": "code",
      "execution_count": 14,
      "metadata": {
        "colab": {
          "base_uri": "https://localhost:8080/"
        },
        "id": "2a0_OXeWjHou",
        "outputId": "afa700c4-e315-4dc2-c2d3-a76d64a6adfb"
      },
      "outputs": [
        {
          "output_type": "execute_result",
          "data": {
            "text/plain": [
              "array([[1., 0., 0., 0., 0.],\n",
              "       [0., 1., 0., 0., 0.],\n",
              "       [0., 0., 1., 0., 0.],\n",
              "       [0., 0., 0., 1., 0.],\n",
              "       [0., 0., 0., 0., 1.]])"
            ]
          },
          "metadata": {},
          "execution_count": 14
        }
      ],
      "source": [
        "matrix6 = np.eye(5)\n",
        "matrix6"
      ]
    },
    {
      "cell_type": "markdown",
      "metadata": {
        "id": "DkJp6gB1dgHl"
      },
      "source": [
        "**We can also convert a one dimension array to a matrix. This can be done by using the np.reshape() function.**"
      ]
    },
    {
      "cell_type": "markdown",
      "metadata": {
        "id": "ifxHtcyyuVsX"
      },
      "source": [
        "* The shape of an array basically tells the number of elements and dimensions of the array. Reshaping a Numpy array simply means changing the shape of the given array.\n",
        "* By reshaping an array we can add or remove dimensions or change number of elements in each dimension.\n",
        "* In order to reshape a NumPy array, we use the reshape method with the given array.\n",
        "* **Syntax:** array.reshape(shape)\n",
        "  * shape: a tuple given as input, the values in tuple will be the new shape of the array."
      ]
    },
    {
      "cell_type": "code",
      "execution_count": 15,
      "metadata": {
        "colab": {
          "base_uri": "https://localhost:8080/"
        },
        "id": "iYbHCKdPk5hb",
        "outputId": "bd7bdd35-9432-4a04-91e4-cc2566e38d4d"
      },
      "outputs": [
        {
          "output_type": "execute_result",
          "data": {
            "text/plain": [
              "array([0, 1, 2, 3, 4, 5, 6, 7, 8, 9])"
            ]
          },
          "metadata": {},
          "execution_count": 15
        }
      ],
      "source": [
        "# defining an array with values 0 to 9\n",
        "arr4 = np.arange(0,10)\n",
        "arr4"
      ]
    },
    {
      "cell_type": "code",
      "execution_count": 16,
      "metadata": {
        "colab": {
          "base_uri": "https://localhost:8080/"
        },
        "id": "SE6wnu1MlbXv",
        "outputId": "7f97172e-b0fb-415d-beeb-cd33b61db17a"
      },
      "outputs": [
        {
          "output_type": "execute_result",
          "data": {
            "text/plain": [
              "array([[0, 1, 2, 3, 4],\n",
              "       [5, 6, 7, 8, 9]])"
            ]
          },
          "metadata": {},
          "execution_count": 16
        }
      ],
      "source": [
        "# reshaping the array arr4 to a 2 x 5 matrix\n",
        "arr4_reshaped = arr4.reshape((2,5))\n",
        "arr4_reshaped"
      ]
    },
    {
      "cell_type": "code",
      "execution_count": 17,
      "metadata": {
        "colab": {
          "base_uri": "https://localhost:8080/"
        },
        "id": "KbuGcnPLFT2m",
        "outputId": "1b2f5c18-4989-4ee0-e7f1-7a7ace2ac4d3"
      },
      "outputs": [
        {
          "output_type": "execute_result",
          "data": {
            "text/plain": [
              "array([0, 1, 2, 3, 4, 5, 6, 7, 8, 9])"
            ]
          },
          "metadata": {},
          "execution_count": 17
        }
      ],
      "source": [
        "arr4"
      ]
    },
    {
      "cell_type": "code",
      "execution_count": 18,
      "metadata": {
        "colab": {
          "base_uri": "https://localhost:8080/",
          "height": 197
        },
        "id": "HRqcE-TT_-dQ",
        "outputId": "26380596-9695-4216-8396-54360501c34e"
      },
      "outputs": [
        {
          "output_type": "error",
          "ename": "ValueError",
          "evalue": "cannot reshape array of size 10 into shape (2,6)",
          "traceback": [
            "\u001b[0;31m---------------------------------------------------------------------------\u001b[0m",
            "\u001b[0;31mValueError\u001b[0m                                Traceback (most recent call last)",
            "\u001b[0;32m<ipython-input-18-d52ee4fd36fa>\u001b[0m in \u001b[0;36m<cell line: 2>\u001b[0;34m()\u001b[0m\n\u001b[1;32m      1\u001b[0m \u001b[0;31m# reshaping the array arr4 to a 2 x 6 matrix\u001b[0m\u001b[0;34m\u001b[0m\u001b[0;34m\u001b[0m\u001b[0m\n\u001b[0;32m----> 2\u001b[0;31m \u001b[0marr4\u001b[0m\u001b[0;34m.\u001b[0m\u001b[0mreshape\u001b[0m\u001b[0;34m(\u001b[0m\u001b[0;34m(\u001b[0m\u001b[0;36m2\u001b[0m\u001b[0;34m,\u001b[0m\u001b[0;36m6\u001b[0m\u001b[0;34m)\u001b[0m\u001b[0;34m)\u001b[0m\u001b[0;34m\u001b[0m\u001b[0;34m\u001b[0m\u001b[0m\n\u001b[0m",
            "\u001b[0;31mValueError\u001b[0m: cannot reshape array of size 10 into shape (2,6)"
          ]
        }
      ],
      "source": [
        "# reshaping the array arr4 to a 2 x 6 matrix\n",
        "arr4.reshape((2,6))"
      ]
    },
    {
      "cell_type": "markdown",
      "metadata": {
        "id": "7DGMoYswCocf"
      },
      "source": [
        "* This did not work because we have 10 elements which we are trying to fit in a 2 X 6 shape which will require 12 elements."
      ]
    },
    {
      "cell_type": "markdown",
      "metadata": {
        "id": "lNd_TddVQtWI"
      },
      "source": [
        "**NumPy can also perform a large number of different mathematical operations and it provides different functions to do so.**\n",
        "\n",
        "NumPy provides:\n",
        "1. Trigonometric functions\n",
        "2. Exponents and Logarithmic functions\n",
        "3. Functions for arithmetic operations between arrays and matrices"
      ]
    },
    {
      "cell_type": "markdown",
      "metadata": {
        "id": "CE9wPRdYn5IB"
      },
      "source": [
        "**Trigonometric functions**"
      ]
    },
    {
      "cell_type": "code",
      "execution_count": 19,
      "metadata": {
        "colab": {
          "base_uri": "https://localhost:8080/"
        },
        "id": "6iKAU71XQBXn",
        "outputId": "f0b6ac98-cb02-44fd-b038-8473607bb2af"
      },
      "outputs": [
        {
          "output_type": "stream",
          "name": "stdout",
          "text": [
            "Sine Function: -0.7568024953079282\n",
            "Cosine Function: -0.6536436208636119\n",
            "Tan Function 1.1578212823495775\n"
          ]
        }
      ],
      "source": [
        "print('Sine Function:',np.sin(4))\n",
        "print('Cosine Function:',np.cos(4))\n",
        "print('Tan Function',np.tan(4))"
      ]
    },
    {
      "cell_type": "markdown",
      "metadata": {
        "id": "9QWy471mQEXT"
      },
      "source": [
        "**Exponents and Logarithmic functions**"
      ]
    },
    {
      "cell_type": "markdown",
      "metadata": {
        "id": "BBKFBoABoyRx"
      },
      "source": [
        "* Exponents"
      ]
    },
    {
      "cell_type": "code",
      "execution_count": 20,
      "metadata": {
        "colab": {
          "base_uri": "https://localhost:8080/"
        },
        "id": "aanbLXltoDgt",
        "outputId": "4f7a16cf-84dd-4202-a88a-6a6b42dfcdcc"
      },
      "outputs": [
        {
          "output_type": "execute_result",
          "data": {
            "text/plain": [
              "7.38905609893065"
            ]
          },
          "metadata": {},
          "execution_count": 20
        }
      ],
      "source": [
        "np.exp(2)"
      ]
    },
    {
      "cell_type": "code",
      "execution_count": 21,
      "metadata": {
        "colab": {
          "base_uri": "https://localhost:8080/"
        },
        "id": "9VUfgN_oomI7",
        "outputId": "880bef2e-c46b-4070-fc8b-596460100226"
      },
      "outputs": [
        {
          "output_type": "execute_result",
          "data": {
            "text/plain": [
              "array([  7.3890561 ,  54.59815003, 403.42879349])"
            ]
          },
          "metadata": {},
          "execution_count": 21
        }
      ],
      "source": [
        "arr5 = np.array([2,4,6])\n",
        "np.exp(arr5)"
      ]
    },
    {
      "cell_type": "markdown",
      "metadata": {
        "id": "BgTCC-v6ouZn"
      },
      "source": [
        "* Logarithms"
      ]
    },
    {
      "cell_type": "code",
      "execution_count": 22,
      "metadata": {
        "colab": {
          "base_uri": "https://localhost:8080/"
        },
        "id": "7V8RWfDipHOQ",
        "outputId": "c4a92553-6685-408e-b916-5bcf376f34b9"
      },
      "outputs": [
        {
          "output_type": "execute_result",
          "data": {
            "text/plain": [
              "0.6931471805599453"
            ]
          },
          "metadata": {},
          "execution_count": 22
        }
      ],
      "source": [
        "# by default NumPy takes the base of log as e\n",
        "np.log(2)"
      ]
    },
    {
      "cell_type": "code",
      "execution_count": 23,
      "metadata": {
        "colab": {
          "base_uri": "https://localhost:8080/"
        },
        "id": "CH5eCec2pJLo",
        "outputId": "f2dc5fdc-e13d-48ec-ed81-b23f956d33db"
      },
      "outputs": [
        {
          "output_type": "execute_result",
          "data": {
            "text/plain": [
              "array([0.69314718, 1.38629436, 1.79175947])"
            ]
          },
          "metadata": {},
          "execution_count": 23
        }
      ],
      "source": [
        "np.log(arr5)"
      ]
    },
    {
      "cell_type": "code",
      "execution_count": 24,
      "metadata": {
        "colab": {
          "base_uri": "https://localhost:8080/"
        },
        "id": "bgam8aXTpOVc",
        "outputId": "7f0099a4-cf62-4643-84ef-b493415ddf6e"
      },
      "outputs": [
        {
          "output_type": "execute_result",
          "data": {
            "text/plain": [
              "0.9030899869919435"
            ]
          },
          "metadata": {},
          "execution_count": 24
        }
      ],
      "source": [
        "## log with base 10\n",
        "np.log10(8)"
      ]
    },
    {
      "cell_type": "markdown",
      "metadata": {
        "id": "jDCujvq0pWZr"
      },
      "source": [
        "**Arithmetic Operations on arrays**"
      ]
    },
    {
      "cell_type": "code",
      "execution_count": 25,
      "metadata": {
        "colab": {
          "base_uri": "https://localhost:8080/"
        },
        "id": "SXFDL0TeKJZT",
        "outputId": "e1f01bf6-4460-4a18-aa2d-ade0a1643b6c"
      },
      "outputs": [
        {
          "output_type": "stream",
          "name": "stdout",
          "text": [
            "[1, 2, 3, 4, 5, 6]\n"
          ]
        }
      ],
      "source": [
        "# arithmetic on lists\n",
        "\n",
        "l1 = [1,2,3]\n",
        "l2 = [4,5,6]\n",
        "print(l1+l2)\n",
        "# this does not behave as you would expect!\n"
      ]
    },
    {
      "cell_type": "code",
      "execution_count": 26,
      "metadata": {
        "colab": {
          "base_uri": "https://localhost:8080/"
        },
        "id": "MHZKZFP8ppQx",
        "outputId": "7f36a0ad-e820-4374-80b1-e3a94814a6a2"
      },
      "outputs": [
        {
          "output_type": "stream",
          "name": "stdout",
          "text": [
            "arr7: [1 2 3 4 5]\n",
            "arr8: [3 4 5 6 7]\n"
          ]
        }
      ],
      "source": [
        "# we can +-*/ arrays together\n",
        "\n",
        "# defining two arrays\n",
        "arr7 = np.arange(1,6)\n",
        "print('arr7:', arr7)\n",
        "\n",
        "arr8 = np.arange(3,8)\n",
        "print('arr8:', arr8)"
      ]
    },
    {
      "cell_type": "code",
      "execution_count": 27,
      "metadata": {
        "colab": {
          "base_uri": "https://localhost:8080/"
        },
        "id": "xkMkQOL8rHOw",
        "outputId": "20c886e5-aa89-43fa-9b93-35984b27516b"
      },
      "outputs": [
        {
          "output_type": "stream",
          "name": "stdout",
          "text": [
            "Addition:  [ 4  6  8 10 12]\n",
            "Subtraction:  [2 2 2 2 2]\n",
            "Multiplication: [ 3  8 15 24 35]\n",
            "Division: [0.33333333 0.5        0.6        0.66666667 0.71428571]\n",
            "Inverse: [1.         0.5        0.33333333 0.25       0.2       ]\n",
            "Powers: [    1    16   243  4096 78125]\n"
          ]
        }
      ],
      "source": [
        "print('Addition: ',arr7+arr8)\n",
        "print('Subtraction: ',arr8-arr7)\n",
        "print('Multiplication:' , arr7*arr8)\n",
        "print('Division:', arr7/arr8)\n",
        "print('Inverse:', 1/arr7)\n",
        "print('Powers:', arr7**arr8) # in python, powers are achieved using **, NOT ^!!! ^ does something completely different!\n"
      ]
    },
    {
      "cell_type": "markdown",
      "metadata": {
        "id": "SrE8fcrFtt7c"
      },
      "source": [
        "**Operations on Matrices**"
      ]
    },
    {
      "cell_type": "code",
      "execution_count": 28,
      "metadata": {
        "colab": {
          "base_uri": "https://localhost:8080/"
        },
        "id": "p-lZfDhUrb2b",
        "outputId": "1efde9c5-6a82-4c60-8e47-defefbc82f19"
      },
      "outputs": [
        {
          "output_type": "stream",
          "name": "stdout",
          "text": [
            "[[1 2 3]\n",
            " [4 5 6]\n",
            " [7 8 9]]\n",
            "[[1. 0. 0.]\n",
            " [0. 1. 0.]\n",
            " [0. 0. 1.]]\n"
          ]
        }
      ],
      "source": [
        "matrix7 = np.arange(1,10).reshape(3,3)\n",
        "print(matrix7)\n",
        "\n",
        "matrix8 = np.eye(3)\n",
        "print(matrix8)"
      ]
    },
    {
      "cell_type": "code",
      "execution_count": 29,
      "metadata": {
        "colab": {
          "base_uri": "https://localhost:8080/"
        },
        "id": "VGBAxsUUtyts",
        "outputId": "c7cd6cce-0903-43ff-8f65-a8595457720d"
      },
      "outputs": [
        {
          "output_type": "stream",
          "name": "stdout",
          "text": [
            "Addition: \n",
            " [[ 2.  2.  3.]\n",
            " [ 4.  6.  6.]\n",
            " [ 7.  8. 10.]]\n",
            "Subtraction: \n",
            "  [[0. 2. 3.]\n",
            " [4. 4. 6.]\n",
            " [7. 8. 8.]]\n",
            "Multiplication: \n",
            " [[1. 0. 0.]\n",
            " [0. 5. 0.]\n",
            " [0. 0. 9.]]\n",
            "Division: \n",
            " [[ 1. inf inf]\n",
            " [inf  5. inf]\n",
            " [inf inf  9.]]\n"
          ]
        },
        {
          "output_type": "stream",
          "name": "stderr",
          "text": [
            "<ipython-input-29-b49c47b4c85a>:4: RuntimeWarning: divide by zero encountered in divide\n",
            "  print('Division: \\n', matrix7/matrix8)\n"
          ]
        }
      ],
      "source": [
        "print('Addition: \\n', matrix7+matrix8)\n",
        "print('Subtraction: \\n ', matrix7-matrix8)\n",
        "print('Multiplication: \\n', matrix7*matrix8)\n",
        "print('Division: \\n', matrix7/matrix8)"
      ]
    },
    {
      "cell_type": "markdown",
      "metadata": {
        "id": "c7jHF8Od6mHH"
      },
      "source": [
        "* RuntimeWarning: Errors which occur during program execution(run-time) after successful compilation are called run-time errors.\n",
        "* One of the most common run-time error is division by zero also known as Division error.\n",
        "* Due to division by zero error, we are getting inf (infinity) values because 1/0 is not a defined operation."
      ]
    },
    {
      "cell_type": "markdown",
      "metadata": {
        "id": "3WYcA-OxyL9Y"
      },
      "source": [
        "**Linear algebra matrix multiplication**"
      ]
    },
    {
      "cell_type": "code",
      "execution_count": 30,
      "metadata": {
        "colab": {
          "base_uri": "https://localhost:8080/"
        },
        "id": "nc0PAuG3sM6A",
        "outputId": "9c28dd36-17a3-456a-d6bd-93800807f2ca"
      },
      "outputs": [
        {
          "output_type": "stream",
          "name": "stdout",
          "text": [
            "First Matrix: \n",
            " [[1 2 3]\n",
            " [4 5 6]\n",
            " [7 8 9]]\n",
            "Second Matrix: \n",
            " [[11 12 13]\n",
            " [14 15 16]\n",
            " [17 18 19]]\n",
            "\n",
            "Multiplication: \n",
            " [[ 90  96 102]\n",
            " [216 231 246]\n",
            " [342 366 390]]\n"
          ]
        }
      ],
      "source": [
        "matrix9 = np.arange(1,10).reshape(3,3)\n",
        "print('First Matrix: \\n',matrix9)\n",
        "\n",
        "matrix10 = np.arange(11,20).reshape(3,3)\n",
        "print('Second Matrix: \\n',matrix10)\n",
        "print('')\n",
        "# taking linear algebra matrix multiplication (some may have heard this called the dot product)\n",
        "print('Multiplication: \\n', matrix9 @ matrix10)"
      ]
    },
    {
      "cell_type": "markdown",
      "metadata": {
        "id": "LQVkMw7Iynfu"
      },
      "source": [
        "**Transpose of a matrix**"
      ]
    },
    {
      "cell_type": "code",
      "execution_count": 31,
      "metadata": {
        "colab": {
          "base_uri": "https://localhost:8080/"
        },
        "id": "DJp3NtsrsSM4",
        "outputId": "77c789a3-d778-4b09-d23a-31898bd6da2a"
      },
      "outputs": [
        {
          "output_type": "stream",
          "name": "stdout",
          "text": [
            "[[1 2 3]\n",
            " [4 5 6]\n",
            " [7 8 9]]\n"
          ]
        }
      ],
      "source": [
        "print(matrix9)"
      ]
    },
    {
      "cell_type": "code",
      "execution_count": 32,
      "metadata": {
        "colab": {
          "base_uri": "https://localhost:8080/"
        },
        "id": "MDKJgUlptKet",
        "outputId": "c68c531d-5d26-4c15-b639-da52d7b840a5"
      },
      "outputs": [
        {
          "output_type": "execute_result",
          "data": {
            "text/plain": [
              "array([[1, 4, 7],\n",
              "       [2, 5, 8],\n",
              "       [3, 6, 9]])"
            ]
          },
          "metadata": {},
          "execution_count": 32
        }
      ],
      "source": [
        "# taking transpose of matrix\n",
        "np.transpose(matrix9)"
      ]
    },
    {
      "cell_type": "code",
      "execution_count": 33,
      "metadata": {
        "colab": {
          "base_uri": "https://localhost:8080/"
        },
        "id": "PwwpvruatMRj",
        "outputId": "14fbd560-71a7-405c-bc35-8b6a406ff3b5"
      },
      "outputs": [
        {
          "output_type": "execute_result",
          "data": {
            "text/plain": [
              "array([[1, 4, 7],\n",
              "       [2, 5, 8],\n",
              "       [3, 6, 9]])"
            ]
          },
          "metadata": {},
          "execution_count": 33
        }
      ],
      "source": [
        "# another way of taking a transpose\n",
        "matrix9.T"
      ]
    },
    {
      "cell_type": "markdown",
      "metadata": {
        "id": "YSl_vQk70bCS"
      },
      "source": [
        "**Function to find minimum and maximum values**"
      ]
    },
    {
      "cell_type": "code",
      "execution_count": 34,
      "metadata": {
        "colab": {
          "base_uri": "https://localhost:8080/"
        },
        "id": "TmPZB7tu0a2c",
        "outputId": "d520952a-2e33-4e9f-d9a1-e4e45b7dcebf"
      },
      "outputs": [
        {
          "output_type": "stream",
          "name": "stdout",
          "text": [
            "[[1 2 3]\n",
            " [4 5 6]\n",
            " [7 8 9]]\n"
          ]
        }
      ],
      "source": [
        "print(matrix9)"
      ]
    },
    {
      "cell_type": "code",
      "execution_count": 35,
      "metadata": {
        "colab": {
          "base_uri": "https://localhost:8080/"
        },
        "id": "394LL_BZ0alr",
        "outputId": "ae222e66-a408-4f54-c9f6-7ad6f0d9b0f6"
      },
      "outputs": [
        {
          "output_type": "stream",
          "name": "stdout",
          "text": [
            "Minimum value:  1\n"
          ]
        }
      ],
      "source": [
        "print('Minimum value: ',np.min(matrix9))"
      ]
    },
    {
      "cell_type": "code",
      "execution_count": 36,
      "metadata": {
        "colab": {
          "base_uri": "https://localhost:8080/"
        },
        "id": "SVs2Zx0J0ac3",
        "outputId": "4145c500-6be3-498c-a6dc-02d521a976cc"
      },
      "outputs": [
        {
          "output_type": "stream",
          "name": "stdout",
          "text": [
            "Maximum value:  9\n"
          ]
        }
      ],
      "source": [
        "print('Maximum value: ',np.max(matrix9))"
      ]
    },
    {
      "cell_type": "markdown",
      "metadata": {
        "id": "7NNtvTmh0aRf"
      },
      "source": [
        "**Function to generate random samples**"
      ]
    },
    {
      "cell_type": "markdown",
      "metadata": {
        "id": "XO47Cq8L3Gb3"
      },
      "source": [
        "**Using np.random.rand function**\n",
        "\n",
        "* The np.random.rand returns a random NumPy array whose element(s) are drawn randomly from the normal distribution over [0,1). (including 0 but excluding 1).\n",
        "* **Syntax** - np.random.rand(d0,d1)\n",
        "  * d0,d1 – It represents the dimension of the required array given as int, where d1 is optional."
      ]
    },
    {
      "cell_type": "code",
      "execution_count": 37,
      "metadata": {
        "colab": {
          "base_uri": "https://localhost:8080/"
        },
        "id": "Neq3fBGH4N7F",
        "outputId": "66b23071-cb64-4ff2-a211-39a1960456b2"
      },
      "outputs": [
        {
          "output_type": "stream",
          "name": "stdout",
          "text": [
            "[0.91626316 0.64348987 0.60270964 0.98064123 0.25325037]\n"
          ]
        }
      ],
      "source": [
        "# Generating random values in an array\n",
        "rand_mat = np.random.rand(5)\n",
        "print(rand_mat)"
      ]
    },
    {
      "cell_type": "code",
      "execution_count": 38,
      "metadata": {
        "colab": {
          "base_uri": "https://localhost:8080/"
        },
        "id": "QQHFrAce1570",
        "outputId": "51cb6f95-f9d5-4ffa-9eae-6258d467e8f6"
      },
      "outputs": [
        {
          "output_type": "stream",
          "name": "stdout",
          "text": [
            "[[0.89153812 0.75479661 0.01062652 0.16814683 0.47418133]\n",
            " [0.64417856 0.23834631 0.42354197 0.18170291 0.26565195]\n",
            " [0.7813916  0.04510993 0.53923601 0.64167341 0.68342987]\n",
            " [0.71086348 0.91697262 0.93787814 0.44422429 0.22568638]\n",
            " [0.81929256 0.44733065 0.11624227 0.74919964 0.5290614 ]]\n"
          ]
        }
      ],
      "source": [
        "# * Generating random values in a matrix\n",
        "rand_mat = np.random.rand(5,5) # uniform random variable\n",
        "print(rand_mat)"
      ]
    },
    {
      "cell_type": "markdown",
      "metadata": {
        "id": "VvvK-7Sh3PfD"
      },
      "source": [
        "**Using np.random.randn function**\n",
        "\n",
        "* The np.random.randn returns a random numpy array whose sample(s) are drawn randomly from the standard normal distribution (Mean as 0 and standard deviation as 1)\n",
        "\n",
        "* **Syntax** - np.random.randn(d0,d1)\n",
        "  * d0,d1 – It represents the dimension of the output, where d1 is optional."
      ]
    },
    {
      "cell_type": "code",
      "execution_count": 39,
      "metadata": {
        "colab": {
          "base_uri": "https://localhost:8080/"
        },
        "id": "Ll_boKdQ4Y-b",
        "outputId": "6fa3ba6e-e2c8-4aaf-bbaf-44426ae08b68"
      },
      "outputs": [
        {
          "output_type": "stream",
          "name": "stdout",
          "text": [
            "[ 1.00454787 -0.01629715 -0.13696872  0.673067    0.14948729]\n"
          ]
        }
      ],
      "source": [
        "# Generating random values in an array\n",
        "rand_mat2 = np.random.randn(5)\n",
        "print(rand_mat2)"
      ]
    },
    {
      "cell_type": "code",
      "execution_count": 40,
      "metadata": {
        "colab": {
          "base_uri": "https://localhost:8080/"
        },
        "id": "1jaiT-oZ2CyD",
        "outputId": "d124fffe-891c-42ef-fd4d-b688aeb3e5bf"
      },
      "outputs": [
        {
          "output_type": "stream",
          "name": "stdout",
          "text": [
            "[[ 0.10787031  0.86885074 -0.82612208  0.7582768   1.3581381 ]\n",
            " [-1.33299728 -0.20067649  0.88319999 -0.16783365 -0.65375638]\n",
            " [ 0.93681794 -0.25665962 -1.00490178 -0.09419758 -1.78428931]\n",
            " [-0.16668692  2.24482812 -1.05437408  1.33852294  0.13788357]\n",
            " [ 0.91706297  1.19307482 -0.19550403 -3.67764087  0.93430909]]\n"
          ]
        }
      ],
      "source": [
        "# Generating random values in a matrix\n",
        "rand_mat2 = np.random.randn(5,5)\n",
        "print(rand_mat2)"
      ]
    },
    {
      "cell_type": "code",
      "execution_count": 41,
      "metadata": {
        "colab": {
          "base_uri": "https://localhost:8080/"
        },
        "id": "TldcCrOS5ulV",
        "outputId": "2fa3d0b3-50f9-4d89-8d76-11c5116d0dca"
      },
      "outputs": [
        {
          "output_type": "stream",
          "name": "stdout",
          "text": [
            "Mean: 0.010527812611805994\n",
            "Standard Deviation: 1.2125089142252767\n"
          ]
        }
      ],
      "source": [
        "# Let's check the mean and standard deviation of rand_mat2\n",
        "print('Mean:',np.mean(rand_mat2))\n",
        "print('Standard Deviation:',np.std(rand_mat2))"
      ]
    },
    {
      "cell_type": "markdown",
      "metadata": {
        "id": "66BnHAPW6Ere"
      },
      "source": [
        "*  We observe that the mean is very close to 0 and standard deviation is very close to 1."
      ]
    },
    {
      "cell_type": "markdown",
      "metadata": {
        "id": "T_0yFxGh3U2D"
      },
      "source": [
        "**Using np.random.randint function**\n",
        "\n",
        "* The np.random.randint returns a random numpy array whose element(s) are drawn randomly from low (inclusive) to the high (exclusive) range.\n",
        "\n",
        "* **Syntax** - np.random.randint(low, high, size)\n",
        "\n",
        "  * low – It represents the lowest inclusive bound of the distribution from where the sample can be drawn.\n",
        "  * high – It represents the upper exclusive bound of the distribution from where the sample can be drawn.\n",
        "  * size – It represents the shape of the output."
      ]
    },
    {
      "cell_type": "code",
      "execution_count": 42,
      "metadata": {
        "colab": {
          "base_uri": "https://localhost:8080/"
        },
        "id": "vLPM7a0N2EHA",
        "outputId": "79cc221c-0f81-406b-ad9e-ce6a809e8d52"
      },
      "outputs": [
        {
          "output_type": "stream",
          "name": "stdout",
          "text": [
            "[4 3 1 1 1 2 1 3 2 2]\n"
          ]
        }
      ],
      "source": [
        "# Generating random values in an array\n",
        "rand_mat3 = np.random.randint(1,5,10)\n",
        "print(rand_mat3)"
      ]
    },
    {
      "cell_type": "code",
      "execution_count": 43,
      "metadata": {
        "colab": {
          "base_uri": "https://localhost:8080/"
        },
        "id": "u9YqKltk486n",
        "outputId": "eecb53ed-bff2-4395-995e-cff12a11a39c"
      },
      "outputs": [
        {
          "output_type": "stream",
          "name": "stdout",
          "text": [
            "[[7 7 7 9 5]\n",
            " [3 6 5 7 3]\n",
            " [7 5 4 7 9]\n",
            " [8 1 6 5 3]\n",
            " [6 4 6 5 1]]\n"
          ]
        }
      ],
      "source": [
        "# Generating random values in a matrix\n",
        "rand_mat3 = np.random.randint(1,10,[5,5])\n",
        "print(rand_mat3)"
      ]
    },
    {
      "cell_type": "markdown",
      "metadata": {
        "id": "J-K_ecWJ6M6n"
      },
      "source": [
        "### 2.3 Accessing the entries of a Numpy Array"
      ]
    },
    {
      "cell_type": "code",
      "execution_count": 44,
      "metadata": {
        "colab": {
          "base_uri": "https://localhost:8080/"
        },
        "id": "4Tiy6KJw3a5A",
        "outputId": "e84ce2c0-a47a-4383-8810-ed98f5c09ffc"
      },
      "outputs": [
        {
          "output_type": "stream",
          "name": "stdout",
          "text": [
            "[-0.06855616 -0.88897415 -0.70688558  0.79211105  0.41175084  1.55361611\n",
            "  0.29054864  0.66272462  1.12919555 -1.04267105]\n"
          ]
        }
      ],
      "source": [
        "# let's generate an array with 10 random values\n",
        "rand_arr = np.random.randn(10)\n",
        "print(rand_arr)"
      ]
    },
    {
      "cell_type": "markdown",
      "metadata": {
        "id": "gJlNtFKwaZUv"
      },
      "source": [
        "* Accessing one element from an array"
      ]
    },
    {
      "cell_type": "code",
      "execution_count": 45,
      "metadata": {
        "colab": {
          "base_uri": "https://localhost:8080/"
        },
        "id": "PtSqbI-Y3awc",
        "outputId": "28fdbedd-d9f4-4a71-bd2b-ac77751b15c7"
      },
      "outputs": [
        {
          "output_type": "stream",
          "name": "stdout",
          "text": [
            "0.2905486403729098\n"
          ]
        }
      ],
      "source": [
        "# accessing the 6 th entry of rand_arr\n",
        "print(rand_arr[6])"
      ]
    },
    {
      "cell_type": "markdown",
      "metadata": {
        "id": "Ywt2eQx-aZUv"
      },
      "source": [
        "* Accessing multiple elements from an array"
      ]
    },
    {
      "cell_type": "code",
      "execution_count": 46,
      "metadata": {
        "colab": {
          "base_uri": "https://localhost:8080/"
        },
        "id": "HZ8Yb_3h3amG",
        "outputId": "d7d599bb-851c-4c34-fa4f-00adcaeb49bb"
      },
      "outputs": [
        {
          "output_type": "stream",
          "name": "stdout",
          "text": [
            "[0.41175084 1.55361611 0.29054864 0.66272462 1.12919555]\n"
          ]
        }
      ],
      "source": [
        "# we can access multiple entries at once using\n",
        "print(rand_arr[4:9])"
      ]
    },
    {
      "cell_type": "code",
      "execution_count": 47,
      "metadata": {
        "colab": {
          "base_uri": "https://localhost:8080/"
        },
        "id": "pNcRsFbK3aZP",
        "outputId": "9dfe1932-ff66-4003-c4ce-1351ee307e7e"
      },
      "outputs": [
        {
          "output_type": "stream",
          "name": "stdout",
          "text": [
            "Index of values to access:  [3 6 9]\n",
            "[ 0.79211105  0.29054864 -1.04267105]\n"
          ]
        }
      ],
      "source": [
        "# we can also access multiple non-consecutive entries using np.arange\n",
        "print('Index of values to access: ',np.arange(3,10,3))\n",
        "print(rand_arr[np.arange(3,10,3)])"
      ]
    },
    {
      "cell_type": "markdown",
      "metadata": {
        "id": "m0_dOkPKc7bL"
      },
      "source": [
        "**Accessing arrays using logical operations**"
      ]
    },
    {
      "cell_type": "code",
      "execution_count": 48,
      "metadata": {
        "colab": {
          "base_uri": "https://localhost:8080/"
        },
        "id": "_8v77EwOcwPM",
        "outputId": "fb0c4288-c7bb-4934-87f9-ff9ba3f4f4de"
      },
      "outputs": [
        {
          "output_type": "stream",
          "name": "stdout",
          "text": [
            "[-0.06855616 -0.88897415 -0.70688558  0.79211105  0.41175084  1.55361611\n",
            "  0.29054864  0.66272462  1.12919555 -1.04267105]\n"
          ]
        }
      ],
      "source": [
        "print(rand_arr)"
      ]
    },
    {
      "cell_type": "code",
      "execution_count": 49,
      "metadata": {
        "colab": {
          "base_uri": "https://localhost:8080/"
        },
        "id": "u7QvbkGfc_Mf",
        "outputId": "424440c8-3935-4e03-9b51-30a1fe80c9f3"
      },
      "outputs": [
        {
          "output_type": "execute_result",
          "data": {
            "text/plain": [
              "array([False, False, False,  True,  True,  True,  True,  True,  True,\n",
              "       False])"
            ]
          },
          "metadata": {},
          "execution_count": 49
        }
      ],
      "source": [
        "rand_arr>0"
      ]
    },
    {
      "cell_type": "code",
      "execution_count": 50,
      "metadata": {
        "colab": {
          "base_uri": "https://localhost:8080/"
        },
        "id": "PwjFRjDiczAS",
        "outputId": "eacd4848-cdd5-46f0-819c-4a8cb49e32da"
      },
      "outputs": [
        {
          "output_type": "stream",
          "name": "stdout",
          "text": [
            "Values greater than 0:  [0.79211105 0.41175084 1.55361611 0.29054864 0.66272462 1.12919555]\n",
            "Values less than 0:  [-0.06855616 -0.88897415 -0.70688558 -1.04267105]\n"
          ]
        }
      ],
      "source": [
        "# accessing all the values of rand_arr which are greater than 0\n",
        "print('Values greater than 0: ',rand_arr[rand_arr>0])\n",
        "\n",
        "# accessing all the values of rand_arr which are less than 0\n",
        "print('Values less than 0: ',rand_arr[rand_arr<0])"
      ]
    },
    {
      "cell_type": "markdown",
      "metadata": {
        "id": "9j2nb_lX3aKJ"
      },
      "source": [
        "**Accessing the entries of a Matrix**"
      ]
    },
    {
      "cell_type": "code",
      "execution_count": 51,
      "metadata": {
        "colab": {
          "base_uri": "https://localhost:8080/"
        },
        "id": "rUT3MtuX3Z-o",
        "outputId": "7d9c208f-6219-4129-f5ab-be2ec264b2c8"
      },
      "outputs": [
        {
          "output_type": "stream",
          "name": "stdout",
          "text": [
            "[[-1.3429567  -1.54080281  2.17371899  0.59731626 -0.48558444]\n",
            " [ 0.87459046  1.21590262 -0.53662791  0.82267071 -2.64268838]\n",
            " [ 0.76303961 -1.15262358 -0.40366477  0.33318454  1.22728936]\n",
            " [ 0.09942444 -0.57103689  0.77925567 -1.0273136   0.8215713 ]\n",
            " [ 0.4048173  -0.23345271 -0.99163907  0.17398936  0.02942884]]\n"
          ]
        }
      ],
      "source": [
        "# let's generate an array with 10 random values\n",
        "rand_mat = np.random.randn(5,5)\n",
        "print(rand_mat)"
      ]
    },
    {
      "cell_type": "code",
      "execution_count": 52,
      "metadata": {
        "colab": {
          "base_uri": "https://localhost:8080/"
        },
        "id": "aH5KNWYJ8AAi",
        "outputId": "73cc6dd6-a616-41ab-9e35-9d477259efe5"
      },
      "outputs": [
        {
          "output_type": "execute_result",
          "data": {
            "text/plain": [
              "array([ 0.87459046,  1.21590262, -0.53662791,  0.82267071, -2.64268838])"
            ]
          },
          "metadata": {},
          "execution_count": 52
        }
      ],
      "source": [
        "# acessing the second row of the rand_mat\n",
        "rand_mat[1]"
      ]
    },
    {
      "cell_type": "code",
      "execution_count": 53,
      "metadata": {
        "colab": {
          "base_uri": "https://localhost:8080/"
        },
        "id": "cKPauEeS3Zya",
        "outputId": "a50216c2-5b3f-4983-d65c-6455aa18c3fa"
      },
      "outputs": [
        {
          "output_type": "stream",
          "name": "stdout",
          "text": [
            "-0.5366279114475054\n",
            "-0.5366279114475054\n"
          ]
        }
      ],
      "source": [
        "# acessing third element of the second row\n",
        "print(rand_mat[1][2])\n",
        "\n",
        "#or\n",
        "\n",
        "print(rand_mat[1,2])"
      ]
    },
    {
      "cell_type": "code",
      "execution_count": 54,
      "metadata": {
        "colab": {
          "base_uri": "https://localhost:8080/"
        },
        "id": "md90xMiX3ZhX",
        "outputId": "0484f95b-8898-4b62-c396-30180ccd573f"
      },
      "outputs": [
        {
          "output_type": "stream",
          "name": "stdout",
          "text": [
            "[[-1.54080281  2.17371899]\n",
            " [ 1.21590262 -0.53662791]]\n"
          ]
        }
      ],
      "source": [
        "# accessing first two rows with second and third column\n",
        "print(rand_mat[0:2,1:3])"
      ]
    },
    {
      "cell_type": "markdown",
      "metadata": {
        "id": "ZQIPaCTxdTkx"
      },
      "source": [
        "**Accessing matrices using logical operations**"
      ]
    },
    {
      "cell_type": "code",
      "execution_count": 55,
      "metadata": {
        "colab": {
          "base_uri": "https://localhost:8080/"
        },
        "id": "FPWAgqcMdTkx",
        "outputId": "312f0aec-5e08-4e3d-de69-d0514ccecc8e"
      },
      "outputs": [
        {
          "output_type": "stream",
          "name": "stdout",
          "text": [
            "[[-1.3429567  -1.54080281  2.17371899  0.59731626 -0.48558444]\n",
            " [ 0.87459046  1.21590262 -0.53662791  0.82267071 -2.64268838]\n",
            " [ 0.76303961 -1.15262358 -0.40366477  0.33318454  1.22728936]\n",
            " [ 0.09942444 -0.57103689  0.77925567 -1.0273136   0.8215713 ]\n",
            " [ 0.4048173  -0.23345271 -0.99163907  0.17398936  0.02942884]]\n"
          ]
        }
      ],
      "source": [
        "print(rand_mat)"
      ]
    },
    {
      "cell_type": "code",
      "execution_count": 56,
      "metadata": {
        "colab": {
          "base_uri": "https://localhost:8080/"
        },
        "id": "5pBwxeo_dTky",
        "outputId": "fbfc4e16-8f8f-4b64-e69a-96c1fd5b2b3b"
      },
      "outputs": [
        {
          "output_type": "stream",
          "name": "stdout",
          "text": [
            "Values greater than 0: \n",
            "  [2.17371899 0.59731626 0.87459046 1.21590262 0.82267071 0.76303961\n",
            " 0.33318454 1.22728936 0.09942444 0.77925567 0.8215713  0.4048173\n",
            " 0.17398936 0.02942884]\n",
            "Values less than 0: \n",
            " [-1.3429567  -1.54080281 -0.48558444 -0.53662791 -2.64268838 -1.15262358\n",
            " -0.40366477 -0.57103689 -1.0273136  -0.23345271 -0.99163907]\n"
          ]
        }
      ],
      "source": [
        "# accessing all the values of rand_mat which are greater than 0\n",
        "print('Values greater than 0: \\n ',rand_mat[rand_mat>0])\n",
        "\n",
        "# accessing all the values of rand_mat which are less than 0\n",
        "print('Values less than 0: \\n',rand_mat[rand_mat<0])"
      ]
    },
    {
      "cell_type": "markdown",
      "metadata": {
        "id": "Rbc_yo5T8mmS"
      },
      "source": [
        "**Modifying the entries of an Array**"
      ]
    },
    {
      "cell_type": "code",
      "execution_count": 57,
      "metadata": {
        "colab": {
          "base_uri": "https://localhost:8080/"
        },
        "id": "2P57NUFJ8mMA",
        "outputId": "8a5600ed-3eda-4424-84a1-1af1ad300856"
      },
      "outputs": [
        {
          "output_type": "stream",
          "name": "stdout",
          "text": [
            "[-0.06855616 -0.88897415 -0.70688558  0.79211105  0.41175084  1.55361611\n",
            "  0.29054864  0.66272462  1.12919555 -1.04267105]\n"
          ]
        }
      ],
      "source": [
        "print(rand_arr)\n"
      ]
    },
    {
      "cell_type": "code",
      "execution_count": 58,
      "metadata": {
        "colab": {
          "base_uri": "https://localhost:8080/"
        },
        "id": "5dTfDf2d-DF7",
        "outputId": "c193f913-08fe-4ff1-aa80-244a9062ff2d"
      },
      "outputs": [
        {
          "output_type": "stream",
          "name": "stdout",
          "text": [
            "[-0.06855616 -0.88897415 -0.70688558  5.          5.          1.55361611\n",
            "  0.29054864  0.66272462  1.12919555 -1.04267105]\n"
          ]
        }
      ],
      "source": [
        "# let's change some values in an array!\n",
        "# changing the values of index value 3 and index value 4 to 5\n",
        "rand_arr[3:5] = 5\n",
        "print(rand_arr)"
      ]
    },
    {
      "cell_type": "code",
      "execution_count": 59,
      "metadata": {
        "colab": {
          "base_uri": "https://localhost:8080/"
        },
        "id": "dC1yVJLT-H9H",
        "outputId": "5dedfb1b-816a-490d-b73c-f2afb775c1a5"
      },
      "outputs": [
        {
          "output_type": "stream",
          "name": "stdout",
          "text": [
            "[ 2.          3.         -0.70688558  5.          5.          1.55361611\n",
            "  0.29054864  0.66272462  1.12919555 -1.04267105]\n"
          ]
        }
      ],
      "source": [
        "# changing the values of index value 0 and index value 1 to 2 and 3 respectively\n",
        "rand_arr[0:2] = [2,3]\n",
        "print(rand_arr)"
      ]
    },
    {
      "cell_type": "code",
      "execution_count": 60,
      "metadata": {
        "colab": {
          "base_uri": "https://localhost:8080/"
        },
        "id": "wT3ishttMugE",
        "outputId": "2fb860ed-5f9b-43dc-82f0-6e1c1312d55e"
      },
      "outputs": [
        {
          "output_type": "execute_result",
          "data": {
            "text/plain": [
              "array([65.        , 65.        , -0.70688558, 65.        , 65.        ,\n",
              "       65.        , 65.        , 65.        , 65.        , -1.04267105])"
            ]
          },
          "metadata": {},
          "execution_count": 60
        }
      ],
      "source": [
        "# modify entries using logical references\n",
        "rand_arr[rand_arr>0] = 65\n",
        "rand_arr"
      ]
    },
    {
      "cell_type": "markdown",
      "metadata": {
        "id": "lhoMit_Da8F4"
      },
      "source": [
        "**Modifying the entries of a Matrix**"
      ]
    },
    {
      "cell_type": "code",
      "execution_count": 61,
      "metadata": {
        "colab": {
          "base_uri": "https://localhost:8080/"
        },
        "id": "fJ02uz8obsqC",
        "outputId": "e27453b5-0eef-48f0-e586-2630ba99e8dd"
      },
      "outputs": [
        {
          "output_type": "stream",
          "name": "stdout",
          "text": [
            "[[7 7 7 9 5]\n",
            " [3 6 5 7 3]\n",
            " [7 5 4 7 9]\n",
            " [8 1 6 5 3]\n",
            " [6 4 6 5 1]]\n"
          ]
        }
      ],
      "source": [
        "print(rand_mat3)"
      ]
    },
    {
      "cell_type": "code",
      "execution_count": 62,
      "metadata": {
        "colab": {
          "base_uri": "https://localhost:8080/"
        },
        "id": "dVNbm4oKNtkr",
        "outputId": "9cd64294-66a8-45bd-d870-2dea101ef325"
      },
      "outputs": [
        {
          "output_type": "stream",
          "name": "stdout",
          "text": [
            "Matrix before modification: \n",
            " [[7 7 7 9 5]\n",
            " [3 6 5 7 3]\n",
            " [7 5 4 7 9]\n",
            " [8 1 6 5 3]\n",
            " [6 4 6 5 1]]\n",
            "Matrix after modification: \n",
            " [[7 7 7 9 5]\n",
            " [3 6 5 0 0]\n",
            " [7 5 4 0 0]\n",
            " [8 1 6 5 3]\n",
            " [6 4 6 5 1]]\n"
          ]
        }
      ],
      "source": [
        "# changing the values of the 4th and 5th element of the second and third rows of the matrix to 0\n",
        "print('Matrix before modification: \\n',rand_mat3)\n",
        "rand_mat3[1:3,3:5] = 0\n",
        "print('Matrix after modification: \\n',rand_mat3)"
      ]
    },
    {
      "cell_type": "code",
      "execution_count": 63,
      "metadata": {
        "colab": {
          "base_uri": "https://localhost:8080/"
        },
        "id": "uP3butowNtvp",
        "outputId": "8be84ce8-c623-4d5d-d1b7-53ca6c91ec8a"
      },
      "outputs": [
        {
          "output_type": "stream",
          "name": "stdout",
          "text": [
            "[[-1.3429567  -1.54080281  2.17371899]\n",
            " [ 0.87459046  1.21590262 -0.53662791]]\n"
          ]
        }
      ],
      "source": [
        "# extracting the first 2 rows and first 3 columns from the matrix\n",
        "sub_mat = rand_mat[0:2,0:3]\n",
        "print(sub_mat)"
      ]
    },
    {
      "cell_type": "code",
      "execution_count": 64,
      "metadata": {
        "colab": {
          "base_uri": "https://localhost:8080/"
        },
        "id": "3DgctOvENt14",
        "outputId": "12ff9beb-679c-4728-beb1-08f53d949ac2"
      },
      "outputs": [
        {
          "output_type": "stream",
          "name": "stdout",
          "text": [
            "[[3. 3. 3.]\n",
            " [3. 3. 3.]]\n"
          ]
        }
      ],
      "source": [
        "# changing all the values of the extracted matrix to 3\n",
        "sub_mat[:] = 3\n",
        "print(sub_mat)"
      ]
    },
    {
      "cell_type": "code",
      "execution_count": 65,
      "metadata": {
        "colab": {
          "base_uri": "https://localhost:8080/"
        },
        "id": "hskgV9vG9lxx",
        "outputId": "b5cf8064-2f3b-4ef3-d514-544268418dc9"
      },
      "outputs": [
        {
          "output_type": "execute_result",
          "data": {
            "text/plain": [
              "array([[ 3.        ,  3.        ,  3.        ,  0.59731626, -0.48558444],\n",
              "       [ 3.        ,  3.        ,  3.        ,  0.82267071, -2.64268838],\n",
              "       [ 0.76303961, -1.15262358, -0.40366477,  0.33318454,  1.22728936],\n",
              "       [ 0.09942444, -0.57103689,  0.77925567, -1.0273136 ,  0.8215713 ],\n",
              "       [ 0.4048173 , -0.23345271, -0.99163907,  0.17398936,  0.02942884]])"
            ]
          },
          "metadata": {},
          "execution_count": 65
        }
      ],
      "source": [
        "# what happened to rand_mat when we change sub_mat?\n",
        "rand_mat"
      ]
    },
    {
      "cell_type": "code",
      "execution_count": 66,
      "metadata": {
        "colab": {
          "base_uri": "https://localhost:8080/"
        },
        "id": "PryCb2h29sHx",
        "outputId": "1f3dd7ab-9533-48e7-c58f-a6584faf0582"
      },
      "outputs": [
        {
          "output_type": "stream",
          "name": "stdout",
          "text": [
            "[[-0.28528654  1.19556603 -0.17520911  1.09245755 -1.07254738]\n",
            " [ 1.15872564  0.09096076 -0.65027778 -0.47251937  0.71280674]\n",
            " [ 0.11312691 -0.10126556 -1.28384086  0.79275562 -0.60468539]\n",
            " [ 1.19774279 -0.36109209  0.5463858  -0.33476661 -0.02626924]\n",
            " [ 0.67028848 -0.63065077  1.56581986 -0.34218154 -1.12701028]]\n",
            "[[3. 3. 3.]\n",
            " [3. 3. 3.]]\n",
            "[[-0.28528654  1.19556603 -0.17520911  1.09245755 -1.07254738]\n",
            " [ 1.15872564  0.09096076 -0.65027778 -0.47251937  0.71280674]\n",
            " [ 0.11312691 -0.10126556 -1.28384086  0.79275562 -0.60468539]\n",
            " [ 1.19774279 -0.36109209  0.5463858  -0.33476661 -0.02626924]\n",
            " [ 0.67028848 -0.63065077  1.56581986 -0.34218154 -1.12701028]]\n"
          ]
        }
      ],
      "source": [
        "# to prevent this behavior we need to use the .copy() method when we assign sub_mat\n",
        "# this behavior is the source of MANY errors for early python users!!!\n",
        "\n",
        "rand_mat = np.random.randn(5,5)\n",
        "print(rand_mat)\n",
        "sub_mat = rand_mat[0:2,0:3].copy()\n",
        "sub_mat[:] = 3\n",
        "print(sub_mat)\n",
        "print(rand_mat)"
      ]
    },
    {
      "cell_type": "markdown",
      "metadata": {
        "id": "Uhy7xJlW0aDT"
      },
      "source": [
        "### 2.4 Saving and Loading a NumPy array"
      ]
    },
    {
      "cell_type": "markdown",
      "metadata": {
        "id": "qlyONcw5FeSh"
      },
      "source": [
        "**Let's save some NumPy objects on the disk for use later!**"
      ]
    },
    {
      "cell_type": "code",
      "execution_count": 67,
      "metadata": {
        "id": "gikqL10PzrC1",
        "colab": {
          "base_uri": "https://localhost:8080/"
        },
        "outputId": "bcef12c2-feb8-4a91-e392-a41983cdef5e"
      },
      "outputs": [
        {
          "output_type": "stream",
          "name": "stdout",
          "text": [
            "Drive already mounted at /content/drive; to attempt to forcibly remount, call drive.mount(\"/content/drive\", force_remount=True).\n"
          ]
        }
      ],
      "source": [
        "from google.colab import drive\n",
        "drive.mount('/content/drive')"
      ]
    },
    {
      "cell_type": "code",
      "execution_count": 68,
      "metadata": {
        "id": "G_w4dYUtFzZO",
        "colab": {
          "base_uri": "https://localhost:8080/"
        },
        "outputId": "0b3281d5-8bad-477d-e194-165b54ba2c3c"
      },
      "outputs": [
        {
          "output_type": "stream",
          "name": "stdout",
          "text": [
            "[[7 8 4 1 2]\n",
            " [7 1 9 5 1]]\n",
            "\n",
            "[[17 14 17 18 14]\n",
            " [18 15 18 11 15]]\n"
          ]
        }
      ],
      "source": [
        "# creating a random matrices\n",
        "randint_matrix1 = np.random.randint(1,10,10).reshape(2,5)\n",
        "print(randint_matrix1)\n",
        "print('')\n",
        "randint_matrix2 = np.random.randint(10,20,10).reshape(2,5)\n",
        "print(randint_matrix2)"
      ]
    },
    {
      "cell_type": "markdown",
      "metadata": {
        "id": "rysUk_pSFU1O"
      },
      "source": [
        "**Using np.save() function**"
      ]
    },
    {
      "cell_type": "code",
      "execution_count": 75,
      "metadata": {
        "id": "k9TyLFJ-tkU2"
      },
      "outputs": [],
      "source": [
        "np.save(\"/content/drive/MyDrive/Colab Notebooks/AIML Online Jan'24/Module 1 - Introduction to Python/Week 1/Video Content/saved_file_name\",randint_matrix1)"
      ]
    },
    {
      "cell_type": "markdown",
      "metadata": {
        "id": "VMfbQlc2FYNl"
      },
      "source": [
        "**Using np.savez() function**"
      ]
    },
    {
      "cell_type": "code",
      "execution_count": 76,
      "metadata": {
        "id": "dhtVPefIRfGP"
      },
      "outputs": [],
      "source": [
        "np.savez(\"/content/drive/MyDrive/Colab Notebooks/AIML Online Jan'24/Module 1 - Introduction to Python/Week 1/Video Content/multiple_files\",randint_matrix1=randint_matrix1,randint_matrix2=randint_matrix2)"
      ]
    },
    {
      "cell_type": "markdown",
      "metadata": {
        "id": "hDbZNqdLDj35"
      },
      "source": [
        "* The files will be saved in the directory where the Jupyter Notebook is located.\n",
        "* With np.save() function, we can save an array/matrix to a NumPy .npy format.\n",
        "* np.savez() function has an advantage over np.save() function because with np.savez(), we can store several arrays/matrices into a single file in uncompressed .npz format."
      ]
    },
    {
      "cell_type": "code",
      "execution_count": 77,
      "metadata": {
        "id": "h7mYd86cZeTq",
        "colab": {
          "base_uri": "https://localhost:8080/"
        },
        "outputId": "11aace61-cac9-4778-c920-e4bb6cfa1de7"
      },
      "outputs": [
        {
          "output_type": "stream",
          "name": "stdout",
          "text": [
            "[[7 8 4 1 2]\n",
            " [7 1 9 5 1]]\n",
            "\n",
            "<numpy.lib.npyio.NpzFile object at 0x7f02cc710d60>\n"
          ]
        }
      ],
      "source": [
        "# now let's load it\n",
        "loaded_arr = np.load(\"/content/drive/MyDrive/Colab Notebooks/AIML Online Jan'24/Module 1 - Introduction to Python/Week 1/Video Content/saved_file_name.npy\")\n",
        "loaded_multi = np.load(\"/content/drive/MyDrive/Colab Notebooks/AIML Online Jan'24/Module 1 - Introduction to Python/Week 1/Video Content/multiple_files.npz\")\n",
        "\n",
        "print(loaded_arr)\n",
        "print('')\n",
        "print(loaded_multi)"
      ]
    },
    {
      "cell_type": "markdown",
      "metadata": {
        "id": "21XxghDDG69T"
      },
      "source": [
        "* We see that .npy file has been loaded but the .npz file is returning a memory location.\n",
        "* Let's see how to load the values stored in .npz file."
      ]
    },
    {
      "cell_type": "code",
      "execution_count": 78,
      "metadata": {
        "id": "VezEM4uPZeZk",
        "colab": {
          "base_uri": "https://localhost:8080/"
        },
        "outputId": "d1235a6f-aeb2-4bb5-9aad-394d2adb2ead"
      },
      "outputs": [
        {
          "output_type": "stream",
          "name": "stdout",
          "text": [
            "1st Matrix: \n",
            " [[7 8 4 1 2]\n",
            " [7 1 9 5 1]]\n",
            "2nd Matrix: \n",
            " [[17 14 17 18 14]\n",
            " [18 15 18 11 15]]\n",
            "New Matrix: \n",
            " [[7 8 4 1 2]\n",
            " [7 1 9 5 1]]\n"
          ]
        }
      ],
      "source": [
        "print('1st Matrix: \\n',loaded_multi['randint_matrix1'])\n",
        "print('2nd Matrix: \\n',loaded_multi['randint_matrix2'])\n",
        "\n",
        "new_matrix  = loaded_multi['randint_matrix1']\n",
        "print('New Matrix: \\n',new_matrix)"
      ]
    },
    {
      "cell_type": "code",
      "execution_count": 79,
      "metadata": {
        "id": "AyyZjATxZefd",
        "colab": {
          "base_uri": "https://localhost:8080/"
        },
        "outputId": "35a2ab19-00ba-4d53-89d0-7a5185e08bec"
      },
      "outputs": [
        {
          "output_type": "stream",
          "name": "stdout",
          "text": [
            "[[7 8 4 1 2]\n",
            " [7 1 9 5 1]]\n",
            "\n",
            "[[7. 8. 4. 1. 2.]\n",
            " [7. 1. 9. 5. 1.]]\n"
          ]
        }
      ],
      "source": [
        "# we can also save/load text files...but only single variables\n",
        "np.savetxt(\"/content/drive/MyDrive/Colab Notebooks/AIML Online Jan'24/Module 1 - Introduction to Python/Week 1/Video Content/text_file_name.txt\",randint_matrix1,delimiter=',')\n",
        "rand_mat_txt = np.loadtxt(\"/content/drive/MyDrive/Colab Notebooks/AIML Online Jan'24/Module 1 - Introduction to Python/Week 1/Video Content/text_file_name.txt\",delimiter=',')\n",
        "print(randint_matrix1)\n",
        "print('')\n",
        "print(rand_mat_txt)"
      ]
    },
    {
      "cell_type": "code",
      "execution_count": 80,
      "metadata": {
        "id": "WiTOg-jNzE82",
        "colab": {
          "base_uri": "https://localhost:8080/"
        },
        "outputId": "33a0019f-1823-44ae-b2db-2b6b950325cc"
      },
      "outputs": [
        {
          "output_type": "stream",
          "name": "stdout",
          "text": [
            "[[ 0  1  2]\n",
            " [ 3  4  5]\n",
            " [ 6  7  8]\n",
            " [ 9 10 11]]\n"
          ]
        }
      ],
      "source": [
        "vec1 = np.arange(0, 12)\n",
        "vec2 = vec1.reshape(4, 3)\n",
        "print(vec2)"
      ]
    },
    {
      "cell_type": "code",
      "execution_count": null,
      "metadata": {
        "id": "uBb3ebBx5Nsz"
      },
      "outputs": [],
      "source": []
    }
  ],
  "metadata": {
    "colab": {
      "provenance": [],
      "include_colab_link": true
    },
    "kernelspec": {
      "display_name": "Python 3 (ipykernel)",
      "language": "python",
      "name": "python3"
    },
    "language_info": {
      "codemirror_mode": {
        "name": "ipython",
        "version": 3
      },
      "file_extension": ".py",
      "mimetype": "text/x-python",
      "name": "python",
      "nbconvert_exporter": "python",
      "pygments_lexer": "ipython3",
      "version": "3.11.4"
    }
  },
  "nbformat": 4,
  "nbformat_minor": 0
}